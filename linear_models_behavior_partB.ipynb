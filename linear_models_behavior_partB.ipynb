{
  "nbformat": 4,
  "nbformat_minor": 0,
  "metadata": {
    "colab": {
      "name": "linear_models_behavior_partB.ipynb",
      "provenance": [],
      "collapsed_sections": []
    },
    "kernelspec": {
      "name": "python3",
      "display_name": "Python 3"
    },
    "language_info": {
      "name": "python"
    }
  },
  "cells": [
    {
      "cell_type": "code",
      "execution_count": null,
      "metadata": {
        "id": "ogOUF352zCYf"
      },
      "outputs": [],
      "source": [
        "import  numpy as np\n",
        "import pandas as pd\n",
        "import matplotlib.pyplot as plt\n",
        "from sklearn.linear_model import SGDClassifier\n",
        "from sklearn.linear_model import LogisticRegression\n",
        "from sklearn.preprocessing import StandardScaler,Normalizer\n",
        "from sklearn.svm import SVC\n",
        "import warnings\n",
        "warnings.filterwarnings(\"ignore\")"
      ]
    },
    {
      "cell_type": "code",
      "source": [
        "from google.colab import drive\n",
        "drive.mount('/content/drive')"
      ],
      "metadata": {
        "colab": {
          "base_uri": "https://localhost:8080/"
        },
        "id": "0B6pp0Cb0oGy",
        "outputId": "5a71c77c-ab4b-4466-de43-d9a503f99914"
      },
      "execution_count": null,
      "outputs": [
        {
          "output_type": "stream",
          "name": "stdout",
          "text": [
            "Mounted at /content/drive\n"
          ]
        }
      ]
    },
    {
      "cell_type": "code",
      "source": [
        "df = pd.read_csv('/content/drive/My Drive/task_b.csv')\n",
        "df.head(3)"
      ],
      "metadata": {
        "colab": {
          "base_uri": "https://localhost:8080/",
          "height": 143
        },
        "id": "22qvRtQh1yd-",
        "outputId": "03cca555-9646-4457-da1c-4ba128e2f7e3"
      },
      "execution_count": null,
      "outputs": [
        {
          "output_type": "execute_result",
          "data": {
            "text/plain": [
              "   index           f1            f2        f3    y\n",
              "0      0  -195.871045 -14843.084171  5.532140  1.0\n",
              "1      1 -1217.183964  -4068.124621  4.416082  1.0\n",
              "2      2     9.138451   4413.412028  0.425317  0.0"
            ],
            "text/html": [
              "\n",
              "  <div id=\"df-c516cb92-70a0-4f64-a78a-4042edcf2348\">\n",
              "    <div class=\"colab-df-container\">\n",
              "      <div>\n",
              "<style scoped>\n",
              "    .dataframe tbody tr th:only-of-type {\n",
              "        vertical-align: middle;\n",
              "    }\n",
              "\n",
              "    .dataframe tbody tr th {\n",
              "        vertical-align: top;\n",
              "    }\n",
              "\n",
              "    .dataframe thead th {\n",
              "        text-align: right;\n",
              "    }\n",
              "</style>\n",
              "<table border=\"1\" class=\"dataframe\">\n",
              "  <thead>\n",
              "    <tr style=\"text-align: right;\">\n",
              "      <th></th>\n",
              "      <th>index</th>\n",
              "      <th>f1</th>\n",
              "      <th>f2</th>\n",
              "      <th>f3</th>\n",
              "      <th>y</th>\n",
              "    </tr>\n",
              "  </thead>\n",
              "  <tbody>\n",
              "    <tr>\n",
              "      <th>0</th>\n",
              "      <td>0</td>\n",
              "      <td>-195.871045</td>\n",
              "      <td>-14843.084171</td>\n",
              "      <td>5.532140</td>\n",
              "      <td>1.0</td>\n",
              "    </tr>\n",
              "    <tr>\n",
              "      <th>1</th>\n",
              "      <td>1</td>\n",
              "      <td>-1217.183964</td>\n",
              "      <td>-4068.124621</td>\n",
              "      <td>4.416082</td>\n",
              "      <td>1.0</td>\n",
              "    </tr>\n",
              "    <tr>\n",
              "      <th>2</th>\n",
              "      <td>2</td>\n",
              "      <td>9.138451</td>\n",
              "      <td>4413.412028</td>\n",
              "      <td>0.425317</td>\n",
              "      <td>0.0</td>\n",
              "    </tr>\n",
              "  </tbody>\n",
              "</table>\n",
              "</div>\n",
              "      <button class=\"colab-df-convert\" onclick=\"convertToInteractive('df-c516cb92-70a0-4f64-a78a-4042edcf2348')\"\n",
              "              title=\"Convert this dataframe to an interactive table.\"\n",
              "              style=\"display:none;\">\n",
              "        \n",
              "  <svg xmlns=\"http://www.w3.org/2000/svg\" height=\"24px\"viewBox=\"0 0 24 24\"\n",
              "       width=\"24px\">\n",
              "    <path d=\"M0 0h24v24H0V0z\" fill=\"none\"/>\n",
              "    <path d=\"M18.56 5.44l.94 2.06.94-2.06 2.06-.94-2.06-.94-.94-2.06-.94 2.06-2.06.94zm-11 1L8.5 8.5l.94-2.06 2.06-.94-2.06-.94L8.5 2.5l-.94 2.06-2.06.94zm10 10l.94 2.06.94-2.06 2.06-.94-2.06-.94-.94-2.06-.94 2.06-2.06.94z\"/><path d=\"M17.41 7.96l-1.37-1.37c-.4-.4-.92-.59-1.43-.59-.52 0-1.04.2-1.43.59L10.3 9.45l-7.72 7.72c-.78.78-.78 2.05 0 2.83L4 21.41c.39.39.9.59 1.41.59.51 0 1.02-.2 1.41-.59l7.78-7.78 2.81-2.81c.8-.78.8-2.07 0-2.86zM5.41 20L4 18.59l7.72-7.72 1.47 1.35L5.41 20z\"/>\n",
              "  </svg>\n",
              "      </button>\n",
              "      \n",
              "  <style>\n",
              "    .colab-df-container {\n",
              "      display:flex;\n",
              "      flex-wrap:wrap;\n",
              "      gap: 12px;\n",
              "    }\n",
              "\n",
              "    .colab-df-convert {\n",
              "      background-color: #E8F0FE;\n",
              "      border: none;\n",
              "      border-radius: 50%;\n",
              "      cursor: pointer;\n",
              "      display: none;\n",
              "      fill: #1967D2;\n",
              "      height: 32px;\n",
              "      padding: 0 0 0 0;\n",
              "      width: 32px;\n",
              "    }\n",
              "\n",
              "    .colab-df-convert:hover {\n",
              "      background-color: #E2EBFA;\n",
              "      box-shadow: 0px 1px 2px rgba(60, 64, 67, 0.3), 0px 1px 3px 1px rgba(60, 64, 67, 0.15);\n",
              "      fill: #174EA6;\n",
              "    }\n",
              "\n",
              "    [theme=dark] .colab-df-convert {\n",
              "      background-color: #3B4455;\n",
              "      fill: #D2E3FC;\n",
              "    }\n",
              "\n",
              "    [theme=dark] .colab-df-convert:hover {\n",
              "      background-color: #434B5C;\n",
              "      box-shadow: 0px 1px 3px 1px rgba(0, 0, 0, 0.15);\n",
              "      filter: drop-shadow(0px 1px 2px rgba(0, 0, 0, 0.3));\n",
              "      fill: #FFFFFF;\n",
              "    }\n",
              "  </style>\n",
              "\n",
              "      <script>\n",
              "        const buttonEl =\n",
              "          document.querySelector('#df-c516cb92-70a0-4f64-a78a-4042edcf2348 button.colab-df-convert');\n",
              "        buttonEl.style.display =\n",
              "          google.colab.kernel.accessAllowed ? 'block' : 'none';\n",
              "\n",
              "        async function convertToInteractive(key) {\n",
              "          const element = document.querySelector('#df-c516cb92-70a0-4f64-a78a-4042edcf2348');\n",
              "          const dataTable =\n",
              "            await google.colab.kernel.invokeFunction('convertToInteractive',\n",
              "                                                     [key], {});\n",
              "          if (!dataTable) return;\n",
              "\n",
              "          const docLinkHtml = 'Like what you see? Visit the ' +\n",
              "            '<a target=\"_blank\" href=https://colab.research.google.com/notebooks/data_table.ipynb>data table notebook</a>'\n",
              "            + ' to learn more about interactive tables.';\n",
              "          element.innerHTML = '';\n",
              "          dataTable['output_type'] = 'display_data';\n",
              "          await google.colab.output.renderOutput(dataTable, element);\n",
              "          const docLink = document.createElement('div');\n",
              "          docLink.innerHTML = docLinkHtml;\n",
              "          element.appendChild(docLink);\n",
              "        }\n",
              "      </script>\n",
              "    </div>\n",
              "  </div>\n",
              "  "
            ]
          },
          "metadata": {},
          "execution_count": 3
        }
      ]
    },
    {
      "cell_type": "code",
      "source": [
        "x=df[['f1','f2','f3']].values\n",
        "y=df['y'].values\n",
        "print(x.shape)\n",
        "print(y.shape)"
      ],
      "metadata": {
        "colab": {
          "base_uri": "https://localhost:8080/"
        },
        "id": "byXGiIVM3Y9k",
        "outputId": "50edb7e4-3c65-4ef0-a4b0-d82e66ce2678"
      },
      "execution_count": null,
      "outputs": [
        {
          "output_type": "stream",
          "name": "stdout",
          "text": [
            "(200, 3)\n",
            "(200,)\n"
          ]
        }
      ]
    },
    {
      "cell_type": "code",
      "source": [
        "#to understand the variance of the features, we will see the standard deviation of them. Standard deviation is the square root of variance\n",
        "x=df[['f1','f2','f3']].values\n",
        "y=df['y'].values\n",
        "print(df.std())"
      ],
      "metadata": {
        "colab": {
          "base_uri": "https://localhost:8080/"
        },
        "id": "gwTJFx2V1ykq",
        "outputId": "ceec3603-8c55-44b7-c6c7-19b94123b218"
      },
      "execution_count": null,
      "outputs": [
        {
          "output_type": "stream",
          "name": "stdout",
          "text": [
            "index       57.879185\n",
            "f1         488.195035\n",
            "f2       10403.417325\n",
            "f3           2.926662\n",
            "y            0.501255\n",
            "dtype: float64\n"
          ]
        }
      ]
    },
    {
      "cell_type": "markdown",
      "source": [
        "here, we can see that var(f2) > var(f1) > var(f3)"
      ],
      "metadata": {
        "id": "EpPZ0-Mz3BcU"
      }
    },
    {
      "cell_type": "markdown",
      "source": [
        "task 1: Apply Logistic regression(SGDClassifier with logloss) on 'data' and check the feature importance"
      ],
      "metadata": {
        "id": "UijBjxdM3QsC"
      }
    },
    {
      "cell_type": "code",
      "source": [
        "clf = SGDClassifier(loss = 'log',random_state=42)\n",
        "clf.fit(x,y)"
      ],
      "metadata": {
        "colab": {
          "base_uri": "https://localhost:8080/"
        },
        "id": "eNL-JBUX1yqk",
        "outputId": "5ab6c9d8-003a-4653-d139-72775b38bf1b"
      },
      "execution_count": null,
      "outputs": [
        {
          "output_type": "execute_result",
          "data": {
            "text/plain": [
              "SGDClassifier(loss='log', random_state=42)"
            ]
          },
          "metadata": {},
          "execution_count": 7
        }
      ]
    },
    {
      "cell_type": "code",
      "source": [
        "coefficients={}\n",
        "for coef,feature in zip(clf.coef_[0,:],['f1','f2','f3']):\n",
        "  coefficients[feature] = coef\n",
        "\n",
        "print(coefficients)  "
      ],
      "metadata": {
        "colab": {
          "base_uri": "https://localhost:8080/"
        },
        "id": "xL4fXb7o5PNR",
        "outputId": "a382feaa-35a3-4146-b4ab-fb541a7143c0"
      },
      "execution_count": null,
      "outputs": [
        {
          "output_type": "stream",
          "name": "stdout",
          "text": [
            "{'f1': 8252.617126394438, 'f2': -9979.999399845494, 'f3': 10367.642231334077}\n"
          ]
        }
      ]
    },
    {
      "cell_type": "markdown",
      "source": [
        "Observations:\n",
        "Here, we can see that 'f3' is more prominent for classification of positive class and 'f2' for negative class. As, we have 2 features that help in classifying postive class but 'f2' is the only one to help with negative class and this could be credited to it's high variance.[link text](https://https://stackoverflow.com/questions/34052115/how-to-find-the-importance-of-the-features-for-a-logistic-regression-model#comment55860291_34052747)"
      ],
      "metadata": {
        "id": "JpZdk9H15ysY"
      }
    },
    {
      "cell_type": "markdown",
      "source": [
        "Apply SVM(SGDClassifier with hinge) on 'data' and check the feature importance"
      ],
      "metadata": {
        "id": "NmOt4lbA8ijp"
      }
    },
    {
      "cell_type": "code",
      "source": [
        "clf = SGDClassifier(loss='hinge',random_state=42)\n",
        "clf.fit(x,y)"
      ],
      "metadata": {
        "colab": {
          "base_uri": "https://localhost:8080/"
        },
        "id": "7ZFKlLfP1ywT",
        "outputId": "7262aee4-a19f-4ae7-aea3-45409e9e6d49"
      },
      "execution_count": null,
      "outputs": [
        {
          "output_type": "execute_result",
          "data": {
            "text/plain": [
              "SGDClassifier(random_state=42)"
            ]
          },
          "metadata": {},
          "execution_count": 9
        }
      ]
    },
    {
      "cell_type": "code",
      "source": [
        "coefficients={}\n",
        "for coef,feature in zip(clf.coef_[0,:],['f1','f2','f3']):\n",
        "  coefficients[feature] = coef\n",
        "\n",
        "print(coefficients)  "
      ],
      "metadata": {
        "colab": {
          "base_uri": "https://localhost:8080/"
        },
        "id": "5lMfTd-b1yzw",
        "outputId": "64a01a14-7246-4b34-d431-de87114d8975"
      },
      "execution_count": null,
      "outputs": [
        {
          "output_type": "stream",
          "name": "stdout",
          "text": [
            "{'f1': -7107.373899102203, 'f2': 9364.07983619022, 'f3': 9088.735939707904}\n"
          ]
        }
      ]
    },
    {
      "cell_type": "markdown",
      "source": [
        "Observations: Here, 'f1' is more occuring in the negative class and 'f2','f3' are more occuring in positive class"
      ],
      "metadata": {
        "id": "L3rqVsUi8O_J"
      }
    },
    {
      "cell_type": "markdown",
      "source": [
        "Task 2:"
      ],
      "metadata": {
        "id": "PXaQTGpp8eCB"
      }
    },
    {
      "cell_type": "markdown",
      "source": [
        "1.Apply Logistic regression(SGDClassifier with logloss) on 'data' after standardization \n",
        "       i.e standardization(data, column wise): (column-mean(column))/std(column) and check the feature importance"
      ],
      "metadata": {
        "id": "ZKPacgs78kZi"
      }
    },
    {
      "cell_type": "code",
      "source": [
        "x_std = StandardScaler().fit_transform(df[['f1','f2','f3']])"
      ],
      "metadata": {
        "id": "Gw5EVbOY0oSJ"
      },
      "execution_count": null,
      "outputs": []
    },
    {
      "cell_type": "code",
      "source": [
        "clf = SGDClassifier(loss='log',random_state=42)\n",
        "clf.fit(x_std,y)"
      ],
      "metadata": {
        "colab": {
          "base_uri": "https://localhost:8080/"
        },
        "id": "FyFRm2Hf0oc9",
        "outputId": "8e9d01bc-51ff-4def-9141-cc33cb04923b"
      },
      "execution_count": null,
      "outputs": [
        {
          "output_type": "execute_result",
          "data": {
            "text/plain": [
              "SGDClassifier(loss='log', random_state=42)"
            ]
          },
          "metadata": {},
          "execution_count": 12
        }
      ]
    },
    {
      "cell_type": "code",
      "source": [
        "coefficients={}\n",
        "for coef,feature in zip(clf.coef_[0,:],['f1','f2','f3']):\n",
        "  coefficients[feature] = coef\n",
        "\n",
        "print(coefficients)  "
      ],
      "metadata": {
        "colab": {
          "base_uri": "https://localhost:8080/"
        },
        "id": "cC5TstqvCjKQ",
        "outputId": "f494e5f9-4db1-45cd-aba0-f0ee74668170"
      },
      "execution_count": null,
      "outputs": [
        {
          "output_type": "stream",
          "name": "stdout",
          "text": [
            "{'f1': 2.306949148477717, 'f2': 4.394031919103951, 'f3': 11.532839429320834}\n"
          ]
        }
      ]
    },
    {
      "cell_type": "code",
      "source": [
        "clf = SGDClassifier(loss='hinge',random_state=42)\n",
        "clf.fit(x_std,y)"
      ],
      "metadata": {
        "colab": {
          "base_uri": "https://localhost:8080/"
        },
        "id": "qBlWktwQ0oq4",
        "outputId": "25baa287-f28f-4dd0-8a73-21da6c768f71"
      },
      "execution_count": null,
      "outputs": [
        {
          "output_type": "execute_result",
          "data": {
            "text/plain": [
              "SGDClassifier(random_state=42)"
            ]
          },
          "metadata": {},
          "execution_count": 14
        }
      ]
    },
    {
      "cell_type": "code",
      "source": [
        "coefficients={}\n",
        "for coef,feature in zip(clf.coef_[0,:],['f1','f2','f3']):\n",
        "  coefficients[feature] = coef\n",
        "\n",
        "print(coefficients)  "
      ],
      "metadata": {
        "colab": {
          "base_uri": "https://localhost:8080/"
        },
        "id": "IS75VP9cCyQQ",
        "outputId": "660519f9-a573-46f0-c040-6ae98efb29b5"
      },
      "execution_count": null,
      "outputs": [
        {
          "output_type": "stream",
          "name": "stdout",
          "text": [
            "{'f1': -1.9661832545379097, 'f2': 2.430602858071307, 'f3': 13.547043799043973}\n"
          ]
        }
      ]
    },
    {
      "cell_type": "markdown",
      "source": [
        "Observations:\n",
        "Here, we can see that that 'f3' has greater value meaning it's feature importance is  higher. However, this wasn't the case with before standardizing. Hence, the effect of standardizing is shown. In SVM, 'f1' still is more occuring in negative class. This concludes that standardizing affect on class determining."
      ],
      "metadata": {
        "id": "2V2e6YbKDSYv"
      }
    }
  ]
}