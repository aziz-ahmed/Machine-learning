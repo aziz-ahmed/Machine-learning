{
  "nbformat": 4,
  "nbformat_minor": 0,
  "metadata": {
    "colab": {
      "name": "performance_metrics_without_sklearn.ipynb",
      "provenance": [],
      "collapsed_sections": []
    },
    "kernelspec": {
      "name": "python3",
      "display_name": "Python 3"
    },
    "language_info": {
      "name": "python"
    }
  },
  "cells": [
    {
      "cell_type": "code",
      "execution_count": null,
      "metadata": {
        "id": "17aCjQe9_hBS"
      },
      "outputs": [],
      "source": [
        "import pandas as pd\n",
        "import numpy as np"
      ]
    },
    {
      "cell_type": "code",
      "source": [
        "from google.colab import drive\n",
        "drive.mount('/content/drive')"
      ],
      "metadata": {
        "colab": {
          "base_uri": "https://localhost:8080/"
        },
        "id": "KBXGSLfsAAYP",
        "outputId": "30ebaed8-e2c9-40c9-af65-fefcd09ee294"
      },
      "execution_count": null,
      "outputs": [
        {
          "output_type": "stream",
          "name": "stdout",
          "text": [
            "Drive already mounted at /content/drive; to attempt to forcibly remount, call drive.mount(\"/content/drive\", force_remount=True).\n"
          ]
        }
      ]
    },
    {
      "cell_type": "code",
      "source": [
        "df=pd.read_csv('drive/My Drive/5_a.csv')"
      ],
      "metadata": {
        "id": "j5kAh3UCEu1r"
      },
      "execution_count": null,
      "outputs": []
    },
    {
      "cell_type": "code",
      "source": [
        "df.head()"
      ],
      "metadata": {
        "colab": {
          "base_uri": "https://localhost:8080/",
          "height": 206
        },
        "id": "JfZ9DW56GN1m",
        "outputId": "88748ed4-ae32-402f-d206-9d41ecec911a"
      },
      "execution_count": null,
      "outputs": [
        {
          "output_type": "execute_result",
          "data": {
            "text/plain": [
              "     y     proba\n",
              "0  1.0  0.637387\n",
              "1  1.0  0.635165\n",
              "2  1.0  0.766586\n",
              "3  1.0  0.724564\n",
              "4  1.0  0.889199"
            ],
            "text/html": [
              "\n",
              "  <div id=\"df-b85cd996-29c7-4248-b285-91520aa4eff8\">\n",
              "    <div class=\"colab-df-container\">\n",
              "      <div>\n",
              "<style scoped>\n",
              "    .dataframe tbody tr th:only-of-type {\n",
              "        vertical-align: middle;\n",
              "    }\n",
              "\n",
              "    .dataframe tbody tr th {\n",
              "        vertical-align: top;\n",
              "    }\n",
              "\n",
              "    .dataframe thead th {\n",
              "        text-align: right;\n",
              "    }\n",
              "</style>\n",
              "<table border=\"1\" class=\"dataframe\">\n",
              "  <thead>\n",
              "    <tr style=\"text-align: right;\">\n",
              "      <th></th>\n",
              "      <th>y</th>\n",
              "      <th>proba</th>\n",
              "    </tr>\n",
              "  </thead>\n",
              "  <tbody>\n",
              "    <tr>\n",
              "      <th>0</th>\n",
              "      <td>1.0</td>\n",
              "      <td>0.637387</td>\n",
              "    </tr>\n",
              "    <tr>\n",
              "      <th>1</th>\n",
              "      <td>1.0</td>\n",
              "      <td>0.635165</td>\n",
              "    </tr>\n",
              "    <tr>\n",
              "      <th>2</th>\n",
              "      <td>1.0</td>\n",
              "      <td>0.766586</td>\n",
              "    </tr>\n",
              "    <tr>\n",
              "      <th>3</th>\n",
              "      <td>1.0</td>\n",
              "      <td>0.724564</td>\n",
              "    </tr>\n",
              "    <tr>\n",
              "      <th>4</th>\n",
              "      <td>1.0</td>\n",
              "      <td>0.889199</td>\n",
              "    </tr>\n",
              "  </tbody>\n",
              "</table>\n",
              "</div>\n",
              "      <button class=\"colab-df-convert\" onclick=\"convertToInteractive('df-b85cd996-29c7-4248-b285-91520aa4eff8')\"\n",
              "              title=\"Convert this dataframe to an interactive table.\"\n",
              "              style=\"display:none;\">\n",
              "        \n",
              "  <svg xmlns=\"http://www.w3.org/2000/svg\" height=\"24px\"viewBox=\"0 0 24 24\"\n",
              "       width=\"24px\">\n",
              "    <path d=\"M0 0h24v24H0V0z\" fill=\"none\"/>\n",
              "    <path d=\"M18.56 5.44l.94 2.06.94-2.06 2.06-.94-2.06-.94-.94-2.06-.94 2.06-2.06.94zm-11 1L8.5 8.5l.94-2.06 2.06-.94-2.06-.94L8.5 2.5l-.94 2.06-2.06.94zm10 10l.94 2.06.94-2.06 2.06-.94-2.06-.94-.94-2.06-.94 2.06-2.06.94z\"/><path d=\"M17.41 7.96l-1.37-1.37c-.4-.4-.92-.59-1.43-.59-.52 0-1.04.2-1.43.59L10.3 9.45l-7.72 7.72c-.78.78-.78 2.05 0 2.83L4 21.41c.39.39.9.59 1.41.59.51 0 1.02-.2 1.41-.59l7.78-7.78 2.81-2.81c.8-.78.8-2.07 0-2.86zM5.41 20L4 18.59l7.72-7.72 1.47 1.35L5.41 20z\"/>\n",
              "  </svg>\n",
              "      </button>\n",
              "      \n",
              "  <style>\n",
              "    .colab-df-container {\n",
              "      display:flex;\n",
              "      flex-wrap:wrap;\n",
              "      gap: 12px;\n",
              "    }\n",
              "\n",
              "    .colab-df-convert {\n",
              "      background-color: #E8F0FE;\n",
              "      border: none;\n",
              "      border-radius: 50%;\n",
              "      cursor: pointer;\n",
              "      display: none;\n",
              "      fill: #1967D2;\n",
              "      height: 32px;\n",
              "      padding: 0 0 0 0;\n",
              "      width: 32px;\n",
              "    }\n",
              "\n",
              "    .colab-df-convert:hover {\n",
              "      background-color: #E2EBFA;\n",
              "      box-shadow: 0px 1px 2px rgba(60, 64, 67, 0.3), 0px 1px 3px 1px rgba(60, 64, 67, 0.15);\n",
              "      fill: #174EA6;\n",
              "    }\n",
              "\n",
              "    [theme=dark] .colab-df-convert {\n",
              "      background-color: #3B4455;\n",
              "      fill: #D2E3FC;\n",
              "    }\n",
              "\n",
              "    [theme=dark] .colab-df-convert:hover {\n",
              "      background-color: #434B5C;\n",
              "      box-shadow: 0px 1px 3px 1px rgba(0, 0, 0, 0.15);\n",
              "      filter: drop-shadow(0px 1px 2px rgba(0, 0, 0, 0.3));\n",
              "      fill: #FFFFFF;\n",
              "    }\n",
              "  </style>\n",
              "\n",
              "      <script>\n",
              "        const buttonEl =\n",
              "          document.querySelector('#df-b85cd996-29c7-4248-b285-91520aa4eff8 button.colab-df-convert');\n",
              "        buttonEl.style.display =\n",
              "          google.colab.kernel.accessAllowed ? 'block' : 'none';\n",
              "\n",
              "        async function convertToInteractive(key) {\n",
              "          const element = document.querySelector('#df-b85cd996-29c7-4248-b285-91520aa4eff8');\n",
              "          const dataTable =\n",
              "            await google.colab.kernel.invokeFunction('convertToInteractive',\n",
              "                                                     [key], {});\n",
              "          if (!dataTable) return;\n",
              "\n",
              "          const docLinkHtml = 'Like what you see? Visit the ' +\n",
              "            '<a target=\"_blank\" href=https://colab.research.google.com/notebooks/data_table.ipynb>data table notebook</a>'\n",
              "            + ' to learn more about interactive tables.';\n",
              "          element.innerHTML = '';\n",
              "          dataTable['output_type'] = 'display_data';\n",
              "          await google.colab.output.renderOutput(dataTable, element);\n",
              "          const docLink = document.createElement('div');\n",
              "          docLink.innerHTML = docLinkHtml;\n",
              "          element.appendChild(docLink);\n",
              "        }\n",
              "      </script>\n",
              "    </div>\n",
              "  </div>\n",
              "  "
            ]
          },
          "metadata": {},
          "execution_count": 4
        }
      ]
    },
    {
      "cell_type": "code",
      "source": [
        "df['proba'] = np.where(df['proba'] > 0.5, 1, df['proba'])\n",
        "df['proba']=np.where(df['proba'] < 0.5,0,df['proba'])\n",
        "print(df['proba'])"
      ],
      "metadata": {
        "id": "HgNLs7tCGoWZ",
        "colab": {
          "base_uri": "https://localhost:8080/"
        },
        "outputId": "e5bd6f7c-74ae-4a20-9c15-867b445db6d4"
      },
      "execution_count": null,
      "outputs": [
        {
          "output_type": "stream",
          "name": "stdout",
          "text": [
            "0        1.0\n",
            "1        1.0\n",
            "2        1.0\n",
            "3        1.0\n",
            "4        1.0\n",
            "        ... \n",
            "10095    1.0\n",
            "10096    1.0\n",
            "10097    1.0\n",
            "10098    1.0\n",
            "10099    1.0\n",
            "Name: proba, Length: 10100, dtype: float64\n"
          ]
        }
      ]
    },
    {
      "cell_type": "code",
      "source": [
        "'''\n",
        "tpr_array=[]\n",
        "fpr_array=[]\n",
        "sort= df.sort_values(\"proba\",ascending=False) # sort sart based on probability scores\n",
        "for i in range(0,len(sort)):\n",
        "    sort['y_pred']=np.where(sort['proba']>=sort.iloc[i]['proba'],1,0) # predicting the y based on each threshold\n",
        "    TP,FP,TN,FN=perf_metr(df['y'],df['proba'])    # for each threshold calculating confusion matrix\n",
        "    fpr_rate=FP/(TN+FP)\n",
        "    tpr_rate=TP/(TP+FN)\n",
        "    tpr_array.append(tpr_rate)\n",
        "    fpr_array.append(fpr_rate)\n",
        "c=np.trapz(tpr_array, fpr_array)'''"
      ],
      "metadata": {
        "colab": {
          "base_uri": "https://localhost:8080/",
          "height": 91
        },
        "id": "nvP8RB__LflT",
        "outputId": "e1c80bbc-efa4-4d75-d79d-3b5e8b5fbb0b"
      },
      "execution_count": null,
      "outputs": [
        {
          "output_type": "execute_result",
          "data": {
            "text/plain": [
              "'\\ntpr_array=[]\\nfpr_array=[]\\nsort= df.sort_values(\"proba\",ascending=False) # sort sart based on probability scores\\nfor i in range(0,len(sort)):\\n    sort[\\'y_pred\\']=np.where(sort[\\'proba\\']>=sort.iloc[i][\\'proba\\'],1,0) # predicting the y based on each threshold\\n    TP,FP,TN,FN=perf_metr(df[\\'y\\'],df[\\'proba\\'])    # for each threshold calculating confusion matrix\\n    fpr_rate=FP/(TN+FP)\\n    tpr_rate=TP/(TP+FN)\\n    tpr_array.append(tpr_rate)\\n    fpr_array.append(fpr_rate)\\nc=np.trapz(tpr_array, fpr_array)'"
            ],
            "application/vnd.google.colaboratory.intrinsic+json": {
              "type": "string"
            }
          },
          "metadata": {},
          "execution_count": 6
        }
      ]
    },
    {
      "cell_type": "markdown",
      "source": [
        "Confusion matrix"
      ],
      "metadata": {
        "id": "Tl1gUrR-TuPM"
      }
    },
    {
      "cell_type": "code",
      "source": [
        "conf_mat=pd.crosstab(df['y'],df['proba'])\n",
        "#https://moonbooks.org/Articles/How-to-create-and-plot-a-contingency-table-or-crosstab-from-two-dataframe-columns-using-pandas-in-python-/"
      ],
      "metadata": {
        "id": "us2mT6ROLhhm"
      },
      "execution_count": null,
      "outputs": []
    },
    {
      "cell_type": "code",
      "source": [
        "print(conf_mat)"
      ],
      "metadata": {
        "colab": {
          "base_uri": "https://localhost:8080/"
        },
        "id": "8OPuG2e0Mwfy",
        "outputId": "cac6846c-feaf-46d5-a6b6-ccee69abd965"
      },
      "execution_count": null,
      "outputs": [
        {
          "output_type": "stream",
          "name": "stdout",
          "text": [
            "proba    1.0\n",
            "y           \n",
            "0.0      100\n",
            "1.0    10000\n"
          ]
        }
      ]
    },
    {
      "cell_type": "code",
      "source": [
        "from sklearn.metrics import confusion_matrix"
      ],
      "metadata": {
        "id": "bBlRlP6EGb5h"
      },
      "execution_count": null,
      "outputs": []
    },
    {
      "cell_type": "code",
      "source": [
        "confusion_matrix(df['y'],df['proba'])"
      ],
      "metadata": {
        "id": "bGMX759jGcHH",
        "colab": {
          "base_uri": "https://localhost:8080/"
        },
        "outputId": "7edae172-f028-4370-c545-bbe35699337c"
      },
      "execution_count": null,
      "outputs": [
        {
          "output_type": "execute_result",
          "data": {
            "text/plain": [
              "array([[    0,   100],\n",
              "       [    0, 10000]])"
            ]
          },
          "metadata": {},
          "execution_count": 10
        }
      ]
    },
    {
      "cell_type": "markdown",
      "source": [
        ""
      ],
      "metadata": {
        "id": "xbbGZ5dTUXmb"
      }
    },
    {
      "cell_type": "code",
      "source": [
        "def perf_metr(actual,pred):\n",
        "  TP=0\n",
        "  FP=0\n",
        "  TN=0\n",
        "  FN=0\n",
        "  for i in range(len(pred)):\n",
        "    if actual[i]==pred[i]==1:\n",
        "      TP+=1\n",
        "    if actual[i]!=pred[i] and pred[i]==1:\n",
        "      FP+=1\n",
        "    if actual[i]==pred[i]==0:\n",
        "      TN+=1\n",
        "    if actual[i]!=pred[i] and pred[i]==0:\n",
        "      FN+=1\n",
        "  return TP,FP,TN,FN      "
      ],
      "metadata": {
        "id": "58j2mxn7UWrB"
      },
      "execution_count": null,
      "outputs": []
    },
    {
      "cell_type": "code",
      "source": [
        "basic_metr=list(perf_metr(df['y'],df['proba']))\n",
        "basic_metr"
      ],
      "metadata": {
        "colab": {
          "base_uri": "https://localhost:8080/"
        },
        "id": "RdL8d1siX3Hj",
        "outputId": "41886300-4a02-4b24-c1f9-1e978fbb7236"
      },
      "execution_count": null,
      "outputs": [
        {
          "output_type": "execute_result",
          "data": {
            "text/plain": [
              "[10000, 100, 0, 0]"
            ]
          },
          "metadata": {},
          "execution_count": 12
        }
      ]
    },
    {
      "cell_type": "code",
      "source": [
        "precision=basic_metr[0]/(basic_metr[0]+basic_metr[1])\n",
        "recall=basic_metr[0]/(basic_metr[0]+basic_metr[3])\n",
        "print(precision,recall)"
      ],
      "metadata": {
        "colab": {
          "base_uri": "https://localhost:8080/"
        },
        "id": "-2IBwrqVYBFb",
        "outputId": "576babbf-0469-42ee-faf9-ba68d4ab67d5"
      },
      "execution_count": null,
      "outputs": [
        {
          "output_type": "stream",
          "name": "stdout",
          "text": [
            "0.9900990099009901 1.0\n"
          ]
        }
      ]
    },
    {
      "cell_type": "markdown",
      "source": [
        "F1-Score"
      ],
      "metadata": {
        "id": "JMcmRv1oce8h"
      }
    },
    {
      "cell_type": "code",
      "source": [
        "f1_score=(2*precision*recall)/(precision+recall)\n",
        "f1_score"
      ],
      "metadata": {
        "colab": {
          "base_uri": "https://localhost:8080/"
        },
        "id": "T8G3EzMHcSBp",
        "outputId": "56599039-3428-4407-efe1-ed81b93b6692"
      },
      "execution_count": null,
      "outputs": [
        {
          "output_type": "execute_result",
          "data": {
            "text/plain": [
              "0.9950248756218906"
            ]
          },
          "metadata": {},
          "execution_count": 14
        }
      ]
    },
    {
      "cell_type": "markdown",
      "source": [
        "Accuracy score"
      ],
      "metadata": {
        "id": "U0nbx5ZmeVwT"
      }
    },
    {
      "cell_type": "code",
      "source": [
        "accuracy_score=(basic_metr[0]+basic_metr[2])/(basic_metr[0]+basic_metr[1]+basic_metr[2]+basic_metr[3])\n",
        "accuracy_score"
      ],
      "metadata": {
        "colab": {
          "base_uri": "https://localhost:8080/"
        },
        "id": "2Fm8GjmceZWr",
        "outputId": "1d1e9c44-df55-48b6-e67f-ed718bc67917"
      },
      "execution_count": null,
      "outputs": [
        {
          "output_type": "execute_result",
          "data": {
            "text/plain": [
              "0.9900990099009901"
            ]
          },
          "metadata": {},
          "execution_count": 15
        }
      ]
    },
    {
      "cell_type": "code",
      "source": [
        "def true_false_positive(threshold_vector, y_test):\n",
        "    true_positive = np.equal(threshold_vector, 1) & np.equal(y_test, 1)\n",
        "    true_negative = np.equal(threshold_vector, 0) & np.equal(y_test, 0)\n",
        "    false_positive = np.equal(threshold_vector, 1) & np.equal(y_test, 0)\n",
        "    false_negative = np.equal(threshold_vector, 0) & np.equal(y_test, 1)\n",
        "\n",
        "    tpr = true_positive.sum() / (true_positive.sum() + false_negative.sum())\n",
        "    fpr = false_positive.sum() / (false_positive.sum() + true_negative.sum())\n",
        "\n",
        "    return tpr, fpr"
      ],
      "metadata": {
        "id": "HEIncNVC6OVk"
      },
      "execution_count": null,
      "outputs": []
    },
    {
      "cell_type": "markdown",
      "source": [
        "roc-auc curve"
      ],
      "metadata": {
        "id": "o1OKIgJo5kPN"
      }
    },
    {
      "cell_type": "code",
      "source": [
        ""
      ],
      "metadata": {
        "id": "T3ayS3yoev6O"
      },
      "execution_count": null,
      "outputs": []
    },
    {
      "cell_type": "code",
      "source": [
        "def roc_curve(probabilities,y_test,partitions=100):\n",
        "  roc =np.array([])\n",
        "  for i in range(partitions+1):\n",
        "\n",
        "    threshold_vector=np.greater(probabilities,i/partitions).astype(int)\n",
        "    tpr,fpr= true_false_positive(threshold_vector,y_test)\n",
        "    roc=np.append(roc,[fpr,tpr])\n",
        "\n",
        "  return roc.reshape(-1,2)"
      ],
      "metadata": {
        "id": "Kow3EWRz5n2p"
      },
      "execution_count": null,
      "outputs": []
    },
    {
      "cell_type": "code",
      "source": [
        "df=pd.read_csv('drive/My Drive/5_a.csv')\n",
        "df.head()"
      ],
      "metadata": {
        "colab": {
          "base_uri": "https://localhost:8080/",
          "height": 206
        },
        "id": "bwAISw7X6kQi",
        "outputId": "8c44de4a-74bb-43bc-e93a-622324273677"
      },
      "execution_count": null,
      "outputs": [
        {
          "output_type": "execute_result",
          "data": {
            "text/plain": [
              "     y     proba\n",
              "0  1.0  0.637387\n",
              "1  1.0  0.635165\n",
              "2  1.0  0.766586\n",
              "3  1.0  0.724564\n",
              "4  1.0  0.889199"
            ],
            "text/html": [
              "\n",
              "  <div id=\"df-d3b47db8-5d70-4af4-9881-5b1990bc6e99\">\n",
              "    <div class=\"colab-df-container\">\n",
              "      <div>\n",
              "<style scoped>\n",
              "    .dataframe tbody tr th:only-of-type {\n",
              "        vertical-align: middle;\n",
              "    }\n",
              "\n",
              "    .dataframe tbody tr th {\n",
              "        vertical-align: top;\n",
              "    }\n",
              "\n",
              "    .dataframe thead th {\n",
              "        text-align: right;\n",
              "    }\n",
              "</style>\n",
              "<table border=\"1\" class=\"dataframe\">\n",
              "  <thead>\n",
              "    <tr style=\"text-align: right;\">\n",
              "      <th></th>\n",
              "      <th>y</th>\n",
              "      <th>proba</th>\n",
              "    </tr>\n",
              "  </thead>\n",
              "  <tbody>\n",
              "    <tr>\n",
              "      <th>0</th>\n",
              "      <td>1.0</td>\n",
              "      <td>0.637387</td>\n",
              "    </tr>\n",
              "    <tr>\n",
              "      <th>1</th>\n",
              "      <td>1.0</td>\n",
              "      <td>0.635165</td>\n",
              "    </tr>\n",
              "    <tr>\n",
              "      <th>2</th>\n",
              "      <td>1.0</td>\n",
              "      <td>0.766586</td>\n",
              "    </tr>\n",
              "    <tr>\n",
              "      <th>3</th>\n",
              "      <td>1.0</td>\n",
              "      <td>0.724564</td>\n",
              "    </tr>\n",
              "    <tr>\n",
              "      <th>4</th>\n",
              "      <td>1.0</td>\n",
              "      <td>0.889199</td>\n",
              "    </tr>\n",
              "  </tbody>\n",
              "</table>\n",
              "</div>\n",
              "      <button class=\"colab-df-convert\" onclick=\"convertToInteractive('df-d3b47db8-5d70-4af4-9881-5b1990bc6e99')\"\n",
              "              title=\"Convert this dataframe to an interactive table.\"\n",
              "              style=\"display:none;\">\n",
              "        \n",
              "  <svg xmlns=\"http://www.w3.org/2000/svg\" height=\"24px\"viewBox=\"0 0 24 24\"\n",
              "       width=\"24px\">\n",
              "    <path d=\"M0 0h24v24H0V0z\" fill=\"none\"/>\n",
              "    <path d=\"M18.56 5.44l.94 2.06.94-2.06 2.06-.94-2.06-.94-.94-2.06-.94 2.06-2.06.94zm-11 1L8.5 8.5l.94-2.06 2.06-.94-2.06-.94L8.5 2.5l-.94 2.06-2.06.94zm10 10l.94 2.06.94-2.06 2.06-.94-2.06-.94-.94-2.06-.94 2.06-2.06.94z\"/><path d=\"M17.41 7.96l-1.37-1.37c-.4-.4-.92-.59-1.43-.59-.52 0-1.04.2-1.43.59L10.3 9.45l-7.72 7.72c-.78.78-.78 2.05 0 2.83L4 21.41c.39.39.9.59 1.41.59.51 0 1.02-.2 1.41-.59l7.78-7.78 2.81-2.81c.8-.78.8-2.07 0-2.86zM5.41 20L4 18.59l7.72-7.72 1.47 1.35L5.41 20z\"/>\n",
              "  </svg>\n",
              "      </button>\n",
              "      \n",
              "  <style>\n",
              "    .colab-df-container {\n",
              "      display:flex;\n",
              "      flex-wrap:wrap;\n",
              "      gap: 12px;\n",
              "    }\n",
              "\n",
              "    .colab-df-convert {\n",
              "      background-color: #E8F0FE;\n",
              "      border: none;\n",
              "      border-radius: 50%;\n",
              "      cursor: pointer;\n",
              "      display: none;\n",
              "      fill: #1967D2;\n",
              "      height: 32px;\n",
              "      padding: 0 0 0 0;\n",
              "      width: 32px;\n",
              "    }\n",
              "\n",
              "    .colab-df-convert:hover {\n",
              "      background-color: #E2EBFA;\n",
              "      box-shadow: 0px 1px 2px rgba(60, 64, 67, 0.3), 0px 1px 3px 1px rgba(60, 64, 67, 0.15);\n",
              "      fill: #174EA6;\n",
              "    }\n",
              "\n",
              "    [theme=dark] .colab-df-convert {\n",
              "      background-color: #3B4455;\n",
              "      fill: #D2E3FC;\n",
              "    }\n",
              "\n",
              "    [theme=dark] .colab-df-convert:hover {\n",
              "      background-color: #434B5C;\n",
              "      box-shadow: 0px 1px 3px 1px rgba(0, 0, 0, 0.15);\n",
              "      filter: drop-shadow(0px 1px 2px rgba(0, 0, 0, 0.3));\n",
              "      fill: #FFFFFF;\n",
              "    }\n",
              "  </style>\n",
              "\n",
              "      <script>\n",
              "        const buttonEl =\n",
              "          document.querySelector('#df-d3b47db8-5d70-4af4-9881-5b1990bc6e99 button.colab-df-convert');\n",
              "        buttonEl.style.display =\n",
              "          google.colab.kernel.accessAllowed ? 'block' : 'none';\n",
              "\n",
              "        async function convertToInteractive(key) {\n",
              "          const element = document.querySelector('#df-d3b47db8-5d70-4af4-9881-5b1990bc6e99');\n",
              "          const dataTable =\n",
              "            await google.colab.kernel.invokeFunction('convertToInteractive',\n",
              "                                                     [key], {});\n",
              "          if (!dataTable) return;\n",
              "\n",
              "          const docLinkHtml = 'Like what you see? Visit the ' +\n",
              "            '<a target=\"_blank\" href=https://colab.research.google.com/notebooks/data_table.ipynb>data table notebook</a>'\n",
              "            + ' to learn more about interactive tables.';\n",
              "          element.innerHTML = '';\n",
              "          dataTable['output_type'] = 'display_data';\n",
              "          await google.colab.output.renderOutput(dataTable, element);\n",
              "          const docLink = document.createElement('div');\n",
              "          docLink.innerHTML = docLinkHtml;\n",
              "          element.appendChild(docLink);\n",
              "        }\n",
              "      </script>\n",
              "    </div>\n",
              "  </div>\n",
              "  "
            ]
          },
          "metadata": {},
          "execution_count": 50
        }
      ]
    },
    {
      "cell_type": "code",
      "source": [
        "roc_curve(df['proba'],df['y'])\n"
      ],
      "metadata": {
        "colab": {
          "base_uri": "https://localhost:8080/"
        },
        "id": "72tPPQiH7Fcm",
        "outputId": "a5fe02db-782d-4f7b-940a-1394ae63e134"
      },
      "execution_count": null,
      "outputs": [
        {
          "output_type": "execute_result",
          "data": {
            "text/plain": [
              "array([[1.    , 1.    ],\n",
              "       [1.    , 1.    ],\n",
              "       [1.    , 1.    ],\n",
              "       [1.    , 1.    ],\n",
              "       [1.    , 1.    ],\n",
              "       [1.    , 1.    ],\n",
              "       [1.    , 1.    ],\n",
              "       [1.    , 1.    ],\n",
              "       [1.    , 1.    ],\n",
              "       [1.    , 1.    ],\n",
              "       [1.    , 1.    ],\n",
              "       [1.    , 1.    ],\n",
              "       [1.    , 1.    ],\n",
              "       [1.    , 1.    ],\n",
              "       [1.    , 1.    ],\n",
              "       [1.    , 1.    ],\n",
              "       [1.    , 1.    ],\n",
              "       [1.    , 1.    ],\n",
              "       [1.    , 1.    ],\n",
              "       [1.    , 1.    ],\n",
              "       [1.    , 1.    ],\n",
              "       [1.    , 1.    ],\n",
              "       [1.    , 1.    ],\n",
              "       [1.    , 1.    ],\n",
              "       [1.    , 1.    ],\n",
              "       [1.    , 1.    ],\n",
              "       [1.    , 1.    ],\n",
              "       [1.    , 1.    ],\n",
              "       [1.    , 1.    ],\n",
              "       [1.    , 1.    ],\n",
              "       [1.    , 1.    ],\n",
              "       [1.    , 1.    ],\n",
              "       [1.    , 1.    ],\n",
              "       [1.    , 1.    ],\n",
              "       [1.    , 1.    ],\n",
              "       [1.    , 1.    ],\n",
              "       [1.    , 1.    ],\n",
              "       [1.    , 1.    ],\n",
              "       [1.    , 1.    ],\n",
              "       [1.    , 1.    ],\n",
              "       [1.    , 1.    ],\n",
              "       [1.    , 1.    ],\n",
              "       [1.    , 1.    ],\n",
              "       [1.    , 1.    ],\n",
              "       [1.    , 1.    ],\n",
              "       [1.    , 1.    ],\n",
              "       [1.    , 1.    ],\n",
              "       [1.    , 1.    ],\n",
              "       [1.    , 1.    ],\n",
              "       [1.    , 1.    ],\n",
              "       [1.    , 1.    ],\n",
              "       [0.94  , 0.9746],\n",
              "       [0.92  , 0.9478],\n",
              "       [0.91  , 0.9208],\n",
              "       [0.89  , 0.8981],\n",
              "       [0.89  , 0.8749],\n",
              "       [0.87  , 0.8486],\n",
              "       [0.84  , 0.8229],\n",
              "       [0.84  , 0.7964],\n",
              "       [0.81  , 0.7716],\n",
              "       [0.78  , 0.7509],\n",
              "       [0.73  , 0.7242],\n",
              "       [0.73  , 0.6994],\n",
              "       [0.7   , 0.6741],\n",
              "       [0.65  , 0.6468],\n",
              "       [0.61  , 0.6218],\n",
              "       [0.59  , 0.5981],\n",
              "       [0.59  , 0.5697],\n",
              "       [0.57  , 0.5439],\n",
              "       [0.56  , 0.5182],\n",
              "       [0.49  , 0.4912],\n",
              "       [0.47  , 0.4646],\n",
              "       [0.45  , 0.44  ],\n",
              "       [0.44  , 0.413 ],\n",
              "       [0.43  , 0.3872],\n",
              "       [0.39  , 0.3609],\n",
              "       [0.34  , 0.3346],\n",
              "       [0.3   , 0.3069],\n",
              "       [0.29  , 0.2812],\n",
              "       [0.28  , 0.2603],\n",
              "       [0.25  , 0.234 ],\n",
              "       [0.2   , 0.211 ],\n",
              "       [0.19  , 0.1898],\n",
              "       [0.18  , 0.1666],\n",
              "       [0.17  , 0.1424],\n",
              "       [0.13  , 0.1179],\n",
              "       [0.13  , 0.0955],\n",
              "       [0.11  , 0.0708],\n",
              "       [0.06  , 0.0475],\n",
              "       [0.02  , 0.0233],\n",
              "       [0.    , 0.    ],\n",
              "       [0.    , 0.    ],\n",
              "       [0.    , 0.    ],\n",
              "       [0.    , 0.    ],\n",
              "       [0.    , 0.    ],\n",
              "       [0.    , 0.    ],\n",
              "       [0.    , 0.    ],\n",
              "       [0.    , 0.    ],\n",
              "       [0.    , 0.    ],\n",
              "       [0.    , 0.    ],\n",
              "       [0.    , 0.    ]])"
            ]
          },
          "metadata": {},
          "execution_count": 70
        }
      ]
    },
    {
      "cell_type": "markdown",
      "source": [
        "AUC Score"
      ],
      "metadata": {
        "id": "rS9WYwH7umHq"
      }
    },
    {
      "cell_type": "code",
      "source": [
        "from tqdm import tqdm\n",
        "def get_single_tpr_fpr(df):\n",
        "\n",
        "    '''\n",
        "    Note, this implementation is only for binaly class labels (0 and 1)\n",
        "    :param df: the dataframe should have 'y' and 'y_predicted' as its labels\n",
        "    :return: a list containing tpr and fpr\n",
        "    '''\n",
        "\n",
        "    tp = ((df['y'] == 1.0 ) & (df['y_predicted'] == 1)).sum()\n",
        "    fp = ((df['y'] == 0.0 ) & (df['y_predicted'] == 1)).sum()\n",
        "    tn = ((df['y'] == 0.0 ) & (df['y_predicted'] == 0)).sum()\n",
        "    fn = ((df['y'] == 1.0 ) & (df['y_predicted'] == 0)).sum()\n",
        "\n",
        "    tpr = tp / (tp + fn )\n",
        "    fpr = fp / (fp + tn)\n",
        "\n",
        "    return [tpr, fpr]\n",
        "\n",
        "\n",
        "def calculate_all_thresholds_tpr_fpr_arr(df_original):\n",
        "\n",
        "    '''\n",
        "\n",
        "    :param df_original: the original dataframe, which should have a 'proba' label\n",
        "    :return: two arrays, tpr_arr_for_all_thresholds, fpr_arr_for_all_thresholds\n",
        "    '''\n",
        "\n",
        "    tpr_arr_for_all_thresholds = []\n",
        "    fpr_arr_for_all_thresholds = []\n",
        "\n",
        "    sorted_df = df_original.sort_values(by=['proba'], ascending=False)\n",
        "\n",
        "    unique_probability_thresholds = sorted_df['proba'].unique()\n",
        "\n",
        "    for threshold in tqdm(unique_probability_thresholds):\n",
        "        sorted_df['y_predicted'] = np.where(sorted_df['proba'] >= threshold, 1, 0)\n",
        "        tpr_fpr_arr = get_single_tpr_fpr(sorted_df)\n",
        "        tpr_arr_for_all_thresholds.append(tpr_fpr_arr[0])\n",
        "        fpr_arr_for_all_thresholds.append(tpr_fpr_arr[1])\n",
        "\n",
        "    return tpr_arr_for_all_thresholds, fpr_arr_for_all_thresholds\n",
        "\n",
        "all_tpr,all_fpr =calculate_all_thresholds_tpr_fpr_arr(df)"
      ],
      "metadata": {
        "colab": {
          "base_uri": "https://localhost:8080/"
        },
        "id": "bCxVUMpbthAr",
        "outputId": "3dad4a8e-4a2d-4b6a-c62a-6a68a9bb7be0"
      },
      "execution_count": null,
      "outputs": [
        {
          "output_type": "stream",
          "name": "stderr",
          "text": [
            "100%|██████████| 10100/10100 [00:22<00:00, 456.92it/s]\n"
          ]
        }
      ]
    },
    {
      "cell_type": "code",
      "source": [
        "auc_score_5_a = np.trapz(all_tpr,all_fpr)\n",
        "print(auc_score_5_a)"
      ],
      "metadata": {
        "colab": {
          "base_uri": "https://localhost:8080/"
        },
        "id": "vQMSABW6uRnE",
        "outputId": "8d7ee85f-aa67-4095-8550-9f6c5ee8dd2a"
      },
      "execution_count": null,
      "outputs": [
        {
          "output_type": "stream",
          "name": "stdout",
          "text": [
            "0.48829900000000004\n"
          ]
        }
      ]
    },
    {
      "cell_type": "code",
      "source": [
        "import matplotlib.pyplot as plt \n",
        "import seaborn as sns\n",
        "sns.set()\n",
        "plt.figure(figsize=(15,7))\n",
        "\n",
        "ROC = roc_curve(df['proba'],df['y'],partitions=100)\n",
        "plt.scatter(ROC[:,0],ROC[:,1],color='#0F9D58',s=100)\n",
        "plt.title('ROC Curve',fontsize=20)\n",
        "plt.xlabel('False Positive Rate',fontsize=16)\n",
        "plt.ylabel('True Positive Rate',fontsize=16)"
      ],
      "metadata": {
        "colab": {
          "base_uri": "https://localhost:8080/",
          "height": 489
        },
        "id": "-71v3XuV7bya",
        "outputId": "53ce4e07-becb-41b2-808b-f8c6bb20e95e"
      },
      "execution_count": null,
      "outputs": [
        {
          "output_type": "execute_result",
          "data": {
            "text/plain": [
              "Text(0, 0.5, 'True Positive Rate')"
            ]
          },
          "metadata": {},
          "execution_count": 20
        },
        {
          "output_type": "display_data",
          "data": {
            "text/plain": [
              "<Figure size 1080x504 with 1 Axes>"
            ],
            "image/png": "[encoded data removed]"
          },
          "metadata": {}
        }
      ]
    },
    {
      "cell_type": "code",
      "source": [
        ""
      ],
      "metadata": {
        "id": "hBREff6OBFWK"
      },
      "execution_count": null,
      "outputs": []
    },
    {
      "cell_type": "markdown",
      "source": [
        "Part 2\n",
        "\n"
      ],
      "metadata": {
        "id": "1GZGOOOcFU85"
      }
    },
    {
      "cell_type": "code",
      "source": [
        "df2=pd.read_csv('drive/My Drive/5_b.csv')\n",
        "df2.info()\n",
        "df2.head()"
      ],
      "metadata": {
        "colab": {
          "base_uri": "https://localhost:8080/",
          "height": 372
        },
        "id": "hl5y5p-UdFB6",
        "outputId": "6eca8717-46d4-4360-d09e-3ec51a5d0f24"
      },
      "execution_count": null,
      "outputs": [
        {
          "output_type": "stream",
          "name": "stdout",
          "text": [
            "<class 'pandas.core.frame.DataFrame'>\n",
            "RangeIndex: 10100 entries, 0 to 10099\n",
            "Data columns (total 2 columns):\n",
            " #   Column  Non-Null Count  Dtype  \n",
            "---  ------  --------------  -----  \n",
            " 0   y       10100 non-null  float64\n",
            " 1   proba   10100 non-null  float64\n",
            "dtypes: float64(2)\n",
            "memory usage: 157.9 KB\n"
          ]
        },
        {
          "output_type": "execute_result",
          "data": {
            "text/plain": [
              "     y     proba\n",
              "0  0.0  0.281035\n",
              "1  0.0  0.465152\n",
              "2  0.0  0.352793\n",
              "3  0.0  0.157818\n",
              "4  0.0  0.276648"
            ],
            "text/html": [
              "\n",
              "  <div id=\"df-1fcadcb8-f173-4d92-ac20-4798dea7a442\">\n",
              "    <div class=\"colab-df-container\">\n",
              "      <div>\n",
              "<style scoped>\n",
              "    .dataframe tbody tr th:only-of-type {\n",
              "        vertical-align: middle;\n",
              "    }\n",
              "\n",
              "    .dataframe tbody tr th {\n",
              "        vertical-align: top;\n",
              "    }\n",
              "\n",
              "    .dataframe thead th {\n",
              "        text-align: right;\n",
              "    }\n",
              "</style>\n",
              "<table border=\"1\" class=\"dataframe\">\n",
              "  <thead>\n",
              "    <tr style=\"text-align: right;\">\n",
              "      <th></th>\n",
              "      <th>y</th>\n",
              "      <th>proba</th>\n",
              "    </tr>\n",
              "  </thead>\n",
              "  <tbody>\n",
              "    <tr>\n",
              "      <th>0</th>\n",
              "      <td>0.0</td>\n",
              "      <td>0.281035</td>\n",
              "    </tr>\n",
              "    <tr>\n",
              "      <th>1</th>\n",
              "      <td>0.0</td>\n",
              "      <td>0.465152</td>\n",
              "    </tr>\n",
              "    <tr>\n",
              "      <th>2</th>\n",
              "      <td>0.0</td>\n",
              "      <td>0.352793</td>\n",
              "    </tr>\n",
              "    <tr>\n",
              "      <th>3</th>\n",
              "      <td>0.0</td>\n",
              "      <td>0.157818</td>\n",
              "    </tr>\n",
              "    <tr>\n",
              "      <th>4</th>\n",
              "      <td>0.0</td>\n",
              "      <td>0.276648</td>\n",
              "    </tr>\n",
              "  </tbody>\n",
              "</table>\n",
              "</div>\n",
              "      <button class=\"colab-df-convert\" onclick=\"convertToInteractive('df-1fcadcb8-f173-4d92-ac20-4798dea7a442')\"\n",
              "              title=\"Convert this dataframe to an interactive table.\"\n",
              "              style=\"display:none;\">\n",
              "        \n",
              "  <svg xmlns=\"http://www.w3.org/2000/svg\" height=\"24px\"viewBox=\"0 0 24 24\"\n",
              "       width=\"24px\">\n",
              "    <path d=\"M0 0h24v24H0V0z\" fill=\"none\"/>\n",
              "    <path d=\"M18.56 5.44l.94 2.06.94-2.06 2.06-.94-2.06-.94-.94-2.06-.94 2.06-2.06.94zm-11 1L8.5 8.5l.94-2.06 2.06-.94-2.06-.94L8.5 2.5l-.94 2.06-2.06.94zm10 10l.94 2.06.94-2.06 2.06-.94-2.06-.94-.94-2.06-.94 2.06-2.06.94z\"/><path d=\"M17.41 7.96l-1.37-1.37c-.4-.4-.92-.59-1.43-.59-.52 0-1.04.2-1.43.59L10.3 9.45l-7.72 7.72c-.78.78-.78 2.05 0 2.83L4 21.41c.39.39.9.59 1.41.59.51 0 1.02-.2 1.41-.59l7.78-7.78 2.81-2.81c.8-.78.8-2.07 0-2.86zM5.41 20L4 18.59l7.72-7.72 1.47 1.35L5.41 20z\"/>\n",
              "  </svg>\n",
              "      </button>\n",
              "      \n",
              "  <style>\n",
              "    .colab-df-container {\n",
              "      display:flex;\n",
              "      flex-wrap:wrap;\n",
              "      gap: 12px;\n",
              "    }\n",
              "\n",
              "    .colab-df-convert {\n",
              "      background-color: #E8F0FE;\n",
              "      border: none;\n",
              "      border-radius: 50%;\n",
              "      cursor: pointer;\n",
              "      display: none;\n",
              "      fill: #1967D2;\n",
              "      height: 32px;\n",
              "      padding: 0 0 0 0;\n",
              "      width: 32px;\n",
              "    }\n",
              "\n",
              "    .colab-df-convert:hover {\n",
              "      background-color: #E2EBFA;\n",
              "      box-shadow: 0px 1px 2px rgba(60, 64, 67, 0.3), 0px 1px 3px 1px rgba(60, 64, 67, 0.15);\n",
              "      fill: #174EA6;\n",
              "    }\n",
              "\n",
              "    [theme=dark] .colab-df-convert {\n",
              "      background-color: #3B4455;\n",
              "      fill: #D2E3FC;\n",
              "    }\n",
              "\n",
              "    [theme=dark] .colab-df-convert:hover {\n",
              "      background-color: #434B5C;\n",
              "      box-shadow: 0px 1px 3px 1px rgba(0, 0, 0, 0.15);\n",
              "      filter: drop-shadow(0px 1px 2px rgba(0, 0, 0, 0.3));\n",
              "      fill: #FFFFFF;\n",
              "    }\n",
              "  </style>\n",
              "\n",
              "      <script>\n",
              "        const buttonEl =\n",
              "          document.querySelector('#df-1fcadcb8-f173-4d92-ac20-4798dea7a442 button.colab-df-convert');\n",
              "        buttonEl.style.display =\n",
              "          google.colab.kernel.accessAllowed ? 'block' : 'none';\n",
              "\n",
              "        async function convertToInteractive(key) {\n",
              "          const element = document.querySelector('#df-1fcadcb8-f173-4d92-ac20-4798dea7a442');\n",
              "          const dataTable =\n",
              "            await google.colab.kernel.invokeFunction('convertToInteractive',\n",
              "                                                     [key], {});\n",
              "          if (!dataTable) return;\n",
              "\n",
              "          const docLinkHtml = 'Like what you see? Visit the ' +\n",
              "            '<a target=\"_blank\" href=https://colab.research.google.com/notebooks/data_table.ipynb>data table notebook</a>'\n",
              "            + ' to learn more about interactive tables.';\n",
              "          element.innerHTML = '';\n",
              "          dataTable['output_type'] = 'display_data';\n",
              "          await google.colab.output.renderOutput(dataTable, element);\n",
              "          const docLink = document.createElement('div');\n",
              "          docLink.innerHTML = docLinkHtml;\n",
              "          element.appendChild(docLink);\n",
              "        }\n",
              "      </script>\n",
              "    </div>\n",
              "  </div>\n",
              "  "
            ]
          },
          "metadata": {},
          "execution_count": 21
        }
      ]
    },
    {
      "cell_type": "code",
      "source": [
        "df2['proba'] = np.where(df2['proba'] < 0.5, 0, df2['proba'])\n",
        "df2['proba'] = np.where(df2['proba'] >= 0.5, 1, df2['proba'])\n",
        "df2.head()"
      ],
      "metadata": {
        "colab": {
          "base_uri": "https://localhost:8080/",
          "height": 206
        },
        "id": "-WVe6KE5f0hT",
        "outputId": "da30fef9-3aa9-47c9-8fea-8171d7b26e07"
      },
      "execution_count": null,
      "outputs": [
        {
          "output_type": "execute_result",
          "data": {
            "text/plain": [
              "     y  proba\n",
              "0  0.0    0.0\n",
              "1  0.0    0.0\n",
              "2  0.0    0.0\n",
              "3  0.0    0.0\n",
              "4  0.0    0.0"
            ],
            "text/html": [
              "\n",
              "  <div id=\"df-2d2f047c-cdd6-46e5-a8ad-fbc7e5d57195\">\n",
              "    <div class=\"colab-df-container\">\n",
              "      <div>\n",
              "<style scoped>\n",
              "    .dataframe tbody tr th:only-of-type {\n",
              "        vertical-align: middle;\n",
              "    }\n",
              "\n",
              "    .dataframe tbody tr th {\n",
              "        vertical-align: top;\n",
              "    }\n",
              "\n",
              "    .dataframe thead th {\n",
              "        text-align: right;\n",
              "    }\n",
              "</style>\n",
              "<table border=\"1\" class=\"dataframe\">\n",
              "  <thead>\n",
              "    <tr style=\"text-align: right;\">\n",
              "      <th></th>\n",
              "      <th>y</th>\n",
              "      <th>proba</th>\n",
              "    </tr>\n",
              "  </thead>\n",
              "  <tbody>\n",
              "    <tr>\n",
              "      <th>0</th>\n",
              "      <td>0.0</td>\n",
              "      <td>0.0</td>\n",
              "    </tr>\n",
              "    <tr>\n",
              "      <th>1</th>\n",
              "      <td>0.0</td>\n",
              "      <td>0.0</td>\n",
              "    </tr>\n",
              "    <tr>\n",
              "      <th>2</th>\n",
              "      <td>0.0</td>\n",
              "      <td>0.0</td>\n",
              "    </tr>\n",
              "    <tr>\n",
              "      <th>3</th>\n",
              "      <td>0.0</td>\n",
              "      <td>0.0</td>\n",
              "    </tr>\n",
              "    <tr>\n",
              "      <th>4</th>\n",
              "      <td>0.0</td>\n",
              "      <td>0.0</td>\n",
              "    </tr>\n",
              "  </tbody>\n",
              "</table>\n",
              "</div>\n",
              "      <button class=\"colab-df-convert\" onclick=\"convertToInteractive('df-2d2f047c-cdd6-46e5-a8ad-fbc7e5d57195')\"\n",
              "              title=\"Convert this dataframe to an interactive table.\"\n",
              "              style=\"display:none;\">\n",
              "        \n",
              "  <svg xmlns=\"http://www.w3.org/2000/svg\" height=\"24px\"viewBox=\"0 0 24 24\"\n",
              "       width=\"24px\">\n",
              "    <path d=\"M0 0h24v24H0V0z\" fill=\"none\"/>\n",
              "    <path d=\"M18.56 5.44l.94 2.06.94-2.06 2.06-.94-2.06-.94-.94-2.06-.94 2.06-2.06.94zm-11 1L8.5 8.5l.94-2.06 2.06-.94-2.06-.94L8.5 2.5l-.94 2.06-2.06.94zm10 10l.94 2.06.94-2.06 2.06-.94-2.06-.94-.94-2.06-.94 2.06-2.06.94z\"/><path d=\"M17.41 7.96l-1.37-1.37c-.4-.4-.92-.59-1.43-.59-.52 0-1.04.2-1.43.59L10.3 9.45l-7.72 7.72c-.78.78-.78 2.05 0 2.83L4 21.41c.39.39.9.59 1.41.59.51 0 1.02-.2 1.41-.59l7.78-7.78 2.81-2.81c.8-.78.8-2.07 0-2.86zM5.41 20L4 18.59l7.72-7.72 1.47 1.35L5.41 20z\"/>\n",
              "  </svg>\n",
              "      </button>\n",
              "      \n",
              "  <style>\n",
              "    .colab-df-container {\n",
              "      display:flex;\n",
              "      flex-wrap:wrap;\n",
              "      gap: 12px;\n",
              "    }\n",
              "\n",
              "    .colab-df-convert {\n",
              "      background-color: #E8F0FE;\n",
              "      border: none;\n",
              "      border-radius: 50%;\n",
              "      cursor: pointer;\n",
              "      display: none;\n",
              "      fill: #1967D2;\n",
              "      height: 32px;\n",
              "      padding: 0 0 0 0;\n",
              "      width: 32px;\n",
              "    }\n",
              "\n",
              "    .colab-df-convert:hover {\n",
              "      background-color: #E2EBFA;\n",
              "      box-shadow: 0px 1px 2px rgba(60, 64, 67, 0.3), 0px 1px 3px 1px rgba(60, 64, 67, 0.15);\n",
              "      fill: #174EA6;\n",
              "    }\n",
              "\n",
              "    [theme=dark] .colab-df-convert {\n",
              "      background-color: #3B4455;\n",
              "      fill: #D2E3FC;\n",
              "    }\n",
              "\n",
              "    [theme=dark] .colab-df-convert:hover {\n",
              "      background-color: #434B5C;\n",
              "      box-shadow: 0px 1px 3px 1px rgba(0, 0, 0, 0.15);\n",
              "      filter: drop-shadow(0px 1px 2px rgba(0, 0, 0, 0.3));\n",
              "      fill: #FFFFFF;\n",
              "    }\n",
              "  </style>\n",
              "\n",
              "      <script>\n",
              "        const buttonEl =\n",
              "          document.querySelector('#df-2d2f047c-cdd6-46e5-a8ad-fbc7e5d57195 button.colab-df-convert');\n",
              "        buttonEl.style.display =\n",
              "          google.colab.kernel.accessAllowed ? 'block' : 'none';\n",
              "\n",
              "        async function convertToInteractive(key) {\n",
              "          const element = document.querySelector('#df-2d2f047c-cdd6-46e5-a8ad-fbc7e5d57195');\n",
              "          const dataTable =\n",
              "            await google.colab.kernel.invokeFunction('convertToInteractive',\n",
              "                                                     [key], {});\n",
              "          if (!dataTable) return;\n",
              "\n",
              "          const docLinkHtml = 'Like what you see? Visit the ' +\n",
              "            '<a target=\"_blank\" href=https://colab.research.google.com/notebooks/data_table.ipynb>data table notebook</a>'\n",
              "            + ' to learn more about interactive tables.';\n",
              "          element.innerHTML = '';\n",
              "          dataTable['output_type'] = 'display_data';\n",
              "          await google.colab.output.renderOutput(dataTable, element);\n",
              "          const docLink = document.createElement('div');\n",
              "          docLink.innerHTML = docLinkHtml;\n",
              "          element.appendChild(docLink);\n",
              "        }\n",
              "      </script>\n",
              "    </div>\n",
              "  </div>\n",
              "  "
            ]
          },
          "metadata": {},
          "execution_count": 22
        }
      ]
    },
    {
      "cell_type": "markdown",
      "source": [
        "Confusion Matrix"
      ],
      "metadata": {
        "id": "zLYpjFSVDzaI"
      }
    },
    {
      "cell_type": "code",
      "source": [
        "conf_mat2=pd.crosstab(df2['y'],df2['proba'])\n",
        "conf_mat2"
      ],
      "metadata": {
        "colab": {
          "base_uri": "https://localhost:8080/",
          "height": 143
        },
        "id": "5w1BoBc-gZrB",
        "outputId": "b4365311-a6a4-4338-c99b-703e66a88826"
      },
      "execution_count": null,
      "outputs": [
        {
          "output_type": "execute_result",
          "data": {
            "text/plain": [
              "proba   0.0  1.0\n",
              "y               \n",
              "0.0    9761  239\n",
              "1.0      45   55"
            ],
            "text/html": [
              "\n",
              "  <div id=\"df-3a4cee41-ac6f-4c23-a3a5-423305574f9e\">\n",
              "    <div class=\"colab-df-container\">\n",
              "      <div>\n",
              "<style scoped>\n",
              "    .dataframe tbody tr th:only-of-type {\n",
              "        vertical-align: middle;\n",
              "    }\n",
              "\n",
              "    .dataframe tbody tr th {\n",
              "        vertical-align: top;\n",
              "    }\n",
              "\n",
              "    .dataframe thead th {\n",
              "        text-align: right;\n",
              "    }\n",
              "</style>\n",
              "<table border=\"1\" class=\"dataframe\">\n",
              "  <thead>\n",
              "    <tr style=\"text-align: right;\">\n",
              "      <th>proba</th>\n",
              "      <th>0.0</th>\n",
              "      <th>1.0</th>\n",
              "    </tr>\n",
              "    <tr>\n",
              "      <th>y</th>\n",
              "      <th></th>\n",
              "      <th></th>\n",
              "    </tr>\n",
              "  </thead>\n",
              "  <tbody>\n",
              "    <tr>\n",
              "      <th>0.0</th>\n",
              "      <td>9761</td>\n",
              "      <td>239</td>\n",
              "    </tr>\n",
              "    <tr>\n",
              "      <th>1.0</th>\n",
              "      <td>45</td>\n",
              "      <td>55</td>\n",
              "    </tr>\n",
              "  </tbody>\n",
              "</table>\n",
              "</div>\n",
              "      <button class=\"colab-df-convert\" onclick=\"convertToInteractive('df-3a4cee41-ac6f-4c23-a3a5-423305574f9e')\"\n",
              "              title=\"Convert this dataframe to an interactive table.\"\n",
              "              style=\"display:none;\">\n",
              "        \n",
              "  <svg xmlns=\"http://www.w3.org/2000/svg\" height=\"24px\"viewBox=\"0 0 24 24\"\n",
              "       width=\"24px\">\n",
              "    <path d=\"M0 0h24v24H0V0z\" fill=\"none\"/>\n",
              "    <path d=\"M18.56 5.44l.94 2.06.94-2.06 2.06-.94-2.06-.94-.94-2.06-.94 2.06-2.06.94zm-11 1L8.5 8.5l.94-2.06 2.06-.94-2.06-.94L8.5 2.5l-.94 2.06-2.06.94zm10 10l.94 2.06.94-2.06 2.06-.94-2.06-.94-.94-2.06-.94 2.06-2.06.94z\"/><path d=\"M17.41 7.96l-1.37-1.37c-.4-.4-.92-.59-1.43-.59-.52 0-1.04.2-1.43.59L10.3 9.45l-7.72 7.72c-.78.78-.78 2.05 0 2.83L4 21.41c.39.39.9.59 1.41.59.51 0 1.02-.2 1.41-.59l7.78-7.78 2.81-2.81c.8-.78.8-2.07 0-2.86zM5.41 20L4 18.59l7.72-7.72 1.47 1.35L5.41 20z\"/>\n",
              "  </svg>\n",
              "      </button>\n",
              "      \n",
              "  <style>\n",
              "    .colab-df-container {\n",
              "      display:flex;\n",
              "      flex-wrap:wrap;\n",
              "      gap: 12px;\n",
              "    }\n",
              "\n",
              "    .colab-df-convert {\n",
              "      background-color: #E8F0FE;\n",
              "      border: none;\n",
              "      border-radius: 50%;\n",
              "      cursor: pointer;\n",
              "      display: none;\n",
              "      fill: #1967D2;\n",
              "      height: 32px;\n",
              "      padding: 0 0 0 0;\n",
              "      width: 32px;\n",
              "    }\n",
              "\n",
              "    .colab-df-convert:hover {\n",
              "      background-color: #E2EBFA;\n",
              "      box-shadow: 0px 1px 2px rgba(60, 64, 67, 0.3), 0px 1px 3px 1px rgba(60, 64, 67, 0.15);\n",
              "      fill: #174EA6;\n",
              "    }\n",
              "\n",
              "    [theme=dark] .colab-df-convert {\n",
              "      background-color: #3B4455;\n",
              "      fill: #D2E3FC;\n",
              "    }\n",
              "\n",
              "    [theme=dark] .colab-df-convert:hover {\n",
              "      background-color: #434B5C;\n",
              "      box-shadow: 0px 1px 3px 1px rgba(0, 0, 0, 0.15);\n",
              "      filter: drop-shadow(0px 1px 2px rgba(0, 0, 0, 0.3));\n",
              "      fill: #FFFFFF;\n",
              "    }\n",
              "  </style>\n",
              "\n",
              "      <script>\n",
              "        const buttonEl =\n",
              "          document.querySelector('#df-3a4cee41-ac6f-4c23-a3a5-423305574f9e button.colab-df-convert');\n",
              "        buttonEl.style.display =\n",
              "          google.colab.kernel.accessAllowed ? 'block' : 'none';\n",
              "\n",
              "        async function convertToInteractive(key) {\n",
              "          const element = document.querySelector('#df-3a4cee41-ac6f-4c23-a3a5-423305574f9e');\n",
              "          const dataTable =\n",
              "            await google.colab.kernel.invokeFunction('convertToInteractive',\n",
              "                                                     [key], {});\n",
              "          if (!dataTable) return;\n",
              "\n",
              "          const docLinkHtml = 'Like what you see? Visit the ' +\n",
              "            '<a target=\"_blank\" href=https://colab.research.google.com/notebooks/data_table.ipynb>data table notebook</a>'\n",
              "            + ' to learn more about interactive tables.';\n",
              "          element.innerHTML = '';\n",
              "          dataTable['output_type'] = 'display_data';\n",
              "          await google.colab.output.renderOutput(dataTable, element);\n",
              "          const docLink = document.createElement('div');\n",
              "          docLink.innerHTML = docLinkHtml;\n",
              "          element.appendChild(docLink);\n",
              "        }\n",
              "      </script>\n",
              "    </div>\n",
              "  </div>\n",
              "  "
            ]
          },
          "metadata": {},
          "execution_count": 23
        }
      ]
    },
    {
      "cell_type": "code",
      "source": [
        "confusion_matrix(df2['y'],df2['proba'])  #to verify with the actual sklearn library"
      ],
      "metadata": {
        "colab": {
          "base_uri": "https://localhost:8080/"
        },
        "id": "7JPgZRThgrsZ",
        "outputId": "fd4e4634-0a19-4867-879b-674950679a24"
      },
      "execution_count": null,
      "outputs": [
        {
          "output_type": "execute_result",
          "data": {
            "text/plain": [
              "array([[9761,  239],\n",
              "       [  45,   55]])"
            ]
          },
          "metadata": {},
          "execution_count": 24
        }
      ]
    },
    {
      "cell_type": "code",
      "source": [
        "def perf_metr(actual,pred):\n",
        "  TP=0\n",
        "  FP=0\n",
        "  TN=0\n",
        "  FN=0\n",
        "  for i in range(len(pred)):\n",
        "    if actual[i]==pred[i]==1:\n",
        "      TP+=1\n",
        "    if actual[i]!=pred[i] and pred[i]==1:\n",
        "      FP+=1\n",
        "    if actual[i]==pred[i]==0:\n",
        "      TN+=1\n",
        "    if actual[i]!=pred[i] and pred[i]==0:\n",
        "      FN+=1\n",
        "  return TP,FP,TN,FN          "
      ],
      "metadata": {
        "id": "NStEpIZVh4vA"
      },
      "execution_count": null,
      "outputs": []
    },
    {
      "cell_type": "code",
      "source": [
        "basic_metr2=list(perf_metr(df2['y'],df2['proba']))\n",
        "basic_metr2"
      ],
      "metadata": {
        "colab": {
          "base_uri": "https://localhost:8080/"
        },
        "id": "NNN4TVqRGoYg",
        "outputId": "5aa787bc-465d-4781-a8c6-7e32473df609"
      },
      "execution_count": null,
      "outputs": [
        {
          "output_type": "execute_result",
          "data": {
            "text/plain": [
              "[55, 239, 9761, 45]"
            ]
          },
          "metadata": {},
          "execution_count": 26
        }
      ]
    },
    {
      "cell_type": "code",
      "source": [
        "precision=basic_metr2[0]/(basic_metr2[0]+basic_metr2[1])\n",
        "recall=basic_metr2[0]/(basic_metr2[0]+basic_metr2[3])\n",
        "print(precision,recall)"
      ],
      "metadata": {
        "colab": {
          "base_uri": "https://localhost:8080/"
        },
        "id": "D8BEHs9mG9kf",
        "outputId": "25883a99-1cf6-4eb7-bdc8-15d9cb38488c"
      },
      "execution_count": null,
      "outputs": [
        {
          "output_type": "stream",
          "name": "stdout",
          "text": [
            "0.1870748299319728 0.55\n"
          ]
        }
      ]
    },
    {
      "cell_type": "markdown",
      "source": [
        "F1-score"
      ],
      "metadata": {
        "id": "ngfpDjevHbWl"
      }
    },
    {
      "cell_type": "code",
      "source": [
        "f1_score=(2*precision*recall)/(precision+recall)\n",
        "f1_score"
      ],
      "metadata": {
        "colab": {
          "base_uri": "https://localhost:8080/"
        },
        "id": "9hRZ-eS9HMJj",
        "outputId": "9f498f7f-9b20-4862-fb38-67046e2de814"
      },
      "execution_count": null,
      "outputs": [
        {
          "output_type": "execute_result",
          "data": {
            "text/plain": [
              "0.2791878172588833"
            ]
          },
          "metadata": {},
          "execution_count": 28
        }
      ]
    },
    {
      "cell_type": "markdown",
      "source": [
        "Accuracy score"
      ],
      "metadata": {
        "id": "OhFuO_RPHeTj"
      }
    },
    {
      "cell_type": "code",
      "source": [
        "accuracy_score=(basic_metr[0]+basic_metr[2])/(basic_metr[0]+basic_metr[1]+basic_metr[2]+basic_metr[3])\n",
        "accuracy_score"
      ],
      "metadata": {
        "colab": {
          "base_uri": "https://localhost:8080/"
        },
        "id": "8JwURRrsHVn6",
        "outputId": "f9e47438-3df5-4add-a2d2-418cc8f22b72"
      },
      "execution_count": null,
      "outputs": [
        {
          "output_type": "execute_result",
          "data": {
            "text/plain": [
              "0.9900990099009901"
            ]
          },
          "metadata": {},
          "execution_count": 29
        }
      ]
    },
    {
      "cell_type": "markdown",
      "source": [
        "AUC Score"
      ],
      "metadata": {
        "id": "BkXuXT-IvDXf"
      }
    },
    {
      "cell_type": "code",
      "source": [
        "all_tpr_5b,all_fpr_5b =calculate_all_thresholds_tpr_fpr_arr(df2)\n",
        "auc_score_5b = np.trapz(all_tpr_5b,all_fpr_5b)\n",
        "print(\"auc score is: \",auc_score_5b)"
      ],
      "metadata": {
        "colab": {
          "base_uri": "https://localhost:8080/"
        },
        "id": "B3jJ9G3BvT-t",
        "outputId": "b78aa415-0155-4e1b-8b08-7cb2d7e502e2"
      },
      "execution_count": null,
      "outputs": [
        {
          "output_type": "stream",
          "name": "stderr",
          "text": [
            "100%|██████████| 2/2 [00:00<00:00, 211.90it/s]"
          ]
        },
        {
          "output_type": "stream",
          "name": "stdout",
          "text": [
            "auc score is:  0.7564775\n"
          ]
        },
        {
          "output_type": "stream",
          "name": "stderr",
          "text": [
            "\n"
          ]
        }
      ]
    },
    {
      "cell_type": "code",
      "source": [
        "'''import matplotlib.pyplot as plt \n",
        "import seaborn as sns\n",
        "plt.plot(all_fpr_5b, all_tpr_5b, 'r', lw=2)\n",
        "plt.plot([0, 1], [0, 1], 'k-', lw=2)\n",
        "plt.xlabel('FPR')\n",
        "plt.ylabel('TPR')\n",
        "plt.title('AUC={}'.format(round(auc_score_5b, 4)))'''"
      ],
      "metadata": {
        "colab": {
          "base_uri": "https://localhost:8080/",
          "height": 319
        },
        "id": "O9CqFzDTwCTP",
        "outputId": "b964be02-5a90-47ee-9688-77452e331624"
      },
      "execution_count": null,
      "outputs": [
        {
          "output_type": "execute_result",
          "data": {
            "text/plain": [
              "Text(0.5, 1.0, 'AUC=0.7565')"
            ]
          },
          "metadata": {},
          "execution_count": 82
        },
        {
          "output_type": "display_data",
          "data": {
            "text/plain": [
              "<Figure size 432x288 with 1 Axes>"
            ],
            "image/png": "[encoded data removed]"
          },
          "metadata": {}
        }
      ]
    },
    {
      "cell_type": "markdown",
      "source": [
        "C.Compute the best threshold (similarly to ROC curve computation) of probability which gives lowest values of metric A for the given data"
      ],
      "metadata": {
        "id": "zjeGFIhm7Q73"
      }
    },
    {
      "cell_type": "code",
      "source": [
        ""
      ],
      "metadata": {
        "id": "DIsUsltrvHsP"
      },
      "execution_count": null,
      "outputs": []
    },
    {
      "cell_type": "code",
      "source": [
        "df_5c=pd.read_csv('drive/My Drive/5_c.csv')\n",
        "df_5c.head()"
      ],
      "metadata": {
        "id": "36lGFSw5iA40",
        "colab": {
          "base_uri": "https://localhost:8080/",
          "height": 206
        },
        "outputId": "69044b76-bff8-48f5-8a8d-a5197e82fd74"
      },
      "execution_count": null,
      "outputs": [
        {
          "output_type": "execute_result",
          "data": {
            "text/plain": [
              "   y      prob\n",
              "0  0  0.458521\n",
              "1  0  0.505037\n",
              "2  0  0.418652\n",
              "3  0  0.412057\n",
              "4  0  0.375579"
            ],
            "text/html": [
              "\n",
              "  <div id=\"df-ef26ce4a-d205-4c25-9bce-ff10abc33196\">\n",
              "    <div class=\"colab-df-container\">\n",
              "      <div>\n",
              "<style scoped>\n",
              "    .dataframe tbody tr th:only-of-type {\n",
              "        vertical-align: middle;\n",
              "    }\n",
              "\n",
              "    .dataframe tbody tr th {\n",
              "        vertical-align: top;\n",
              "    }\n",
              "\n",
              "    .dataframe thead th {\n",
              "        text-align: right;\n",
              "    }\n",
              "</style>\n",
              "<table border=\"1\" class=\"dataframe\">\n",
              "  <thead>\n",
              "    <tr style=\"text-align: right;\">\n",
              "      <th></th>\n",
              "      <th>y</th>\n",
              "      <th>prob</th>\n",
              "    </tr>\n",
              "  </thead>\n",
              "  <tbody>\n",
              "    <tr>\n",
              "      <th>0</th>\n",
              "      <td>0</td>\n",
              "      <td>0.458521</td>\n",
              "    </tr>\n",
              "    <tr>\n",
              "      <th>1</th>\n",
              "      <td>0</td>\n",
              "      <td>0.505037</td>\n",
              "    </tr>\n",
              "    <tr>\n",
              "      <th>2</th>\n",
              "      <td>0</td>\n",
              "      <td>0.418652</td>\n",
              "    </tr>\n",
              "    <tr>\n",
              "      <th>3</th>\n",
              "      <td>0</td>\n",
              "      <td>0.412057</td>\n",
              "    </tr>\n",
              "    <tr>\n",
              "      <th>4</th>\n",
              "      <td>0</td>\n",
              "      <td>0.375579</td>\n",
              "    </tr>\n",
              "  </tbody>\n",
              "</table>\n",
              "</div>\n",
              "      <button class=\"colab-df-convert\" onclick=\"convertToInteractive('df-ef26ce4a-d205-4c25-9bce-ff10abc33196')\"\n",
              "              title=\"Convert this dataframe to an interactive table.\"\n",
              "              style=\"display:none;\">\n",
              "        \n",
              "  <svg xmlns=\"http://www.w3.org/2000/svg\" height=\"24px\"viewBox=\"0 0 24 24\"\n",
              "       width=\"24px\">\n",
              "    <path d=\"M0 0h24v24H0V0z\" fill=\"none\"/>\n",
              "    <path d=\"M18.56 5.44l.94 2.06.94-2.06 2.06-.94-2.06-.94-.94-2.06-.94 2.06-2.06.94zm-11 1L8.5 8.5l.94-2.06 2.06-.94-2.06-.94L8.5 2.5l-.94 2.06-2.06.94zm10 10l.94 2.06.94-2.06 2.06-.94-2.06-.94-.94-2.06-.94 2.06-2.06.94z\"/><path d=\"M17.41 7.96l-1.37-1.37c-.4-.4-.92-.59-1.43-.59-.52 0-1.04.2-1.43.59L10.3 9.45l-7.72 7.72c-.78.78-.78 2.05 0 2.83L4 21.41c.39.39.9.59 1.41.59.51 0 1.02-.2 1.41-.59l7.78-7.78 2.81-2.81c.8-.78.8-2.07 0-2.86zM5.41 20L4 18.59l7.72-7.72 1.47 1.35L5.41 20z\"/>\n",
              "  </svg>\n",
              "      </button>\n",
              "      \n",
              "  <style>\n",
              "    .colab-df-container {\n",
              "      display:flex;\n",
              "      flex-wrap:wrap;\n",
              "      gap: 12px;\n",
              "    }\n",
              "\n",
              "    .colab-df-convert {\n",
              "      background-color: #E8F0FE;\n",
              "      border: none;\n",
              "      border-radius: 50%;\n",
              "      cursor: pointer;\n",
              "      display: none;\n",
              "      fill: #1967D2;\n",
              "      height: 32px;\n",
              "      padding: 0 0 0 0;\n",
              "      width: 32px;\n",
              "    }\n",
              "\n",
              "    .colab-df-convert:hover {\n",
              "      background-color: #E2EBFA;\n",
              "      box-shadow: 0px 1px 2px rgba(60, 64, 67, 0.3), 0px 1px 3px 1px rgba(60, 64, 67, 0.15);\n",
              "      fill: #174EA6;\n",
              "    }\n",
              "\n",
              "    [theme=dark] .colab-df-convert {\n",
              "      background-color: #3B4455;\n",
              "      fill: #D2E3FC;\n",
              "    }\n",
              "\n",
              "    [theme=dark] .colab-df-convert:hover {\n",
              "      background-color: #434B5C;\n",
              "      box-shadow: 0px 1px 3px 1px rgba(0, 0, 0, 0.15);\n",
              "      filter: drop-shadow(0px 1px 2px rgba(0, 0, 0, 0.3));\n",
              "      fill: #FFFFFF;\n",
              "    }\n",
              "  </style>\n",
              "\n",
              "      <script>\n",
              "        const buttonEl =\n",
              "          document.querySelector('#df-ef26ce4a-d205-4c25-9bce-ff10abc33196 button.colab-df-convert');\n",
              "        buttonEl.style.display =\n",
              "          google.colab.kernel.accessAllowed ? 'block' : 'none';\n",
              "\n",
              "        async function convertToInteractive(key) {\n",
              "          const element = document.querySelector('#df-ef26ce4a-d205-4c25-9bce-ff10abc33196');\n",
              "          const dataTable =\n",
              "            await google.colab.kernel.invokeFunction('convertToInteractive',\n",
              "                                                     [key], {});\n",
              "          if (!dataTable) return;\n",
              "\n",
              "          const docLinkHtml = 'Like what you see? Visit the ' +\n",
              "            '<a target=\"_blank\" href=https://colab.research.google.com/notebooks/data_table.ipynb>data table notebook</a>'\n",
              "            + ' to learn more about interactive tables.';\n",
              "          element.innerHTML = '';\n",
              "          dataTable['output_type'] = 'display_data';\n",
              "          await google.colab.output.renderOutput(dataTable, element);\n",
              "          const docLink = document.createElement('div');\n",
              "          docLink.innerHTML = docLinkHtml;\n",
              "          element.appendChild(docLink);\n",
              "        }\n",
              "      </script>\n",
              "    </div>\n",
              "  </div>\n",
              "  "
            ]
          },
          "metadata": {},
          "execution_count": 30
        }
      ]
    },
    {
      "cell_type": "code",
      "source": [
        "y_values=df_5c.iloc[:,0].values\n",
        "prob_values=df_5c.iloc[:,1].values\n",
        "print(\"actual y values\",y_values)\n",
        "print(\"predicted probability y values\",prob_values)\n",
        "\n",
        "\n",
        "uni_prob_thresholds= np.unique(df_5c['prob'])"
      ],
      "metadata": {
        "colab": {
          "base_uri": "https://localhost:8080/"
        },
        "id": "iwlp7mRk86Kl",
        "outputId": "b187125f-5742-4e50-8f4a-76817acc316e"
      },
      "execution_count": null,
      "outputs": [
        {
          "output_type": "stream",
          "name": "stdout",
          "text": [
            "actual y values [0 0 0 ... 1 1 1]\n",
            "predicted probability y values [0.45852068 0.50503693 0.41865174 ... 0.65916054 0.45626546 0.65916054]\n"
          ]
        }
      ]
    },
    {
      "cell_type": "code",
      "source": [
        "def get_A_metric(y_actual,y_prob,threshold):\n",
        "  tp=0\n",
        "  fp=0\n",
        "  tn=0\n",
        "  fn=0\n",
        "  min_a = float('inf')\n",
        "  for i in range(len(y_prob)):\n",
        "    if y_prob[i] >= threshold:\n",
        "      if y_actual[i] ==1:\n",
        "        tp += 1\n",
        "      else:\n",
        "        fn += 1\n",
        "\n",
        "  A = (500 * fn) + (100 * fp)\n",
        "\n",
        "  return A        "
      ],
      "metadata": {
        "id": "yygSK05O9cm_"
      },
      "execution_count": null,
      "outputs": []
    },
    {
      "cell_type": "code",
      "source": [
        "def get_min_a(y_actual,y_pred,total_threshold):\n",
        "  min_a = float('inf')\n",
        "  min_t = 0\n",
        "\n",
        "  for threshold in total_threshold:\n",
        "    a = get_A_metric(y_actual,y_pred,threshold)\n",
        "    if a <= min_a:\n",
        "      min_a = min(a,min_a)\n",
        "      min_t = threshold\n",
        "\n",
        "  return min_a,min_t    "
      ],
      "metadata": {
        "id": "owbKpbse-8KA"
      },
      "execution_count": null,
      "outputs": []
    },
    {
      "cell_type": "code",
      "source": [
        "print(get_min_a(y_values,prob_values,uni_prob_thresholds))"
      ],
      "metadata": {
        "colab": {
          "base_uri": "https://localhost:8080/"
        },
        "id": "lpAIyLG9-8XK",
        "outputId": "d105b15c-8cbd-4912-d7ae-b95cc3a6361d"
      },
      "execution_count": null,
      "outputs": [
        {
          "output_type": "stream",
          "name": "stdout",
          "text": [
            "(0, 0.9577467989277196)\n"
          ]
        }
      ]
    },
    {
      "cell_type": "code",
      "source": [
        ""
      ],
      "metadata": {
        "id": "ZW1ozUit-8jl"
      },
      "execution_count": null,
      "outputs": []
    },
    {
      "cell_type": "markdown",
      "source": [
        "D. Compute performance metrics(for regression) for the given data 5_d.csv"
      ],
      "metadata": {
        "id": "jSxKBlWH83oN"
      }
    },
    {
      "cell_type": "markdown",
      "source": [
        "Regression\n"
      ],
      "metadata": {
        "id": "Kd__auaD89A_"
      }
    },
    {
      "cell_type": "code",
      "source": [
        "df=pd.read_csv('drive/My Drive/5_d.csv')\n",
        "df.head()"
      ],
      "metadata": {
        "colab": {
          "base_uri": "https://localhost:8080/",
          "height": 206
        },
        "id": "TwK14VsIiB7l",
        "outputId": "f1b156f3-b550-4a08-de51-5b4ed2bf9dd2"
      },
      "execution_count": null,
      "outputs": [
        {
          "output_type": "execute_result",
          "data": {
            "text/plain": [
              "       y   pred\n",
              "0  101.0  100.0\n",
              "1  120.0  100.0\n",
              "2  131.0  113.0\n",
              "3  164.0  125.0\n",
              "4  154.0  152.0"
            ],
            "text/html": [
              "\n",
              "  <div id=\"df-631435d2-4caa-4746-8694-0e439ae3dc44\">\n",
              "    <div class=\"colab-df-container\">\n",
              "      <div>\n",
              "<style scoped>\n",
              "    .dataframe tbody tr th:only-of-type {\n",
              "        vertical-align: middle;\n",
              "    }\n",
              "\n",
              "    .dataframe tbody tr th {\n",
              "        vertical-align: top;\n",
              "    }\n",
              "\n",
              "    .dataframe thead th {\n",
              "        text-align: right;\n",
              "    }\n",
              "</style>\n",
              "<table border=\"1\" class=\"dataframe\">\n",
              "  <thead>\n",
              "    <tr style=\"text-align: right;\">\n",
              "      <th></th>\n",
              "      <th>y</th>\n",
              "      <th>pred</th>\n",
              "    </tr>\n",
              "  </thead>\n",
              "  <tbody>\n",
              "    <tr>\n",
              "      <th>0</th>\n",
              "      <td>101.0</td>\n",
              "      <td>100.0</td>\n",
              "    </tr>\n",
              "    <tr>\n",
              "      <th>1</th>\n",
              "      <td>120.0</td>\n",
              "      <td>100.0</td>\n",
              "    </tr>\n",
              "    <tr>\n",
              "      <th>2</th>\n",
              "      <td>131.0</td>\n",
              "      <td>113.0</td>\n",
              "    </tr>\n",
              "    <tr>\n",
              "      <th>3</th>\n",
              "      <td>164.0</td>\n",
              "      <td>125.0</td>\n",
              "    </tr>\n",
              "    <tr>\n",
              "      <th>4</th>\n",
              "      <td>154.0</td>\n",
              "      <td>152.0</td>\n",
              "    </tr>\n",
              "  </tbody>\n",
              "</table>\n",
              "</div>\n",
              "      <button class=\"colab-df-convert\" onclick=\"convertToInteractive('df-631435d2-4caa-4746-8694-0e439ae3dc44')\"\n",
              "              title=\"Convert this dataframe to an interactive table.\"\n",
              "              style=\"display:none;\">\n",
              "        \n",
              "  <svg xmlns=\"http://www.w3.org/2000/svg\" height=\"24px\"viewBox=\"0 0 24 24\"\n",
              "       width=\"24px\">\n",
              "    <path d=\"M0 0h24v24H0V0z\" fill=\"none\"/>\n",
              "    <path d=\"M18.56 5.44l.94 2.06.94-2.06 2.06-.94-2.06-.94-.94-2.06-.94 2.06-2.06.94zm-11 1L8.5 8.5l.94-2.06 2.06-.94-2.06-.94L8.5 2.5l-.94 2.06-2.06.94zm10 10l.94 2.06.94-2.06 2.06-.94-2.06-.94-.94-2.06-.94 2.06-2.06.94z\"/><path d=\"M17.41 7.96l-1.37-1.37c-.4-.4-.92-.59-1.43-.59-.52 0-1.04.2-1.43.59L10.3 9.45l-7.72 7.72c-.78.78-.78 2.05 0 2.83L4 21.41c.39.39.9.59 1.41.59.51 0 1.02-.2 1.41-.59l7.78-7.78 2.81-2.81c.8-.78.8-2.07 0-2.86zM5.41 20L4 18.59l7.72-7.72 1.47 1.35L5.41 20z\"/>\n",
              "  </svg>\n",
              "      </button>\n",
              "      \n",
              "  <style>\n",
              "    .colab-df-container {\n",
              "      display:flex;\n",
              "      flex-wrap:wrap;\n",
              "      gap: 12px;\n",
              "    }\n",
              "\n",
              "    .colab-df-convert {\n",
              "      background-color: #E8F0FE;\n",
              "      border: none;\n",
              "      border-radius: 50%;\n",
              "      cursor: pointer;\n",
              "      display: none;\n",
              "      fill: #1967D2;\n",
              "      height: 32px;\n",
              "      padding: 0 0 0 0;\n",
              "      width: 32px;\n",
              "    }\n",
              "\n",
              "    .colab-df-convert:hover {\n",
              "      background-color: #E2EBFA;\n",
              "      box-shadow: 0px 1px 2px rgba(60, 64, 67, 0.3), 0px 1px 3px 1px rgba(60, 64, 67, 0.15);\n",
              "      fill: #174EA6;\n",
              "    }\n",
              "\n",
              "    [theme=dark] .colab-df-convert {\n",
              "      background-color: #3B4455;\n",
              "      fill: #D2E3FC;\n",
              "    }\n",
              "\n",
              "    [theme=dark] .colab-df-convert:hover {\n",
              "      background-color: #434B5C;\n",
              "      box-shadow: 0px 1px 3px 1px rgba(0, 0, 0, 0.15);\n",
              "      filter: drop-shadow(0px 1px 2px rgba(0, 0, 0, 0.3));\n",
              "      fill: #FFFFFF;\n",
              "    }\n",
              "  </style>\n",
              "\n",
              "      <script>\n",
              "        const buttonEl =\n",
              "          document.querySelector('#df-631435d2-4caa-4746-8694-0e439ae3dc44 button.colab-df-convert');\n",
              "        buttonEl.style.display =\n",
              "          google.colab.kernel.accessAllowed ? 'block' : 'none';\n",
              "\n",
              "        async function convertToInteractive(key) {\n",
              "          const element = document.querySelector('#df-631435d2-4caa-4746-8694-0e439ae3dc44');\n",
              "          const dataTable =\n",
              "            await google.colab.kernel.invokeFunction('convertToInteractive',\n",
              "                                                     [key], {});\n",
              "          if (!dataTable) return;\n",
              "\n",
              "          const docLinkHtml = 'Like what you see? Visit the ' +\n",
              "            '<a target=\"_blank\" href=https://colab.research.google.com/notebooks/data_table.ipynb>data table notebook</a>'\n",
              "            + ' to learn more about interactive tables.';\n",
              "          element.innerHTML = '';\n",
              "          dataTable['output_type'] = 'display_data';\n",
              "          await google.colab.output.renderOutput(dataTable, element);\n",
              "          const docLink = document.createElement('div');\n",
              "          docLink.innerHTML = docLinkHtml;\n",
              "          element.appendChild(docLink);\n",
              "        }\n",
              "      </script>\n",
              "    </div>\n",
              "  </div>\n",
              "  "
            ]
          },
          "metadata": {},
          "execution_count": 35
        }
      ]
    },
    {
      "cell_type": "code",
      "source": [
        "print(df['y'])\n",
        "print(df['pred'])"
      ],
      "metadata": {
        "colab": {
          "base_uri": "https://localhost:8080/"
        },
        "id": "AXjU-EZI6poH",
        "outputId": "42a576b8-58e1-465c-f631-17714406d6d3"
      },
      "execution_count": null,
      "outputs": [
        {
          "output_type": "stream",
          "name": "stdout",
          "text": [
            "0         101.0\n",
            "1         120.0\n",
            "2         131.0\n",
            "3         164.0\n",
            "4         154.0\n",
            "          ...  \n",
            "157195     87.0\n",
            "157196     97.0\n",
            "157197    106.0\n",
            "157198    105.0\n",
            "157199     81.0\n",
            "Name: y, Length: 157200, dtype: float64\n",
            "0         100.0\n",
            "1         100.0\n",
            "2         113.0\n",
            "3         125.0\n",
            "4         152.0\n",
            "          ...  \n",
            "157195     83.0\n",
            "157196     86.0\n",
            "157197     93.0\n",
            "157198    101.0\n",
            "157199    104.0\n",
            "Name: pred, Length: 157200, dtype: float64\n"
          ]
        }
      ]
    },
    {
      "cell_type": "code",
      "source": [
        "y_arr = df.iloc[:, 0].values\n",
        "print('actual_y_train_arr_5d ',y_arr )\n",
        "pred_arr = df.iloc[:, 1].values\n",
        "print('predicted_y_arr_5d ', pred_arr)"
      ],
      "metadata": {
        "colab": {
          "base_uri": "https://localhost:8080/"
        },
        "id": "NNuMvDrL9mpV",
        "outputId": "3616bd35-de84-4bcb-d6ee-cb205f62b7a2"
      },
      "execution_count": null,
      "outputs": [
        {
          "output_type": "stream",
          "name": "stdout",
          "text": [
            "actual_y_train_arr_5d  [101. 120. 131. ... 106. 105.  81.]\n",
            "predicted_y_arr_5d  [100. 100. 113. ...  93. 101. 104.]\n"
          ]
        }
      ]
    },
    {
      "cell_type": "code",
      "source": [
        "def calculate_r2_score(y_train,y_pred):\n",
        "  y_train_bar=y_train.mean()\n",
        "\n",
        "  sum_squared_residual= ((y_train - y_pred)**2).sum()\n",
        "  sum_squared_total=((y_train - y_pred)**2).sum()\n",
        "\n",
        "  return 1 - (sum_squared_residual/sum_squared_total)\n",
        "\n",
        "print(calculate_r2_score(y_arr,pred_arr)) "
      ],
      "metadata": {
        "id": "Gy1a68Uu8_yA",
        "colab": {
          "base_uri": "https://localhost:8080/"
        },
        "outputId": "03f9bf76-abf3-4b8c-d204-f794959e62a9"
      },
      "execution_count": null,
      "outputs": [
        {
          "output_type": "stream",
          "name": "stdout",
          "text": [
            "0.0\n"
          ]
        }
      ]
    },
    {
      "cell_type": "markdown",
      "source": [
        "Mean squared error"
      ],
      "metadata": {
        "id": "N1CsH_OW-Pxd"
      }
    },
    {
      "cell_type": "code",
      "source": [
        "def calculate_mse(y_actual, y_predicted):\n",
        "    mse = np.mean((y_actual - y_predicted)**2)\n",
        "    return mse\n",
        "print(calculate_mse(y_arr,pred_arr))  "
      ],
      "metadata": {
        "id": "h_v2NXtc-SIH",
        "colab": {
          "base_uri": "https://localhost:8080/"
        },
        "outputId": "a2b94059-7567-49e1-bd2f-93cd7217ba4b"
      },
      "execution_count": null,
      "outputs": [
        {
          "output_type": "stream",
          "name": "stdout",
          "text": [
            "177.16569974554707\n"
          ]
        }
      ]
    },
    {
      "cell_type": "code",
      "source": [
        "def calculate_mape(y_actual,y_pred):\n",
        "  mape= np.mean((np.abs(y_actual - y_pred)) / np.mean(y_actual)) *100\n",
        "  return mape\n",
        "\n",
        "print(calculate_mape(y_arr,pred_arr))  "
      ],
      "metadata": {
        "id": "-cO1Cde7-mQh",
        "colab": {
          "base_uri": "https://localhost:8080/"
        },
        "outputId": "027f8707-e9cc-401a-f92e-7befccf9b3e5"
      },
      "execution_count": null,
      "outputs": [
        {
          "output_type": "stream",
          "name": "stdout",
          "text": [
            "12.912029940096867\n"
          ]
        }
      ]
    },
    {
      "cell_type": "code",
      "source": [
        "def calculate_mape2(y_actual,y_pred):\n",
        "  mape= ((np.sum(np.abs(y_actual  - y_pred)))  /  np.sum(y_actual)) *100\n",
        "\n",
        "  return mape\n",
        "\n",
        "print(calculate_mape2(y_arr,pred_arr))  "
      ],
      "metadata": {
        "id": "bPoXrB_F_-X9",
        "colab": {
          "base_uri": "https://localhost:8080/"
        },
        "outputId": "dfed0f58-c310-4c71-fbed-c86f2f1ed74c"
      },
      "execution_count": null,
      "outputs": [
        {
          "output_type": "stream",
          "name": "stdout",
          "text": [
            "12.91202994009687\n"
          ]
        }
      ]
    }
  ]
}