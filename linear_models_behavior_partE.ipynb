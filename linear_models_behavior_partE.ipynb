{
  "nbformat": 4,
  "nbformat_minor": 0,
  "metadata": {
    "colab": {
      "name": "linear_models_behavior_partE.ipynb",
      "provenance": []
    },
    "kernelspec": {
      "name": "python3",
      "display_name": "Python 3"
    },
    "language_info": {
      "name": "python"
    }
  },
  "cells": [
    {
      "cell_type": "code",
      "execution_count": null,
      "metadata": {
        "id": "eX83l3Zz22oE"
      },
      "outputs": [],
      "source": [
        "#https://github.com/cr21/Behavior-of-Linear-Model-Machine-Learning-Study/blob/main/SVM_RBF_Kernel_8E.ipynb"
      ]
    },
    {
      "cell_type": "code",
      "source": [
        "import numpy as np\n",
        "import pandas as pd\n",
        "from sklearn.datasets import make_classification\n",
        "from sklearn.svm import SVC\n",
        "from sklearn.model_selection import train_test_split"
      ],
      "metadata": {
        "id": "vdiS_zGt3DO6"
      },
      "execution_count": null,
      "outputs": []
    },
    {
      "cell_type": "code",
      "source": [
        "X,y = make_classification(n_samples = 5000,n_features = 5,n_redundant=2,n_classes=2,weights=[0.7],class_sep=0.7,random_state=15)"
      ],
      "metadata": {
        "id": "zkHmzAil3DWc"
      },
      "execution_count": null,
      "outputs": []
    },
    {
      "cell_type": "code",
      "source": [
        "X_train,X_test,y_train,y_test = train_test_split(X,y,test_size=0.4,random_state=42)\n",
        "X_cv,X_test,y_cv,y_test = train_test_split(X_test,y_test,test_size = 0.5,random_state=42)\n",
        "\n",
        "print(\"X Train shape\",X_train.shape )\n",
        "print(\"X Test shape\",X_test.shape )\n",
        "print(\"X Cv shape\",X_cv.shape )                                                                                   \n"
      ],
      "metadata": {
        "colab": {
          "base_uri": "https://localhost:8080/"
        },
        "id": "o-74cSsw3DfY",
        "outputId": "cfc299c5-dff5-4614-f6b0-f93aa917ef38"
      },
      "execution_count": null,
      "outputs": [
        {
          "output_type": "stream",
          "name": "stdout",
          "text": [
            "X Train shape (3000, 5)\n",
            "X Test shape (1000, 5)\n",
            "X Cv shape (1000, 5)\n"
          ]
        }
      ]
    },
    {
      "cell_type": "code",
      "source": [
        "clf=SVC(gamma=0.001,C=100)\n",
        "clf.fit(X_train,y_train)"
      ],
      "metadata": {
        "colab": {
          "base_uri": "https://localhost:8080/"
        },
        "id": "SPZeQEC13DnA",
        "outputId": "22cc58b8-0a6c-40df-a7d2-244ecf9fd7a8"
      },
      "execution_count": null,
      "outputs": [
        {
          "output_type": "execute_result",
          "data": {
            "text/plain": [
              "SVC(C=100, gamma=0.001)"
            ]
          },
          "metadata": {},
          "execution_count": 7
        }
      ]
    },
    {
      "cell_type": "code",
      "source": [
        "vector_indices = clf.support_\n",
        "vector_dual_coeffs = clf.support_vectors_"
      ],
      "metadata": {
        "id": "8MGQMacd3EJw"
      },
      "execution_count": null,
      "outputs": []
    },
    {
      "cell_type": "code",
      "source": [
        "def rbf_func(x,xi,gamma):\n",
        "  return np.exp(-gamma*np.sum((x-xi)**2,axis=-1))"
      ],
      "metadata": {
        "id": "DgVPHupO3EUl"
      },
      "execution_count": null,
      "outputs": []
    },
    {
      "cell_type": "code",
      "source": [
        "def kernel_rbf(support_vectors,x,gamma):\n",
        "  kernels = np.zeros((x.shape[0],support_vectors.shape[0]))  #creating kernel matrix cuz we can further fill it with values\n",
        "  for index,point in enumerate(x):\n",
        "    for index1,vector in enumerate(support_vectors): #each point has vectors\n",
        "      rbf_val = rbf_func(point,vector,gamma)\n",
        "      kernels[index][index1] = rbf_val\n",
        "  return kernels    "
      ],
      "metadata": {
        "id": "NBa2LuY43Ea8"
      },
      "execution_count": null,
      "outputs": []
    },
    {
      "cell_type": "code",
      "source": [
        "def decision_func(x,intercept,dual_coeff,support_vector,gamma):\n",
        "  \n",
        "  dec_func = np.sum(dual_coeff*kernel_rbf(support_vector,x,gamma),axis=-1) + intercept\n",
        "  return dec_func"
      ],
      "metadata": {
        "id": "HPx6KKRG3Efl"
      },
      "execution_count": null,
      "outputs": []
    },
    {
      "cell_type": "code",
      "source": [
        "dec_func = decision_func(X_cv,clf.intercept_,clf.dual_coef_,clf.support_vectors_,0.001)"
      ],
      "metadata": {
        "id": "NqrHkGlb3Ejz"
      },
      "execution_count": null,
      "outputs": []
    },
    {
      "cell_type": "code",
      "source": [
        "print(dec_func)"
      ],
      "metadata": {
        "colab": {
          "base_uri": "https://localhost:8080/"
        },
        "id": "NLSEeouf3Em-",
        "outputId": "a3d3e2bd-cb2b-4902-b1f6-e7b476e1eb8e"
      },
      "execution_count": null,
      "outputs": [
        {
          "output_type": "stream",
          "name": "stdout",
          "text": [
            "[-1.76324902e+00  1.69669185e+00 -2.40989077e+00  1.85215053e+00\n",
            " -3.16365721e+00  1.12675140e+00 -3.48911789e-01 -3.51100862e+00\n",
            "  1.66030109e+00 -1.94461157e+00 -2.50990580e+00 -1.13885723e+00\n",
            " -3.82011792e+00 -1.14015157e+00 -2.57592289e+00  7.15114991e-01\n",
            " -1.31965974e+00 -7.12222868e-01  4.51215568e-01  1.91762348e+00\n",
            "  1.29668096e+00 -2.47773770e+00 -1.60578549e+00  1.44977701e+00\n",
            " -1.15173585e+00 -1.96688593e+00  7.31183803e-01 -1.87042765e+00\n",
            " -3.72478152e+00  1.13226842e+00 -3.20592040e+00 -2.42381493e+00\n",
            " -8.66691822e-01 -1.02627406e+00 -2.66889832e+00 -2.53630376e+00\n",
            " -1.43084378e+00  5.07972260e-01 -1.93942900e+00 -3.58481569e+00\n",
            " -1.80569419e+00 -2.94252342e+00 -2.05874093e+00 -3.75129300e+00\n",
            " -5.14995187e-01 -1.87778644e+00  4.54380920e-01 -2.52663321e+00\n",
            "  4.33382680e-01 -3.35342530e+00 -3.64579332e+00 -3.50988882e+00\n",
            "  3.63530370e-01 -1.19687415e+00 -6.16951395e-01 -1.54943669e-01\n",
            " -3.99353666e+00 -3.36837041e-01 -3.66844213e+00 -2.73126333e+00\n",
            " -3.45612820e+00  9.78998210e-01 -2.41982270e+00  1.09874870e+00\n",
            " -4.04793185e+00 -2.03099349e+00  5.64042745e-01 -4.84715436e+00\n",
            " -2.26799021e+00 -9.53896492e-01 -1.05322398e+00 -2.00200839e+00\n",
            " -7.90044567e-01 -2.88218317e+00 -1.81756178e+00 -3.12612840e+00\n",
            "  1.71012572e+00 -6.76839436e-01 -3.28633918e+00 -1.66101934e+00\n",
            " -2.33776095e+00 -2.43203337e+00 -1.66184081e+00 -3.38300646e+00\n",
            " -2.38951111e+00 -1.99612151e-01 -3.16487189e+00 -2.44688265e+00\n",
            " -1.17385448e+00 -2.16930100e+00 -2.99676386e+00 -2.66779758e+00\n",
            "  1.35266452e+00  1.64502533e+00 -2.64457740e+00 -2.41638001e+00\n",
            " -2.70766680e+00 -2.16882955e+00  1.86528642e+00 -3.27612078e+00\n",
            "  3.68527290e+00 -2.49194751e+00 -2.72192350e+00  9.29476430e-01\n",
            "  1.50665227e+00  1.42571565e+00 -2.86476077e+00 -2.92021833e+00\n",
            " -1.68767504e+00 -2.45583004e+00  1.15884049e-01 -1.14690180e+00\n",
            " -1.20285240e+00  1.38727315e+00 -3.68427494e+00 -1.05876547e+00\n",
            " -1.12699725e+00 -2.84735645e+00  2.34440135e-01 -1.49963660e+00\n",
            " -3.17756645e+00 -2.44735307e+00 -2.82308295e+00 -1.67030577e+00\n",
            " -3.19575122e+00 -3.16735485e+00  9.77028455e-01  1.87286517e+00\n",
            " -2.96788233e+00 -2.81572223e+00  1.93668011e+00 -1.88821377e+00\n",
            " -1.03122648e+00  2.48082852e-01 -2.66109621e+00  3.76126957e-01\n",
            "  1.53567638e+00 -7.53486537e-01  2.02201171e+00 -2.46036751e+00\n",
            "  1.06008323e+00 -1.52574745e+00 -2.30210102e+00 -2.84355245e+00\n",
            " -3.60514328e+00 -2.05065375e+00 -3.38853838e+00 -2.28419240e+00\n",
            " -2.44402367e+00  5.69849137e-01 -6.08448784e-01 -8.04685524e-01\n",
            " -3.59152473e+00 -2.60477988e+00 -3.79465677e+00 -2.57470192e+00\n",
            " -2.23099489e+00  1.37937263e+00 -3.67974427e+00 -1.53067417e+00\n",
            " -2.37356316e+00 -3.94408671e+00 -2.37924370e+00 -2.25710762e+00\n",
            "  3.68974845e-01 -3.05221486e+00  1.83705137e+00 -3.97652726e+00\n",
            " -5.61401544e-01 -1.81038030e+00 -3.08989843e+00 -2.39083968e+00\n",
            " -1.95078145e+00 -2.32686394e+00  2.26027518e+00  9.92716673e-01\n",
            " -1.33695416e+00 -1.43054871e+00 -1.04865525e+00 -9.17345095e-01\n",
            " -2.99967166e+00 -1.56902548e+00 -3.48029779e+00 -2.98090170e+00\n",
            " -1.90698907e+00 -2.99383361e+00 -5.16253447e+00 -2.01068562e+00\n",
            " -1.20514055e+00 -1.10783962e+00 -3.17039992e+00  1.81698322e+00\n",
            " -1.57184739e+00  1.82604402e-01 -8.04811338e-03  3.02081050e-01\n",
            "  1.80156181e+00 -1.10384832e+00 -1.34421159e+00 -3.53177996e+00\n",
            " -2.54171540e+00  1.09911382e+00  1.73706391e+00 -3.75648067e+00\n",
            " -4.01802108e+00 -2.45423153e+00 -2.55616872e+00 -2.80043765e+00\n",
            "  1.26413080e+00 -1.87264235e+00 -3.39287814e+00 -2.09234955e+00\n",
            "  9.78204052e-01  1.98738437e-01 -2.80613616e+00 -1.75443379e+00\n",
            " -3.47183462e+00 -2.30475567e+00 -2.16142201e+00  1.82479028e+00\n",
            " -3.36935199e+00 -3.08509365e+00 -1.93410742e+00  1.61566901e+00\n",
            " -1.22980387e+00 -1.97840469e+00 -2.77483417e+00  2.30294566e+00\n",
            " -4.11625464e+00  1.06008099e+00 -2.35011409e+00 -2.79381907e+00\n",
            " -2.80352001e+00 -2.17492638e+00 -3.13849700e+00 -2.46762695e+00\n",
            "  2.73294081e+00 -8.45249212e-01 -1.40369265e+00 -2.56560115e+00\n",
            " -3.13779527e+00 -3.19250000e+00  1.66384512e+00 -1.37086521e+00\n",
            "  1.76809420e+00 -3.42894784e+00 -2.70522560e+00 -9.49824120e-01\n",
            "  1.63264465e+00 -2.89823110e+00 -2.12346377e+00  2.33267587e+00\n",
            "  2.43476717e+00 -3.43578214e+00  1.61615547e+00 -1.40509163e+00\n",
            " -2.76623132e+00 -1.25869622e+00  1.19425402e+00 -3.22156582e+00\n",
            " -3.57659534e+00 -3.00252577e+00  1.23501541e+00  1.75246241e+00\n",
            " -2.50229845e+00 -2.32276145e+00 -1.58379364e+00 -2.81953595e+00\n",
            " -1.18963977e-01 -6.79404875e-02  1.19871477e+00 -4.33277042e+00\n",
            "  1.81353239e+00 -3.80078641e-01  1.48945168e+00  9.21764764e-01\n",
            " -2.77765859e+00 -5.56261810e-01 -2.22055186e+00  1.87671439e+00\n",
            " -1.77603902e+00  1.43378202e+00 -1.29480926e-01 -2.82879987e+00\n",
            " -2.06958284e+00 -2.36370348e+00  2.02840039e+00  5.40077076e-01\n",
            " -2.29059106e+00  1.59344293e+00 -2.79791391e+00 -3.02893700e-01\n",
            " -3.26709092e+00 -5.22285933e+00  1.80864115e+00 -3.56081861e+00\n",
            "  2.17167703e+00 -3.85486917e+00  2.04844481e+00 -1.98655759e+00\n",
            " -3.88657541e+00 -2.52575522e+00 -9.91253698e-01 -1.93410546e+00\n",
            "  1.50816099e+00 -1.53916924e+00 -1.52839419e+00 -9.84504309e-01\n",
            " -2.64684348e+00 -1.82210800e+00 -3.14323011e+00  1.67257117e+00\n",
            " -3.94604360e-01  1.41933306e+00 -3.35677323e-01  1.36656322e+00\n",
            "  1.04316025e+00 -3.83688018e+00 -1.64682919e+00  7.99383228e-01\n",
            " -2.30547772e+00 -3.94916285e+00 -2.98418538e+00 -3.41949887e+00\n",
            " -2.96285580e+00 -1.17336727e+00  2.31098147e+00 -2.36674318e+00\n",
            "  1.77868215e+00 -1.30560938e+00  1.89470290e+00  1.84189225e+00\n",
            "  9.91353116e-01 -2.91499786e+00 -1.94327284e-01  4.04199906e-02\n",
            " -3.05233984e+00 -8.31414911e-01  2.15422959e+00 -2.44588475e+00\n",
            " -2.67464042e+00  1.94951538e+00 -2.28387728e+00  2.31341730e+00\n",
            "  1.08927078e+00 -3.87346239e+00  1.29350120e+00 -2.97109427e+00\n",
            " -3.37590991e+00 -2.76034336e+00 -1.79742715e+00 -2.29037489e+00\n",
            " -8.84867047e-01 -1.78774590e+00 -2.14768136e+00  6.88782910e-01\n",
            "  9.67039810e-01 -2.92257250e+00  1.10070039e+00 -2.18325303e+00\n",
            "  1.83053884e+00 -2.99343122e+00  7.98384557e-01 -1.63049275e+00\n",
            " -1.00578414e+00 -2.17185094e-02  2.21652996e+00  1.57049054e+00\n",
            " -2.97174276e+00 -5.53869136e-01 -3.17731359e+00 -2.94866904e+00\n",
            "  1.88190780e+00 -4.63223396e+00 -3.71219198e+00 -4.35622229e+00\n",
            "  1.64232780e+00  1.10945083e+00  1.44359815e+00  1.71194516e+00\n",
            " -2.61102624e+00 -3.99134809e-01 -3.62290313e+00 -2.04283941e+00\n",
            " -2.32006812e+00 -3.17747113e+00 -3.21914554e+00 -2.42041455e+00\n",
            " -2.71829230e+00  1.96506702e+00  2.12002082e+00 -2.16936893e+00\n",
            " -1.57583176e+00  1.72002667e+00 -3.76727728e+00 -3.78069468e+00\n",
            " -2.07138162e+00 -2.19200870e+00 -2.00910731e+00  2.08930318e+00\n",
            " -3.13187903e+00 -6.99815862e-01  1.05635380e+00 -2.70493022e+00\n",
            "  2.11537137e+00 -2.22238398e+00 -1.37360375e+00 -3.64223584e+00\n",
            " -2.76477918e+00  1.78309022e+00 -1.18399124e+00  1.87282731e+00\n",
            "  1.66595715e+00  9.16954563e-01 -3.13462257e+00 -3.16152581e+00\n",
            " -1.04545095e+00 -1.99969342e+00 -2.46622517e+00  6.38285420e-01\n",
            " -2.85446656e+00 -7.86004298e-01 -5.10481929e-01  1.57993649e+00\n",
            "  6.40433031e-01  9.93865029e-01 -8.19952798e-01 -3.04880509e+00\n",
            " -2.28248336e+00  2.19509684e+00 -3.83461125e+00  4.13254577e-01\n",
            "  1.74892721e+00 -2.91306720e+00  1.45020736e+00 -3.30770668e+00\n",
            " -2.70323710e+00 -2.54720692e+00 -2.72557493e+00 -1.87040532e+00\n",
            " -6.87621486e-01 -9.73227962e-01 -3.19191204e+00 -1.62246123e+00\n",
            " -2.73072293e+00 -1.22587935e+00 -2.76595359e+00 -3.33083947e+00\n",
            " -2.92405747e+00 -1.58661655e+00  8.10597748e-01 -1.09603740e+00\n",
            " -2.58442937e+00  1.89983889e+00 -1.55737048e+00  5.41220260e-01\n",
            " -1.89433211e+00 -2.21312614e+00 -4.35101556e+00 -3.04115165e+00\n",
            " -3.33798590e+00 -9.79851167e-02 -1.70427854e+00  1.77359136e+00\n",
            "  1.64266899e+00  5.69770433e-01  1.37136099e+00 -3.15830081e+00\n",
            " -3.11045817e+00  1.34257696e+00 -1.22728902e+00 -7.83867600e-01\n",
            " -2.58290731e+00 -2.42016128e+00 -3.57305430e+00 -1.11908751e+00\n",
            "  1.77577980e+00 -2.92173683e+00  8.64699998e-01  1.34041328e-02\n",
            "  1.77818144e+00 -1.81891650e+00 -1.74353107e+00  1.07582820e+00\n",
            "  1.74679231e+00 -1.37999426e+00 -2.07674654e+00 -2.57935378e+00\n",
            " -1.72780179e+00  1.03051871e+00 -2.79672543e+00 -8.98509037e-01\n",
            " -2.80038814e+00 -1.68641684e+00 -2.66416873e+00 -2.31716891e+00\n",
            " -3.43170557e+00 -2.86824862e+00 -3.44504772e+00 -4.04804999e+00\n",
            "  1.40938290e+00 -1.77454115e+00  7.47181519e-01 -3.77082766e+00\n",
            "  2.26492574e-01 -8.10399386e-01  5.72953786e-01  3.06721490e-01\n",
            "  1.82222966e+00 -2.29366192e+00 -2.91914741e+00 -2.31781979e+00\n",
            " -2.99119219e+00  1.57919711e+00  1.88614198e+00  1.61255465e+00\n",
            " -2.43057072e+00 -1.68411036e-01 -2.89240852e+00  1.64063405e+00\n",
            " -3.68924631e+00 -1.70729427e+00 -2.10668796e+00 -3.24159684e+00\n",
            " -2.97183891e+00 -2.69092469e+00 -2.45194160e+00  2.81547371e+00\n",
            " -2.10862474e+00  1.39398288e+00 -1.64445728e+00 -2.60942335e+00\n",
            "  3.72141367e-02 -3.05796791e+00  1.75876389e+00  5.87569920e-01\n",
            "  9.35503028e-01 -3.49982820e+00 -1.26143970e+00  2.33615089e-01\n",
            " -2.85257678e+00 -2.07771943e+00 -2.13517154e+00 -2.42362182e+00\n",
            " -1.74705476e+00 -2.04019943e+00 -2.14401536e+00 -3.99338260e+00\n",
            "  8.36775815e-01  3.97378797e-01 -3.49172837e+00  1.57093660e+00\n",
            "  2.06508415e+00 -2.26669525e+00 -3.25246559e+00 -1.80667560e+00\n",
            " -3.78365458e+00  2.34848980e-01  2.86298782e+00 -2.68862936e+00\n",
            " -1.60782143e+00 -2.80029177e+00 -3.82669264e+00 -2.58782948e+00\n",
            " -2.41526964e-01  1.98784221e+00 -2.39023809e+00 -2.75934998e+00\n",
            "  2.02883690e+00  9.15690507e-01  1.19255510e+00 -2.10552492e+00\n",
            " -1.36683697e+00 -1.50445250e+00  1.61059484e+00 -2.45796481e+00\n",
            " -1.61930150e+00 -3.43390252e+00 -3.12690651e+00  9.65456768e-01\n",
            " -2.45924889e+00  1.91108609e+00  1.44165647e+00 -2.19599501e+00\n",
            " -2.87230861e+00 -3.01310854e-01 -3.90366551e+00 -2.95946308e+00\n",
            " -3.25017726e+00 -2.32245554e+00 -1.92366604e+00  2.02805429e+00\n",
            "  1.63892227e+00 -1.97186996e+00 -4.64510217e+00  2.37955219e+00\n",
            " -2.83549472e+00 -2.88032083e+00 -3.03495979e+00 -3.72652996e+00\n",
            " -1.71471944e+00  1.98058589e+00 -1.51583834e+00 -9.92665468e-01\n",
            " -3.79001664e+00 -2.03403458e+00 -2.88716371e+00 -3.48832128e+00\n",
            " -2.49665915e+00 -1.07480503e+00 -2.10472728e+00 -1.65881179e+00\n",
            " -1.75889096e+00  1.30881541e+00 -2.93137128e+00 -1.59916379e+00\n",
            " -2.68992588e+00 -1.58304307e+00 -3.59629199e+00 -3.84491603e+00\n",
            " -2.87893466e+00 -3.03408055e+00 -2.02732699e+00  2.22264304e+00\n",
            " -3.50913018e+00 -2.49007664e+00  2.19562833e-01  1.40708781e+00\n",
            " -1.86944096e+00  2.07864248e-01  2.47838575e+00 -2.22668885e+00\n",
            "  1.28874382e+00 -1.00644675e+00 -3.62300184e+00 -3.30602514e+00\n",
            "  2.05500750e+00 -3.28296000e+00 -8.30118864e-01 -2.17133620e+00\n",
            "  2.30800284e-01 -5.26804576e+00 -2.69399637e+00  3.00951053e+00\n",
            "  2.50004313e+00  2.01798452e+00  1.78929723e+00  5.25195524e-01\n",
            "  1.26585508e+00 -1.96825287e+00 -3.17335733e+00 -2.94378582e+00\n",
            "  1.18919045e+00 -3.49618838e+00 -2.60997644e+00 -3.25693978e+00\n",
            "  1.29024045e+00 -2.02919448e+00 -3.72675426e+00 -1.98255392e+00\n",
            " -1.55033474e+00 -1.53023269e+00 -2.21794832e+00  7.89333472e-01\n",
            " -2.36522775e+00  7.97894898e-01  1.88022896e-01 -3.06582859e+00\n",
            " -1.28337917e+00  1.01230649e+00 -1.12837248e+00 -2.87944791e+00\n",
            " -9.90654725e-01 -1.63444412e+00 -2.61379250e+00 -1.57029712e+00\n",
            " -1.71808056e+00 -3.68475882e+00  7.98670492e-01 -1.94529817e+00\n",
            " -3.49950953e-01 -3.12153041e+00 -1.34911630e+00  2.07576238e+00\n",
            "  6.18905680e-01 -2.40259951e+00 -2.01040500e+00 -3.93335289e+00\n",
            "  6.90446489e-01 -3.91212814e+00 -1.00236702e+00  1.09004549e-01\n",
            " -2.18961857e+00 -3.14441691e+00 -2.79193906e+00 -1.92893631e+00\n",
            " -1.67044779e+00  2.09703885e-01  2.13878050e+00 -6.82315886e-01\n",
            " -1.59680855e+00  1.69862289e+00  5.48311657e-01 -2.51646933e+00\n",
            "  1.98576933e+00 -3.76772731e+00 -2.39780995e+00 -3.24194507e+00\n",
            " -9.76830808e-01 -1.75383651e+00 -2.37964866e+00 -3.38546001e+00\n",
            " -9.28590438e-02 -1.70065077e+00 -1.62921893e+00 -2.83023370e+00\n",
            " -2.32451032e+00  1.33883698e-01 -3.62598180e+00  2.05215055e+00\n",
            " -7.58381669e-01 -3.23965746e+00 -2.22619277e+00 -3.41419216e-02\n",
            " -2.40334694e+00  1.05834618e+00 -5.34529437e+00 -2.99844974e+00\n",
            " -2.17200033e+00  1.29441609e+00 -2.32429424e+00 -2.18390668e+00\n",
            " -2.18827705e+00 -1.30037626e+00 -3.98376190e+00 -1.26729544e-01\n",
            " -6.90472620e+00 -6.23537459e-01 -3.55419077e+00 -2.74166225e+00\n",
            " -8.11838816e-01 -2.32775110e+00 -1.32536894e+00  1.51524755e+00\n",
            "  1.05241161e+00 -1.36630349e+00 -2.99713322e+00  1.96234187e+00\n",
            "  8.52445153e-01 -2.73964214e+00 -1.18890495e+00 -2.89842398e+00\n",
            "  2.08132316e+00 -1.32629300e+00 -2.14884734e+00 -2.95560858e-01\n",
            " -4.50322365e+00 -3.46161182e+00  1.67135078e+00  2.05683889e+00\n",
            "  2.36348842e+00 -4.29005602e+00  1.25639610e+00 -1.06839624e+00\n",
            " -2.61216146e+00 -1.88403070e+00 -3.11876985e+00  2.20960304e-01\n",
            "  1.82113143e+00 -2.96102699e+00 -1.30267126e+00 -2.52019024e+00\n",
            " -3.81430257e+00 -2.16203949e+00 -2.75397962e+00  1.74910359e+00\n",
            "  1.28090101e+00 -2.71088439e+00  2.01078485e+00 -1.05856705e+00\n",
            "  2.37480955e+00 -2.41026998e+00  9.80246803e-01 -1.64213954e+00\n",
            " -3.22549864e+00 -1.65093855e+00 -1.44365097e+00  1.64260132e+00\n",
            "  1.88793144e+00 -4.57087922e+00 -2.59361304e+00 -3.21749646e+00\n",
            " -3.40812394e+00 -4.54631892e+00  1.90834483e+00 -1.53974288e+00\n",
            " -7.24977372e-01  1.73120299e+00 -2.28175556e+00 -2.14721859e+00\n",
            " -1.95724705e+00 -1.93036619e+00 -1.87402295e+00 -5.80208441e-02\n",
            " -3.97512625e+00 -3.38127243e-01  1.59674517e+00 -2.35621402e+00\n",
            "  1.55489810e+00 -1.71939959e-01 -4.44348347e+00 -1.23865887e+00\n",
            " -2.58175508e+00 -2.24229660e+00  2.00854161e+00  2.15838653e+00\n",
            " -2.07428714e-01 -3.43267491e+00 -1.45866564e+00 -2.36829779e+00\n",
            "  1.82679359e+00 -1.02703029e+00 -3.28536965e+00  9.02139954e-01\n",
            "  1.65305547e+00 -1.01063863e+00  7.93441393e-01  1.42231613e+00\n",
            " -2.55297711e+00 -2.81646163e+00 -3.18769119e+00 -3.73153312e+00\n",
            " -2.26339773e+00 -2.49275205e+00  1.74273153e+00 -1.39817018e+00\n",
            " -1.44505902e+00 -1.92807468e+00 -1.56398166e+00  1.37131778e+00\n",
            "  2.04665980e+00 -3.52825618e+00 -3.35793707e+00 -3.19980179e+00\n",
            " -1.59838453e+00 -1.65269257e+00  2.10278613e+00 -1.65981504e+00\n",
            "  2.01761088e+00 -3.24420133e+00 -1.89552250e+00 -1.80044358e+00\n",
            "  1.81687850e+00 -1.84192593e-01 -3.13132972e+00 -4.12305208e-01\n",
            " -2.04541443e+00 -3.48583342e+00 -1.49160005e+00 -2.28978842e+00\n",
            "  1.75251759e+00 -1.29576516e+00 -2.35593910e+00 -2.82505891e+00\n",
            " -2.44470515e+00 -1.77051279e+00 -2.89077899e+00  1.97501295e+00\n",
            " -1.94438673e+00 -4.03587856e+00 -1.71219037e+00 -8.98049156e-01\n",
            " -1.72036069e+00  8.72553250e-01  1.91148154e+00 -2.20528986e+00\n",
            " -2.31379348e+00  1.96999772e+00 -2.92128702e+00 -1.92884034e+00\n",
            " -9.42317690e-01 -3.57900825e+00  1.72932059e+00 -1.08073218e+00\n",
            " -2.61500556e+00 -4.08095764e+00 -1.25698939e+00 -3.04975639e+00\n",
            " -3.67069909e+00 -1.57749026e+00 -2.05360657e+00 -1.24369943e+00\n",
            " -9.23077323e-01 -3.95356690e+00 -2.99009402e+00 -1.95099601e+00\n",
            " -3.31405316e+00 -2.28651213e+00 -2.49697161e+00 -2.87264763e+00\n",
            " -2.07776321e+00 -1.35220571e+00 -2.30221061e+00 -1.90722293e+00\n",
            "  1.75969650e+00 -2.89029671e+00  8.80871211e-01 -1.69014630e+00\n",
            " -4.69505067e+00 -2.46000821e+00  1.81344348e+00 -3.38649015e+00\n",
            " -9.16084212e-01 -2.14527324e+00 -2.54202735e+00  2.10298272e+00\n",
            "  1.39307341e+00  1.60703524e+00 -2.15979954e+00  1.50574879e+00\n",
            " -3.28302193e+00  1.19029209e+00  2.39633559e+00 -3.66288643e-03\n",
            " -3.74304428e+00 -1.52593144e+00 -1.83579384e+00 -3.13025704e+00\n",
            " -2.48260296e+00 -3.52435561e+00 -6.80718770e-01 -5.25238477e-01\n",
            " -2.00161749e+00 -3.66875724e-01 -2.26010498e+00  1.61010568e+00\n",
            "  2.00009222e+00 -2.41110792e+00 -2.01826780e+00 -2.59081966e-01\n",
            " -2.07998495e+00 -3.74309192e+00 -2.23458998e+00 -2.10229778e+00\n",
            " -3.50391058e+00 -2.71658115e+00 -2.52987398e+00  1.85703585e+00\n",
            " -3.65382935e+00  2.96635753e+00 -1.96145486e+00 -2.73408216e+00\n",
            " -5.38258027e+00 -7.08716686e-01  4.56471345e-01 -4.05107267e+00\n",
            " -9.06650575e-01 -8.66549016e-01  1.75487036e+00  2.07836870e+00\n",
            "  1.74560623e+00 -2.52680880e+00  2.09254499e+00 -2.82225582e+00\n",
            "  1.00460969e+00 -3.82842356e+00 -4.18853872e-01 -3.96919214e+00\n",
            " -4.44422654e+00 -2.26574881e+00 -2.82109624e+00 -2.54899261e+00\n",
            " -1.96096270e+00 -2.13921762e+00 -1.52922403e+00  2.33639072e+00\n",
            " -3.08687228e+00 -1.91034931e+00 -3.10988918e+00 -2.81970389e+00\n",
            " -6.17008444e-02 -2.66544253e+00  6.62413698e-01 -3.66753990e+00\n",
            " -1.88670262e+00  5.90986755e-01  1.62259762e+00 -1.93438887e+00\n",
            " -2.82235632e+00  1.65982901e+00  1.45506257e+00 -1.38144148e+00\n",
            " -1.96099648e+00  1.89106543e+00  1.11105356e+00 -1.21653605e+00\n",
            " -5.05106648e-01  2.17994128e-01 -2.58386978e+00 -2.36954843e+00]\n"
          ]
        }
      ]
    },
    {
      "cell_type": "markdown",
      "source": [
        "Hence, we have the decision boundary values."
      ],
      "metadata": {
        "id": "8h3u7JYK0dMY"
      }
    },
    {
      "cell_type": "code",
      "source": [
        ""
      ],
      "metadata": {
        "id": "L0a8feL13EqE"
      },
      "execution_count": null,
      "outputs": []
    },
    {
      "cell_type": "markdown",
      "source": [
        "Task F: Implementing Platt Scaling to find P(Y==1|X)"
      ],
      "metadata": {
        "id": "KWneGcWu0qlj"
      }
    },
    {
      "cell_type": "code",
      "source": [
        "array_vals,array_count=np.unique(y_train,return_counts=True)\n",
        "print(array_vals,array_count)"
      ],
      "metadata": {
        "id": "9h-XmkFs3EtU",
        "colab": {
          "base_uri": "https://localhost:8080/"
        },
        "outputId": "8c599bd4-c973-4f29-cf5a-acb86ed21fe4"
      },
      "execution_count": null,
      "outputs": [
        {
          "output_type": "stream",
          "name": "stdout",
          "text": [
            "[0 1] [2070  930]\n"
          ]
        }
      ]
    },
    {
      "cell_type": "code",
      "source": [
        "def calibProb(Y):\n",
        "  n_positive = array_count[1]\n",
        "  n_negative = array_count[0]\n",
        "  print(\"positive values:\",n_positive)\n",
        "  print(\"negative values:\",n_negative)\n",
        "  calib_y_positive = (n_positive + 1) / (n_positive + 2)\n",
        "  calib_y_negative = 1/ (n_negative + 2)\n",
        "  return calib_y_positive,calib_y_negative"
      ],
      "metadata": {
        "id": "rjmS0K6-0y3T"
      },
      "execution_count": null,
      "outputs": []
    },
    {
      "cell_type": "code",
      "source": [
        "calib_pos_cv,calib_neg_cv = calibProb(y_cv)\n",
        "print(\"calib_pos_cv: {}, calib_neg_cv; {}\".format(calib_pos_cv,calib_neg_cv))"
      ],
      "metadata": {
        "colab": {
          "base_uri": "https://localhost:8080/"
        },
        "id": "6FC8ymZf0zAD",
        "outputId": "ef1e780f-4b06-4589-d84d-faca99dbebdd"
      },
      "execution_count": null,
      "outputs": [
        {
          "output_type": "stream",
          "name": "stdout",
          "text": [
            "positive values: 930\n",
            "negative values: 2070\n",
            "calib_pos_cv: 0.9989270386266095, calib_neg_cv; 0.00048262548262548264\n"
          ]
        }
      ]
    },
    {
      "cell_type": "code",
      "source": [
        "def updated_y(y, y_train ):\n",
        "  updated_y = []\n",
        "  calib_y_pos, calib_y_neg = calibProb(y_train)\n",
        "  for i in y:\n",
        "    if i == 1:\n",
        "      updated_y.append(calib_y_pos)\n",
        "    else:\n",
        "      updated_y.append(calib_y_neg)\n",
        "  return updated_y"
      ],
      "metadata": {
        "id": "jAzv20h80zKd"
      },
      "execution_count": null,
      "outputs": []
    },
    {
      "cell_type": "code",
      "source": [
        "def sigmoid(w,x,b):\n",
        "  return 1/(1+np.exp(-(np.dot(x,w.T)+b)))"
      ],
      "metadata": {
        "id": "Xdeq0BRQ0zUS"
      },
      "execution_count": null,
      "outputs": []
    },
    {
      "cell_type": "code",
      "source": [
        "def log_loss(w,b,x,y):\n",
        "  sum_log = 0\n",
        "  for i in range(n):\n",
        "    sum_log += y[i]*np.log10(sigmoid(w,x[i],b)) + (1-y[i])*np.log10(1-sigmoid(w,x[i],b))\n",
        "    return -1*sum_log/n"
      ],
      "metadata": {
        "id": "Pg9dRISP0zc9"
      },
      "execution_count": null,
      "outputs": []
    },
    {
      "cell_type": "code",
      "source": [
        "n = len(dec_func)\n",
        "f_cv = dec_func\n",
        "w = np.zeros_like(f_cv[0],)\n",
        "b = 0\n",
        "eta0 = 0.001\n",
        "alpha = 0.0001\n",
        "\n",
        "cv_loss = []\n",
        "EPOCH = 1\n",
        "prevLoss = float(\"inf\")\n",
        "y = updated_y(y_cv,y_train)\n",
        "for epoch in range(0,10):\n",
        "  \n",
        "  for j in range(n):\n",
        "    w =  ((1-((eta0*alpha)/n)) * w) + (eta0 * f_cv[j]) * (y[j] -sigmoid(w,f_cv[j],b))\n",
        "    b = b + (eta0)*(y[j] - sigmoid(w,f_cv[j],b))\n",
        "    loss = log_loss(w,b,f_cv,y)\n",
        "    \n",
        "  loss_val = log_loss(w,b,f_cv,y)\n",
        "  cv_loss.append(loss_val)\n"
      ],
      "metadata": {
        "colab": {
          "base_uri": "https://localhost:8080/"
        },
        "id": "khy1Ozxp1JAH",
        "outputId": "8508becb-a0dd-424d-a042-81816548cbf0"
      },
      "execution_count": null,
      "outputs": [
        {
          "output_type": "stream",
          "name": "stdout",
          "text": [
            "positive values: 930\n",
            "negative values: 2070\n"
          ]
        }
      ]
    },
    {
      "cell_type": "code",
      "source": [
        "import matplotlib.pyplot as plt \n",
        "epoch=np.arange(0,10) \n",
        "plt.plot(epoch,cv_loss,label='f_cv_loss')\n",
        "plt.legend()\n",
        "plt.xlabel(\"Number of epoch\")\n",
        "plt.ylabel(\"log loss\")\n",
        "plt.title(\"epoch v/s log loss\")\n",
        "plt.show()"
      ],
      "metadata": {
        "colab": {
          "base_uri": "https://localhost:8080/",
          "height": 295
        },
        "id": "xdXjmG5d1NDK",
        "outputId": "69bb64a8-0573-40fb-81fd-7e1d1c6ae035"
      },
      "execution_count": null,
      "outputs": [
        {
          "output_type": "display_data",
          "data": {
            "text/plain": [
              "<Figure size 432x288 with 1 Axes>"
            ],
            "image/png": "[encoded data removed]"
          },
          "metadata": {
            "needs_background": "light"
          }
        }
      ]
    },
    {
      "cell_type": "code",
      "source": [
        "optimized_w = w\n",
        "optimized_b = b\n",
        "print(\"optimized_w {} optimized_b {}\".format(optimized_w,optimized_b) )"
      ],
      "metadata": {
        "colab": {
          "base_uri": "https://localhost:8080/"
        },
        "id": "JryRN_ku1QwZ",
        "outputId": "1208a49c-5b20-4459-9648-0fdda01af74a"
      },
      "execution_count": null,
      "outputs": [
        {
          "output_type": "stream",
          "name": "stdout",
          "text": [
            "optimized_w 1.4961567940623555 optimized_b -0.14743287088617718\n"
          ]
        }
      ]
    },
    {
      "cell_type": "code",
      "source": [
        "f_test = decision_func(X_test,clf.intercept_, clf.dual_coef_, clf.support_vectors_, 0.001 )"
      ],
      "metadata": {
        "id": "UFl570vF1Udj"
      },
      "execution_count": null,
      "outputs": []
    },
    {
      "cell_type": "code",
      "source": [
        "probabilities = sigmoid(optimized_w, f_test, optimized_b)"
      ],
      "metadata": {
        "id": "quy2Ftjp1Upf"
      },
      "execution_count": null,
      "outputs": []
    },
    {
      "cell_type": "code",
      "source": [
        "print(probabilities)"
      ],
      "metadata": {
        "colab": {
          "base_uri": "https://localhost:8080/"
        },
        "id": "sQaFqZBX0zl5",
        "outputId": "e71110ea-ce54-49de-e2d5-decef7527194"
      },
      "execution_count": null,
      "outputs": [
        {
          "output_type": "stream",
          "name": "stdout",
          "text": [
            "[7.15835598e-02 3.93508097e-02 2.09817473e-01 3.07843074e-02\n",
            " 2.87432916e-03 8.78846417e-03 2.21950517e-02 9.85573367e-01\n",
            " 5.46705913e-03 8.50868949e-01 3.44213277e-02 7.93342336e-01\n",
            " 2.93181526e-01 4.02782095e-02 2.20052683e-01 9.92221862e-01\n",
            " 6.35977323e-03 9.97045618e-03 1.20408968e-01 1.17239833e-02\n",
            " 9.39387600e-01 3.56933034e-02 9.10177223e-01 1.21334283e-01\n",
            " 3.27608433e-02 7.15013460e-01 9.20146092e-01 1.86272907e-01\n",
            " 1.28319719e-02 7.85014868e-01 3.20626660e-02 9.64413276e-01\n",
            " 5.87373656e-02 4.57107501e-03 1.02460696e-02 1.01025253e-01\n",
            " 1.16055257e-01 2.56894184e-02 9.44126215e-01 5.49509621e-03\n",
            " 1.54951063e-03 6.02892079e-01 2.80408403e-02 9.01741831e-03\n",
            " 9.19265183e-03 5.63022442e-02 1.08071747e-02 2.01867186e-02\n",
            " 8.82612230e-01 5.38719431e-02 1.27535169e-02 2.62326227e-02\n",
            " 2.20125815e-02 6.09686452e-01 9.03169286e-01 9.53987942e-01\n",
            " 4.29623326e-03 9.72336657e-01 7.37660113e-01 8.40157832e-03\n",
            " 2.72188163e-02 9.39215505e-01 3.15798553e-02 1.40879481e-02\n",
            " 4.94486199e-02 1.99365880e-01 6.61071996e-03 4.92339561e-03\n",
            " 1.86629149e-01 6.39480332e-03 1.89300854e-02 3.65859464e-01\n",
            " 8.98541226e-01 5.46708078e-02 9.10413613e-03 7.11811984e-02\n",
            " 1.93987879e-01 8.07522729e-02 4.94822452e-03 1.15732791e-02\n",
            " 6.65607182e-01 3.97136585e-03 5.28525581e-02 7.42978537e-01\n",
            " 9.68492503e-01 6.98819683e-01 7.79455049e-02 8.69992942e-01\n",
            " 4.86858781e-02 6.01041467e-01 7.46022557e-01 5.97534867e-03\n",
            " 7.40661295e-02 4.80285576e-03 9.29829649e-01 3.14244967e-01\n",
            " 1.33498554e-02 8.79971804e-02 8.45277263e-01 7.86635173e-01\n",
            " 9.02900038e-01 9.40001385e-01 8.88456885e-01 7.48729638e-01\n",
            " 8.38732996e-01 2.22715867e-02 9.35366200e-01 1.09433139e-01\n",
            " 1.47316590e-01 1.33109790e-02 9.28397678e-03 3.77385627e-03\n",
            " 1.29985678e-02 7.37003781e-01 1.09074446e-03 1.12655746e-02\n",
            " 2.45986020e-02 2.13799021e-02 9.08629238e-01 9.58717373e-01\n",
            " 8.97000270e-01 2.13684066e-01 7.61151689e-03 4.04646559e-02\n",
            " 7.56127765e-01 1.73753788e-03 3.50304158e-02 9.18424401e-01\n",
            " 8.58444977e-01 6.07404541e-01 6.08968461e-02 1.18636637e-02\n",
            " 1.90372818e-03 1.89486561e-03 1.19946453e-02 6.71653630e-01\n",
            " 9.34183501e-03 7.36987226e-02 2.30710119e-02 3.23255954e-03\n",
            " 1.67078090e-02 9.63358412e-01 5.11318798e-02 9.26348728e-03\n",
            " 1.41319059e-02 9.73007505e-04 8.94924887e-03 8.13850991e-03\n",
            " 8.34951748e-01 2.31006405e-02 9.15698713e-01 9.54105562e-01\n",
            " 4.54096091e-01 1.00878152e-01 7.53251932e-03 1.25428876e-02\n",
            " 8.81119457e-03 1.14978372e-02 9.38858054e-03 8.66267002e-01\n",
            " 9.21501378e-03 4.53095057e-01 9.07074898e-01 6.35944812e-04\n",
            " 5.51903672e-02 8.47273503e-03 9.53281950e-03 9.71111258e-02\n",
            " 6.90721432e-01 3.48073957e-02 2.02932712e-01 9.66115653e-01\n",
            " 9.11630521e-01 2.85317876e-03 2.48794672e-02 2.98355339e-02\n",
            " 1.46468426e-02 2.15548908e-02 1.11791502e-01 7.29160690e-02\n",
            " 9.20530998e-04 9.18973733e-01 8.79101108e-01 6.55742834e-02\n",
            " 9.42644631e-01 8.61342003e-02 9.09462730e-01 1.30685475e-03\n",
            " 9.70649906e-01 2.27948228e-02 1.90093890e-02 8.31131452e-01\n",
            " 5.74346922e-01 5.54104560e-03 9.32005749e-01 1.18927787e-02\n",
            " 2.37988903e-02 2.51995530e-02 1.66258310e-02 1.49298592e-01\n",
            " 3.34282875e-02 2.41811434e-02 9.32041190e-01 5.29225568e-01\n",
            " 7.71714041e-02 1.74664666e-03 9.07749330e-01 8.89027465e-01\n",
            " 2.52785766e-02 8.94459941e-01 9.03333925e-02 1.42253296e-02\n",
            " 6.16751021e-03 9.86486318e-01 1.36144627e-02 1.80510557e-02\n",
            " 2.84282264e-01 8.70102749e-01 2.34972097e-02 5.11850952e-02\n",
            " 1.24701652e-02 1.90555904e-02 2.79019288e-02 2.45957300e-02\n",
            " 9.31388472e-01 2.04416712e-01 1.44738222e-02 5.42576711e-03\n",
            " 6.20860148e-01 2.09232125e-03 5.04406593e-03 1.15109282e-02\n",
            " 1.17787911e-01 3.42478665e-02 3.92100981e-03 3.06208159e-02\n",
            " 2.65977909e-03 6.03434247e-02 6.03215669e-01 1.45003224e-02\n",
            " 8.88801340e-01 4.47903150e-02 2.49218868e-02 8.96401452e-01\n",
            " 8.80485872e-02 9.05467543e-01 1.64247474e-01 1.35557289e-01\n",
            " 5.88145110e-02 5.57255969e-02 6.30598605e-01 1.94907420e-01\n",
            " 9.60701452e-01 5.84005563e-01 2.37171343e-02 4.82435493e-01\n",
            " 8.56463121e-01 5.29480822e-01 3.37163036e-01 8.78794588e-01\n",
            " 1.78138015e-01 4.84348917e-02 2.63926594e-03 3.28881876e-02\n",
            " 3.33755479e-02 6.09165728e-02 2.20625239e-01 4.17475590e-01\n",
            " 6.23649659e-02 4.93238932e-01 3.69992418e-03 8.52251692e-02\n",
            " 1.47393134e-01 2.30196536e-02 2.75887349e-02 9.59056493e-01\n",
            " 9.62320690e-01 6.98402215e-01 1.20261283e-01 9.62471524e-01\n",
            " 5.68806358e-03 7.34087846e-01 8.92391350e-01 5.44898315e-02\n",
            " 1.81649488e-02 6.82300685e-01 1.75939129e-02 7.08753723e-02\n",
            " 5.52086290e-03 1.89600818e-01 2.28862571e-01 7.45890582e-01\n",
            " 8.87855849e-01 1.20824536e-02 1.96828854e-02 1.77373650e-01\n",
            " 9.26472643e-01 3.02916311e-01 5.86645253e-01 9.48943503e-01\n",
            " 8.39715068e-01 3.48407521e-01 9.19740029e-01 8.42147074e-02\n",
            " 9.20281576e-01 8.88963513e-03 8.14214696e-01 2.78450112e-02\n",
            " 4.08304526e-01 2.18589219e-02 3.27281105e-02 9.19652470e-03\n",
            " 3.81495139e-02 1.54264892e-01 1.44457587e-02 3.12891987e-04\n",
            " 8.13166762e-01 3.60544019e-03 1.15519577e-01 1.23928066e-02\n",
            " 1.11812334e-02 9.22170830e-01 6.12303091e-01 2.41344463e-02\n",
            " 1.67166962e-02 1.94958263e-02 9.56347187e-03 5.16995205e-02\n",
            " 1.00834506e-01 3.76879917e-01 1.03297900e-03 4.13048544e-02\n",
            " 9.55972827e-01 3.25037504e-01 1.33988794e-01 4.93217741e-01\n",
            " 3.78354812e-03 9.54944747e-01 8.20843403e-01 1.18663620e-01\n",
            " 3.89077998e-02 2.62112908e-02 9.31954291e-01 1.31954471e-02\n",
            " 1.33284260e-01 1.14755674e-02 3.11255323e-03 8.49862972e-01\n",
            " 4.87190177e-02 5.28535310e-02 4.03313267e-01 2.49703163e-01\n",
            " 6.72458748e-03 6.32215409e-03 5.15203015e-02 2.57206963e-01\n",
            " 1.72162720e-01 5.69132007e-01 8.53620661e-01 1.56173903e-01\n",
            " 7.07957409e-01 1.68137192e-02 7.79619607e-01 1.32963660e-02\n",
            " 1.16705301e-02 6.23104138e-01 1.08733094e-01 5.23359704e-02\n",
            " 2.19675606e-02 7.92266561e-01 3.26859953e-02 1.00152376e-01\n",
            " 9.08900424e-01 6.43381599e-01 8.62798636e-01 1.43238328e-02\n",
            " 5.09809523e-02 9.48723694e-01 9.34646693e-01 8.84347252e-01\n",
            " 9.22842932e-01 9.01769601e-01 9.00393825e-03 2.99620896e-02\n",
            " 3.74359979e-01 4.08793591e-01 8.55729452e-03 3.02192233e-02\n",
            " 1.06193038e-02 4.82370821e-02 3.37622473e-01 2.62155336e-03\n",
            " 8.43266596e-03 5.18977665e-03 8.11344082e-02 1.61426809e-01\n",
            " 6.63696219e-01 8.38388626e-03 1.08694736e-02 4.35171828e-03\n",
            " 3.46722946e-01 2.96727097e-01 3.37431146e-02 9.59054741e-01\n",
            " 9.91809578e-03 1.19858197e-02 3.04231921e-02 9.16396813e-03\n",
            " 2.96241762e-01 3.91978456e-02 8.50267979e-01 2.64020882e-02\n",
            " 4.23663073e-02 3.45160482e-01 5.07592141e-03 8.48883481e-01\n",
            " 2.56568620e-02 7.79988353e-02 3.76671441e-01 7.45629501e-02\n",
            " 5.35099065e-02 8.85201400e-03 8.94791134e-03 8.56115865e-01\n",
            " 1.88647619e-02 8.97231210e-01 8.66572078e-03 7.61431833e-01\n",
            " 1.04754444e-02 2.00815179e-02 4.14531743e-02 6.59157300e-02\n",
            " 8.62742892e-01 6.87959173e-02 1.87920944e-02 9.44475840e-01\n",
            " 1.60871137e-02 5.19688642e-03 3.39412423e-02 4.84351295e-02\n",
            " 3.79120347e-02 6.53247461e-03 9.33274083e-01 6.80493212e-02\n",
            " 5.15883387e-03 8.64319394e-03 1.55664434e-02 4.74574655e-03\n",
            " 2.16568214e-01 1.75171954e-03 9.21829633e-01 4.53934825e-02\n",
            " 2.49996785e-01 6.64616138e-02 2.74392523e-01 1.67649196e-01\n",
            " 7.54525609e-01 2.97216246e-01 3.62252610e-03 2.32336617e-02\n",
            " 9.39242306e-01 7.14278539e-02 7.84782555e-01 3.19156459e-03\n",
            " 8.60698720e-01 4.01850863e-03 3.34872193e-02 1.21980009e-02\n",
            " 4.19423641e-03 1.16292245e-02 1.40337172e-02 9.24154526e-01\n",
            " 9.10799864e-01 1.41864128e-01 9.67067139e-01 8.98614263e-01\n",
            " 3.11752485e-03 9.44301097e-01 7.78202780e-01 1.76228008e-01\n",
            " 9.57243637e-01 5.17175027e-01 4.18760599e-01 2.33004632e-01\n",
            " 9.97408513e-01 8.23575209e-03 8.45867292e-01 1.09184864e-01\n",
            " 9.34356646e-01 8.59753452e-01 2.00175558e-02 4.95360157e-01\n",
            " 1.24712700e-01 1.38696070e-02 3.01846976e-02 1.48846481e-02\n",
            " 5.85229502e-01 6.36246680e-03 9.38586119e-01 8.55784185e-02\n",
            " 9.16623587e-04 1.64479579e-01 9.25602478e-01 8.89946422e-01\n",
            " 1.23660726e-01 2.42938377e-01 5.59897436e-02 2.48393766e-01\n",
            " 1.84144297e-02 8.53827298e-01 4.63133833e-01 9.79003625e-01\n",
            " 5.33500919e-02 9.22718336e-01 9.18391054e-01 1.86833813e-02\n",
            " 7.78613261e-01 5.82811218e-03 5.06283596e-03 9.05451164e-01\n",
            " 5.85515917e-03 7.52672505e-01 2.95723524e-02 5.93244467e-01\n",
            " 9.23468603e-01 5.09015530e-03 9.18569503e-01 2.39738615e-03\n",
            " 1.53437025e-02 2.61967163e-01 1.11243744e-02 6.14529503e-02\n",
            " 9.06956448e-01 9.33485416e-01 6.14064519e-02 6.37703335e-04\n",
            " 3.50801948e-01 6.44693432e-01 1.14967787e-02 8.57882702e-03\n",
            " 1.65348988e-02 4.45022348e-02 2.43652410e-03 9.03882721e-01\n",
            " 9.85684039e-01 9.51183996e-01 9.41121991e-01 1.86057884e-01\n",
            " 1.38594315e-02 2.60142000e-02 8.03279485e-01 4.72795778e-01\n",
            " 4.62425435e-01 1.27165954e-01 8.44230740e-01 1.42104845e-02\n",
            " 3.53773845e-01 6.68951162e-03 2.17428024e-02 5.57275546e-03\n",
            " 2.34021556e-01 5.09279342e-01 9.35247797e-01 4.96769176e-02\n",
            " 1.10180710e-01 8.31747613e-01 9.79495165e-01 3.39413446e-02\n",
            " 1.02340833e-02 2.40707116e-02 7.49802145e-02 1.06127682e-01\n",
            " 2.30126616e-02 9.53572186e-03 3.32563419e-02 1.11333129e-02\n",
            " 1.18458559e-02 3.99715436e-03 8.74131114e-03 2.17868218e-02\n",
            " 8.84384520e-03 4.14926966e-01 1.31757705e-03 9.54568959e-01\n",
            " 3.34680897e-02 8.83269645e-01 1.80737802e-01 1.53318835e-02\n",
            " 6.63264325e-01 1.28259808e-02 8.67540522e-01 9.06319775e-01\n",
            " 9.54989782e-01 2.60622108e-02 1.83977413e-03 2.29517470e-01\n",
            " 1.21280356e-01 4.01810748e-02 2.74155729e-01 9.95147779e-02\n",
            " 1.53386082e-03 5.48815569e-03 5.48364387e-03 2.62128486e-02\n",
            " 9.43446254e-01 4.48084996e-02 2.59407836e-01 1.93496021e-02\n",
            " 1.60977619e-02 9.34580789e-01 9.22694519e-01 9.29257345e-01\n",
            " 3.35339342e-01 5.62505807e-04 1.61511959e-02 9.15300499e-01\n",
            " 2.18066778e-02 2.41877420e-02 2.51245307e-02 9.28046109e-01\n",
            " 4.98736575e-03 1.03527307e-02 7.96486160e-01 6.54692977e-02\n",
            " 7.80442892e-02 6.66602267e-03 1.06961670e-02 5.34565867e-02\n",
            " 1.61441797e-02 9.35237613e-01 2.31080645e-03 3.94123621e-02\n",
            " 1.86044768e-02 3.47482115e-01 8.33132622e-01 5.19134702e-03\n",
            " 2.31717954e-01 3.69877345e-02 8.82343365e-01 5.32775906e-03\n",
            " 7.30554173e-01 3.32121245e-02 1.51846658e-02 1.43297557e-02\n",
            " 1.15375405e-01 1.81265242e-03 8.93725651e-03 3.64381260e-01\n",
            " 2.28491395e-02 1.65693812e-02 2.11276161e-02 1.20741643e-02\n",
            " 3.15487715e-02 7.53477446e-02 9.35800654e-01 9.04792482e-02\n",
            " 5.02928513e-01 1.20582178e-02 1.99077628e-02 1.73087737e-02\n",
            " 9.02457919e-01 2.85531752e-02 1.80721530e-02 4.49162765e-02\n",
            " 1.91501725e-03 3.04853230e-02 8.08448357e-01 2.80656571e-02\n",
            " 9.50409622e-01 8.97057912e-01 6.83543947e-02 2.22094835e-02\n",
            " 3.11000464e-02 7.29133073e-01 8.09115521e-01 2.32507749e-02\n",
            " 9.11037543e-03 3.36102578e-02 1.57864506e-02 3.57564441e-02\n",
            " 2.39257442e-01 7.28590766e-01 9.23283443e-01 7.45279948e-03\n",
            " 6.60229123e-03 2.79911383e-01 7.97313191e-01 2.02339031e-03\n",
            " 1.96849686e-01 9.08671528e-01 1.09566041e-02 8.53128952e-04\n",
            " 1.09745138e-02 6.53876339e-02 9.95791971e-03 8.94706708e-01\n",
            " 2.72391877e-01 5.94659629e-01 2.39491157e-02 2.70080685e-01\n",
            " 9.64088259e-01 4.05132941e-01 3.43223483e-01 2.35863555e-01\n",
            " 1.54184488e-02 2.08994181e-02 9.61855106e-01 8.52226189e-02\n",
            " 9.70334285e-03 4.33464660e-03 8.19767498e-01 1.12859636e-02\n",
            " 2.21610911e-03 2.14886765e-02 2.81319731e-02 6.22474413e-01\n",
            " 1.91355883e-02 1.64624473e-02 9.04525343e-01 9.45336514e-01\n",
            " 5.33803103e-03 9.15466053e-02 1.98978886e-01 9.57319792e-03\n",
            " 4.68020680e-01 7.93638578e-02 5.89505649e-03 1.86422407e-01\n",
            " 2.79398682e-01 2.15463886e-01 4.02951249e-02 1.70566062e-01\n",
            " 1.29480055e-02 8.70396032e-01 5.05862481e-02 2.58046848e-02\n",
            " 2.02490871e-02 3.09451608e-02 6.96905878e-02 4.69905694e-01\n",
            " 5.89698841e-01 3.44185619e-02 8.59447791e-01 4.46528426e-02\n",
            " 8.16199826e-01 4.83263374e-02 4.69150452e-03 5.84170140e-02\n",
            " 4.95707949e-03 4.04811360e-01 9.22220548e-01 5.10683414e-03\n",
            " 4.11597523e-01 1.42741886e-01 1.03178007e-02 3.41580539e-01\n",
            " 6.93545325e-02 6.01525690e-02 3.88973110e-02 7.04425816e-01\n",
            " 9.14764857e-01 5.09479288e-01 2.41008688e-01 9.19477478e-01\n",
            " 1.82219514e-01 2.60202582e-02 6.92933131e-02 9.52444879e-01\n",
            " 9.52722158e-01 8.86851915e-01 7.38294854e-01 1.36672466e-01\n",
            " 4.20479621e-01 1.81430843e-02 8.17832210e-01 6.54142717e-02\n",
            " 9.64800754e-01 9.30154694e-01 1.65092625e-01 7.20224780e-02\n",
            " 9.25850488e-04 8.96264139e-02 8.44193659e-01 8.75025905e-01\n",
            " 8.83606198e-02 5.59682156e-02 1.90830030e-02 8.55975264e-02\n",
            " 1.28206648e-02 3.59078563e-02 9.52814938e-01 8.82890858e-01\n",
            " 2.73593429e-03 9.09569720e-01 9.04257067e-01 1.79156444e-02\n",
            " 2.18407900e-01 7.55481750e-02 1.29228818e-02 3.09143787e-01\n",
            " 8.72789633e-01 9.42207655e-01 9.36718066e-01 7.39467241e-03\n",
            " 9.99950503e-03 1.55346798e-02 9.84338225e-01 7.40438257e-02\n",
            " 1.04394357e-01 9.13116520e-01 3.75918506e-02 7.22986869e-02\n",
            " 1.87243640e-02 9.91205681e-02 6.95397889e-03 8.61454004e-01\n",
            " 1.12401527e-01 9.84612061e-03 4.25638928e-02 5.07485543e-03\n",
            " 9.53225642e-01 9.24953035e-01 7.92141383e-03 4.14535191e-01\n",
            " 8.54038917e-01 9.60020377e-01 2.13139481e-02 5.18915420e-01\n",
            " 2.17674287e-02 1.03467860e-02 9.23553769e-01 9.60628598e-01\n",
            " 5.25124178e-02 2.16118567e-01 3.13717979e-01 2.25959889e-01\n",
            " 8.09939117e-01 2.53756567e-02 1.44008985e-01 6.72003404e-04\n",
            " 1.28769307e-03 7.05655409e-02 8.01424392e-01 8.20070783e-01\n",
            " 6.59762314e-02 7.11205154e-03 2.31737219e-02 2.91828682e-03\n",
            " 3.28671451e-03 4.64052985e-02 6.17192682e-03 8.19295119e-02\n",
            " 3.00557658e-03 7.01636981e-01 1.23119366e-01 1.95008021e-02\n",
            " 5.42265858e-02 6.71930539e-01 9.52151272e-01 1.04022863e-01\n",
            " 1.88530764e-02 9.01743817e-01 6.52216548e-02 7.10862452e-03\n",
            " 9.37539379e-01 5.74659034e-01 2.38731703e-03 6.23907218e-01\n",
            " 1.70769967e-02 3.89347753e-02 1.94202585e-02 8.86181820e-01\n",
            " 2.35544929e-01 8.88753320e-01 8.63171394e-01 3.13403511e-02\n",
            " 1.68809082e-02 9.11285639e-02 1.00553871e-02 5.50857974e-03\n",
            " 6.63204336e-02 8.33121004e-02 5.19658124e-03 2.57639795e-02\n",
            " 8.91093008e-02 3.09481338e-02 1.84654616e-01 8.92049148e-01\n",
            " 4.55284546e-01 4.70646640e-02 9.31692637e-01 9.71604311e-03\n",
            " 2.67563704e-02 8.35408876e-01 1.55864757e-02 3.06680984e-01\n",
            " 2.64418193e-03 1.21269234e-02 6.06891635e-01 1.01280317e-02\n",
            " 4.13789039e-03 1.47082362e-02 3.14274187e-03 1.54457088e-03\n",
            " 4.97512175e-01 5.31288267e-02 2.69238509e-01 9.19217602e-01\n",
            " 1.03788513e-01 9.28288346e-01 4.67703585e-03 2.22662648e-02\n",
            " 7.06285055e-01 3.16552218e-02 6.68189246e-02 9.43863810e-02\n",
            " 4.83860045e-02 8.78893535e-03 6.81127569e-01 4.00326710e-03\n",
            " 2.42105765e-01 3.78897385e-02 9.15973909e-01 1.10236842e-02\n",
            " 4.14758350e-01 3.29577690e-01 9.22010956e-01 4.83490617e-03\n",
            " 4.13423942e-02 8.86161393e-01 1.60685410e-01 1.43851590e-01\n",
            " 9.69167480e-01 3.11731855e-01 9.24345893e-01 9.02045423e-02\n",
            " 9.29497332e-02 8.11444573e-01 2.50350274e-02 3.62369534e-01\n",
            " 1.78502042e-01 1.51919812e-02 3.80683689e-02 7.60311279e-02\n",
            " 9.28683836e-03 5.81557299e-02 9.15915591e-01 2.90120960e-02\n",
            " 9.55258247e-02 6.08595624e-02 1.06169640e-02 2.12426765e-01\n",
            " 5.35197668e-01 2.58914244e-02 4.58154706e-03 3.26173494e-02\n",
            " 9.64689039e-03 2.53685595e-03 2.36325570e-01 5.81031007e-03\n",
            " 2.18132581e-02 4.54706799e-02 2.27946196e-03 4.40213844e-03\n",
            " 1.38514650e-01 3.02899423e-02 9.68588781e-03 9.33455513e-01\n",
            " 9.43553328e-03 9.94216660e-01 8.71494486e-01 7.24575376e-02\n",
            " 1.00509886e-02 2.26434691e-01 2.19174054e-01 5.83624695e-02\n",
            " 1.73543914e-03 3.02568653e-03 4.41678760e-02 5.64914745e-02\n",
            " 2.10927007e-03 8.99376153e-03 4.09052206e-02 4.17454675e-01\n",
            " 1.22487702e-02 1.30131778e-02 1.92834290e-03 1.40792130e-02\n",
            " 2.55517320e-01 3.46288500e-01 1.15245822e-03 6.31754975e-01\n",
            " 8.56768798e-01 9.89549680e-03 7.77006228e-02 1.07254216e-02\n",
            " 3.25202218e-02 1.79422462e-01 8.66296688e-01 3.54150109e-01]\n"
          ]
        }
      ]
    },
    {
      "cell_type": "code",
      "source": [
        ""
      ],
      "metadata": {
        "id": "owI2v5UK0zu6"
      },
      "execution_count": null,
      "outputs": []
    },
    {
      "cell_type": "code",
      "source": [
        ""
      ],
      "metadata": {
        "id": "p2HYu2xc0z2y"
      },
      "execution_count": null,
      "outputs": []
    },
    {
      "cell_type": "code",
      "source": [
        ""
      ],
      "metadata": {
        "id": "aZi3pKzu0z_F"
      },
      "execution_count": null,
      "outputs": []
    },
    {
      "cell_type": "code",
      "source": [
        ""
      ],
      "metadata": {
        "id": "2XCDK-hA00Hs"
      },
      "execution_count": null,
      "outputs": []
    },
    {
      "cell_type": "code",
      "source": [
        ""
      ],
      "metadata": {
        "id": "0MUA5Nj500RH"
      },
      "execution_count": null,
      "outputs": []
    },
    {
      "cell_type": "code",
      "source": [
        ""
      ],
      "metadata": {
        "id": "wdfINkJm00Z4"
      },
      "execution_count": null,
      "outputs": []
    }
  ]
}