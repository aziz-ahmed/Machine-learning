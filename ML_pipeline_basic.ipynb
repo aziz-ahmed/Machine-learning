{
  "cells": [
    {
      "cell_type": "code",
      "execution_count": 2,
      "metadata": {
        "colab": {
          "base_uri": "https://localhost:8080/"
        },
        "id": "tgnqYA8kY3_9",
        "outputId": "54bc8340-9bb5-4b63-971c-82d726728b4e"
      },
      "outputs": [
        {
          "output_type": "stream",
          "name": "stdout",
          "text": [
            "Mounted at /content/drive\n"
          ]
        }
      ],
      "source": [
        "from google.colab import drive\n",
        "drive.mount('/content/drive')"
      ]
    },
    {
      "cell_type": "markdown",
      "metadata": {
        "id": "G5Un2vqIcjR4"
      },
      "source": [
        "Load the libraries"
      ]
    },
    {
      "cell_type": "code",
      "execution_count": 33,
      "metadata": {
        "id": "KQh2GgI2bVwX"
      },
      "outputs": [],
      "source": [
        "import pandas as pd\n",
        "import numpy as np\n",
        "from sklearn.model_selection import train_test_split\n",
        "from sklearn.preprocessing import OneHotEncoder,StandardScaler\n",
        "from sklearn.pipeline import Pipeline\n",
        "from sklearn.linear_model import LogisticRegression\n",
        "from sklearn.metrics import confusion_matrix,accuracy_score\n",
        "from sklearn.impute import SimpleImputer \n",
        "from sklearn.compose import ColumnTransformer\n",
        "from sklearn import set_config\n",
        "import seaborn as sns\n",
        "set_config(display='diagram')"
      ]
    },
    {
      "cell_type": "markdown",
      "metadata": {
        "id": "3EilE0ITcmZc"
      },
      "source": [
        "Load the data"
      ]
    },
    {
      "cell_type": "code",
      "execution_count": 4,
      "metadata": {
        "colab": {
          "base_uri": "https://localhost:8080/"
        },
        "id": "uSh8JI8dbV_0",
        "outputId": "6464986c-34dd-44a5-f43e-947ae28b58f6"
      },
      "outputs": [
        {
          "output_type": "stream",
          "name": "stdout",
          "text": [
            "   PassengerId  Survived  Pclass  \\\n",
            "0            1         0       3   \n",
            "1            2         1       1   \n",
            "2            3         1       3   \n",
            "3            4         1       1   \n",
            "4            5         0       3   \n",
            "\n",
            "                                                Name     Sex   Age  SibSp  \\\n",
            "0                            Braund, Mr. Owen Harris    male  22.0      1   \n",
            "1  Cumings, Mrs. John Bradley (Florence Briggs Th...  female  38.0      1   \n",
            "2                             Heikkinen, Miss. Laina  female  26.0      0   \n",
            "3       Futrelle, Mrs. Jacques Heath (Lily May Peel)  female  35.0      1   \n",
            "4                           Allen, Mr. William Henry    male  35.0      0   \n",
            "\n",
            "   Parch            Ticket     Fare Cabin Embarked  \n",
            "0      0         A/5 21171   7.2500   NaN        S  \n",
            "1      0          PC 17599  71.2833   C85        C  \n",
            "2      0  STON/O2. 3101282   7.9250   NaN        S  \n",
            "3      0            113803  53.1000  C123        S  \n",
            "4      0            373450   8.0500   NaN        S  \n",
            "******************************************************************************************************************************************************\n",
            "   PassengerId  Pclass                                          Name     Sex  \\\n",
            "0          892       3                              Kelly, Mr. James    male   \n",
            "1          893       3              Wilkes, Mrs. James (Ellen Needs)  female   \n",
            "2          894       2                     Myles, Mr. Thomas Francis    male   \n",
            "3          895       3                              Wirz, Mr. Albert    male   \n",
            "4          896       3  Hirvonen, Mrs. Alexander (Helga E Lindqvist)  female   \n",
            "\n",
            "    Age  SibSp  Parch   Ticket     Fare Cabin Embarked  \n",
            "0  34.5      0      0   330911   7.8292   NaN        Q  \n",
            "1  47.0      1      0   363272   7.0000   NaN        S  \n",
            "2  62.0      0      0   240276   9.6875   NaN        Q  \n",
            "3  27.0      0      0   315154   8.6625   NaN        S  \n",
            "4  22.0      1      1  3101298  12.2875   NaN        S  \n"
          ]
        }
      ],
      "source": [
        "df_train = pd.read_csv('/content/drive/My Drive/titanic_train.csv')\n",
        "df_test = pd.read_csv('/content/drive/My Drive/titanic_test.csv')\n",
        "print(df_train.head(5))\n",
        "print('*'*150)\n",
        "print(df_test.head(5))"
      ]
    },
    {
      "cell_type": "code",
      "execution_count": 5,
      "metadata": {
        "colab": {
          "base_uri": "https://localhost:8080/"
        },
        "id": "awlbQaK8bWLF",
        "outputId": "16c4c860-c0bd-46bf-c537-16c94e03d09b"
      },
      "outputs": [
        {
          "output_type": "stream",
          "name": "stdout",
          "text": [
            "<class 'pandas.core.frame.DataFrame'>\n",
            "RangeIndex: 891 entries, 0 to 890\n",
            "Data columns (total 12 columns):\n",
            " #   Column       Non-Null Count  Dtype  \n",
            "---  ------       --------------  -----  \n",
            " 0   PassengerId  891 non-null    int64  \n",
            " 1   Survived     891 non-null    int64  \n",
            " 2   Pclass       891 non-null    int64  \n",
            " 3   Name         891 non-null    object \n",
            " 4   Sex          891 non-null    object \n",
            " 5   Age          714 non-null    float64\n",
            " 6   SibSp        891 non-null    int64  \n",
            " 7   Parch        891 non-null    int64  \n",
            " 8   Ticket       891 non-null    object \n",
            " 9   Fare         891 non-null    float64\n",
            " 10  Cabin        204 non-null    object \n",
            " 11  Embarked     889 non-null    object \n",
            "dtypes: float64(2), int64(5), object(5)\n",
            "memory usage: 83.7+ KB\n"
          ]
        }
      ],
      "source": [
        "df_train.info()"
      ]
    },
    {
      "cell_type": "code",
      "execution_count": 6,
      "metadata": {
        "id": "1ReLDed5dpfj"
      },
      "outputs": [],
      "source": [
        "x = df_train.drop('Survived',axis=1)\n",
        "y = df_train['Survived']"
      ]
    },
    {
      "cell_type": "code",
      "execution_count": 7,
      "metadata": {
        "id": "Y9wtEcrmd58z"
      },
      "outputs": [],
      "source": [
        "x_train,x_val,y_train,y_val = train_test_split(x,y,test_size = 0.25,random_state=42)"
      ]
    },
    {
      "cell_type": "code",
      "execution_count": 8,
      "metadata": {
        "colab": {
          "base_uri": "https://localhost:8080/"
        },
        "id": "y3YVxJf8dqFg",
        "outputId": "01b746bd-5a6c-442d-9b0d-1ee4f84fc152"
      },
      "outputs": [
        {
          "output_type": "execute_result",
          "data": {
            "text/plain": [
              "['Name', 'Sex', 'Ticket', 'Cabin', 'Embarked']"
            ]
          },
          "metadata": {},
          "execution_count": 8
        }
      ],
      "source": [
        "cat_cols = x_train.select_dtypes('object').columns.to_list()\n",
        "cat_cols"
      ]
    },
    {
      "cell_type": "code",
      "execution_count": 9,
      "metadata": {
        "colab": {
          "base_uri": "https://localhost:8080/"
        },
        "id": "8bj4e20vdqP7",
        "outputId": "25ef0922-3db3-4346-a642-8bb5f69aa34e"
      },
      "outputs": [
        {
          "output_type": "execute_result",
          "data": {
            "text/plain": [
              "['PassengerId', 'Pclass', 'Age', 'SibSp', 'Parch', 'Fare']"
            ]
          },
          "metadata": {},
          "execution_count": 9
        }
      ],
      "source": [
        "num_cols = x_train.select_dtypes(exclude='object').columns.to_list()\n",
        "num_cols"
      ]
    },
    {
      "cell_type": "markdown",
      "metadata": {
        "id": "vGwA-5vYfAcR"
      },
      "source": [
        "Pipeline for preprocessing"
      ]
    },
    {
      "cell_type": "code",
      "execution_count": 25,
      "metadata": {
        "id": "qdSHkc4rebzb"
      },
      "outputs": [],
      "source": [
        "categorical_preprocessing = Pipeline(steps=[('imputer',SimpleImputer(strategy='constant')),('encoder',OneHotEncoder(handle_unknown = 'ignore'))])"
      ]
    },
    {
      "cell_type": "code",
      "execution_count": 26,
      "metadata": {
        "id": "IAetj7M4eb6a"
      },
      "outputs": [],
      "source": [
        "numerical_preprocessing = Pipeline(steps=[('imputer',SimpleImputer(strategy='mean')),('scaling',StandardScaler())])"
      ]
    },
    {
      "cell_type": "code",
      "execution_count": 27,
      "metadata": {
        "id": "VXEyvS1Peb-q"
      },
      "outputs": [],
      "source": [
        "preprocessor = ColumnTransformer([('categorcal',categorical_preprocessing,cat_cols),('numeric',numerical_preprocessing,num_cols)])"
      ]
    },
    {
      "cell_type": "markdown",
      "metadata": {
        "id": "ObGEEHexjDJR"
      },
      "source": [
        "Now we add the preprocessor and the model in our pipeline"
      ]
    },
    {
      "cell_type": "code",
      "execution_count": 28,
      "metadata": {
        "id": "zJ-6PWGbecCb"
      },
      "outputs": [],
      "source": [
        "pipe = Pipeline(steps=[('preprocessor',preprocessor),('model',LogisticRegression(C=1e9))])"
      ]
    },
    {
      "cell_type": "code",
      "source": [
        "print(x_train.iloc[0])"
      ],
      "metadata": {
        "id": "MuWf75DBZswx",
        "colab": {
          "base_uri": "https://localhost:8080/"
        },
        "outputId": "c8ddc8d7-fc27-4836-cca1-0cb878dd4e2d"
      },
      "execution_count": 29,
      "outputs": [
        {
          "output_type": "stream",
          "name": "stdout",
          "text": [
            "PassengerId                      299\n",
            "Pclass                             1\n",
            "Name           Saalfeld, Mr. Adolphe\n",
            "Sex                             male\n",
            "Age                              NaN\n",
            "SibSp                              0\n",
            "Parch                              0\n",
            "Ticket                         19988\n",
            "Fare                            30.5\n",
            "Cabin                           C106\n",
            "Embarked                           S\n",
            "Name: 298, dtype: object\n"
          ]
        }
      ]
    },
    {
      "cell_type": "code",
      "execution_count": 30,
      "metadata": {
        "colab": {
          "base_uri": "https://localhost:8080/",
          "height": 231
        },
        "id": "o7yF_zTZecGy",
        "outputId": "a4bb035f-ebc5-440d-d820-4e9a436d7e1e"
      },
      "outputs": [
        {
          "output_type": "execute_result",
          "data": {
            "text/plain": [
              "Pipeline(steps=[('preprocessor',\n",
              "                 ColumnTransformer(transformers=[('categorcal',\n",
              "                                                  Pipeline(steps=[('imputer',\n",
              "                                                                   SimpleImputer(strategy='constant')),\n",
              "                                                                  ('encoder',\n",
              "                                                                   OneHotEncoder(handle_unknown='ignore'))]),\n",
              "                                                  ['Name', 'Sex', 'Ticket',\n",
              "                                                   'Cabin', 'Embarked']),\n",
              "                                                 ('numeric',\n",
              "                                                  Pipeline(steps=[('imputer',\n",
              "                                                                   SimpleImputer()),\n",
              "                                                                  ('scaling',\n",
              "                                                                   StandardScaler())]),\n",
              "                                                  ['PassengerId', 'Pclass',\n",
              "                                                   'Age', 'SibSp', 'Parch',\n",
              "                                                   'Fare'])])),\n",
              "                ('model', LogisticRegression(C=1000000000.0))])"
            ],
            "text/html": [
              "<style>#sk-6e24fd54-8242-4dda-952f-b4323a061f25 {color: black;background-color: white;}#sk-6e24fd54-8242-4dda-952f-b4323a061f25 pre{padding: 0;}#sk-6e24fd54-8242-4dda-952f-b4323a061f25 div.sk-toggleable {background-color: white;}#sk-6e24fd54-8242-4dda-952f-b4323a061f25 label.sk-toggleable__label {cursor: pointer;display: block;width: 100%;margin-bottom: 0;padding: 0.3em;box-sizing: border-box;text-align: center;}#sk-6e24fd54-8242-4dda-952f-b4323a061f25 label.sk-toggleable__label-arrow:before {content: \"▸\";float: left;margin-right: 0.25em;color: #696969;}#sk-6e24fd54-8242-4dda-952f-b4323a061f25 label.sk-toggleable__label-arrow:hover:before {color: black;}#sk-6e24fd54-8242-4dda-952f-b4323a061f25 div.sk-estimator:hover label.sk-toggleable__label-arrow:before {color: black;}#sk-6e24fd54-8242-4dda-952f-b4323a061f25 div.sk-toggleable__content {max-height: 0;max-width: 0;overflow: hidden;text-align: left;background-color: #f0f8ff;}#sk-6e24fd54-8242-4dda-952f-b4323a061f25 div.sk-toggleable__content pre {margin: 0.2em;color: black;border-radius: 0.25em;background-color: #f0f8ff;}#sk-6e24fd54-8242-4dda-952f-b4323a061f25 input.sk-toggleable__control:checked~div.sk-toggleable__content {max-height: 200px;max-width: 100%;overflow: auto;}#sk-6e24fd54-8242-4dda-952f-b4323a061f25 input.sk-toggleable__control:checked~label.sk-toggleable__label-arrow:before {content: \"▾\";}#sk-6e24fd54-8242-4dda-952f-b4323a061f25 div.sk-estimator input.sk-toggleable__control:checked~label.sk-toggleable__label {background-color: #d4ebff;}#sk-6e24fd54-8242-4dda-952f-b4323a061f25 div.sk-label input.sk-toggleable__control:checked~label.sk-toggleable__label {background-color: #d4ebff;}#sk-6e24fd54-8242-4dda-952f-b4323a061f25 input.sk-hidden--visually {border: 0;clip: rect(1px 1px 1px 1px);clip: rect(1px, 1px, 1px, 1px);height: 1px;margin: -1px;overflow: hidden;padding: 0;position: absolute;width: 1px;}#sk-6e24fd54-8242-4dda-952f-b4323a061f25 div.sk-estimator {font-family: monospace;background-color: #f0f8ff;border: 1px dotted black;border-radius: 0.25em;box-sizing: border-box;margin-bottom: 0.5em;}#sk-6e24fd54-8242-4dda-952f-b4323a061f25 div.sk-estimator:hover {background-color: #d4ebff;}#sk-6e24fd54-8242-4dda-952f-b4323a061f25 div.sk-parallel-item::after {content: \"\";width: 100%;border-bottom: 1px solid gray;flex-grow: 1;}#sk-6e24fd54-8242-4dda-952f-b4323a061f25 div.sk-label:hover label.sk-toggleable__label {background-color: #d4ebff;}#sk-6e24fd54-8242-4dda-952f-b4323a061f25 div.sk-serial::before {content: \"\";position: absolute;border-left: 1px solid gray;box-sizing: border-box;top: 2em;bottom: 0;left: 50%;}#sk-6e24fd54-8242-4dda-952f-b4323a061f25 div.sk-serial {display: flex;flex-direction: column;align-items: center;background-color: white;padding-right: 0.2em;padding-left: 0.2em;}#sk-6e24fd54-8242-4dda-952f-b4323a061f25 div.sk-item {z-index: 1;}#sk-6e24fd54-8242-4dda-952f-b4323a061f25 div.sk-parallel {display: flex;align-items: stretch;justify-content: center;background-color: white;}#sk-6e24fd54-8242-4dda-952f-b4323a061f25 div.sk-parallel::before {content: \"\";position: absolute;border-left: 1px solid gray;box-sizing: border-box;top: 2em;bottom: 0;left: 50%;}#sk-6e24fd54-8242-4dda-952f-b4323a061f25 div.sk-parallel-item {display: flex;flex-direction: column;position: relative;background-color: white;}#sk-6e24fd54-8242-4dda-952f-b4323a061f25 div.sk-parallel-item:first-child::after {align-self: flex-end;width: 50%;}#sk-6e24fd54-8242-4dda-952f-b4323a061f25 div.sk-parallel-item:last-child::after {align-self: flex-start;width: 50%;}#sk-6e24fd54-8242-4dda-952f-b4323a061f25 div.sk-parallel-item:only-child::after {width: 0;}#sk-6e24fd54-8242-4dda-952f-b4323a061f25 div.sk-dashed-wrapped {border: 1px dashed gray;margin: 0 0.4em 0.5em 0.4em;box-sizing: border-box;padding-bottom: 0.4em;background-color: white;position: relative;}#sk-6e24fd54-8242-4dda-952f-b4323a061f25 div.sk-label label {font-family: monospace;font-weight: bold;background-color: white;display: inline-block;line-height: 1.2em;}#sk-6e24fd54-8242-4dda-952f-b4323a061f25 div.sk-label-container {position: relative;z-index: 2;text-align: center;}#sk-6e24fd54-8242-4dda-952f-b4323a061f25 div.sk-container {/* jupyter's `normalize.less` sets `[hidden] { display: none; }` but bootstrap.min.css set `[hidden] { display: none !important; }` so we also need the `!important` here to be able to override the default hidden behavior on the sphinx rendered scikit-learn.org. See: https://github.com/scikit-learn/scikit-learn/issues/21755 */display: inline-block !important;position: relative;}#sk-6e24fd54-8242-4dda-952f-b4323a061f25 div.sk-text-repr-fallback {display: none;}</style><div id=\"sk-6e24fd54-8242-4dda-952f-b4323a061f25\" class=\"sk-top-container\"><div class=\"sk-text-repr-fallback\"><pre>Pipeline(steps=[(&#x27;preprocessor&#x27;,\n",
              "                 ColumnTransformer(transformers=[(&#x27;categorcal&#x27;,\n",
              "                                                  Pipeline(steps=[(&#x27;imputer&#x27;,\n",
              "                                                                   SimpleImputer(strategy=&#x27;constant&#x27;)),\n",
              "                                                                  (&#x27;encoder&#x27;,\n",
              "                                                                   OneHotEncoder(handle_unknown=&#x27;ignore&#x27;))]),\n",
              "                                                  [&#x27;Name&#x27;, &#x27;Sex&#x27;, &#x27;Ticket&#x27;,\n",
              "                                                   &#x27;Cabin&#x27;, &#x27;Embarked&#x27;]),\n",
              "                                                 (&#x27;numeric&#x27;,\n",
              "                                                  Pipeline(steps=[(&#x27;imputer&#x27;,\n",
              "                                                                   SimpleImputer()),\n",
              "                                                                  (&#x27;scaling&#x27;,\n",
              "                                                                   StandardScaler())]),\n",
              "                                                  [&#x27;PassengerId&#x27;, &#x27;Pclass&#x27;,\n",
              "                                                   &#x27;Age&#x27;, &#x27;SibSp&#x27;, &#x27;Parch&#x27;,\n",
              "                                                   &#x27;Fare&#x27;])])),\n",
              "                (&#x27;model&#x27;, LogisticRegression(C=1000000000.0))])</pre><b>Please rerun this cell to show the HTML repr or trust the notebook.</b></div><div class=\"sk-container\" hidden><div class=\"sk-item sk-dashed-wrapped\"><div class=\"sk-label-container\"><div class=\"sk-label sk-toggleable\"><input class=\"sk-toggleable__control sk-hidden--visually\" id=\"1fcc2600-273c-47a5-93e5-ebb04465d14f\" type=\"checkbox\" ><label for=\"1fcc2600-273c-47a5-93e5-ebb04465d14f\" class=\"sk-toggleable__label sk-toggleable__label-arrow\">Pipeline</label><div class=\"sk-toggleable__content\"><pre>Pipeline(steps=[(&#x27;preprocessor&#x27;,\n",
              "                 ColumnTransformer(transformers=[(&#x27;categorcal&#x27;,\n",
              "                                                  Pipeline(steps=[(&#x27;imputer&#x27;,\n",
              "                                                                   SimpleImputer(strategy=&#x27;constant&#x27;)),\n",
              "                                                                  (&#x27;encoder&#x27;,\n",
              "                                                                   OneHotEncoder(handle_unknown=&#x27;ignore&#x27;))]),\n",
              "                                                  [&#x27;Name&#x27;, &#x27;Sex&#x27;, &#x27;Ticket&#x27;,\n",
              "                                                   &#x27;Cabin&#x27;, &#x27;Embarked&#x27;]),\n",
              "                                                 (&#x27;numeric&#x27;,\n",
              "                                                  Pipeline(steps=[(&#x27;imputer&#x27;,\n",
              "                                                                   SimpleImputer()),\n",
              "                                                                  (&#x27;scaling&#x27;,\n",
              "                                                                   StandardScaler())]),\n",
              "                                                  [&#x27;PassengerId&#x27;, &#x27;Pclass&#x27;,\n",
              "                                                   &#x27;Age&#x27;, &#x27;SibSp&#x27;, &#x27;Parch&#x27;,\n",
              "                                                   &#x27;Fare&#x27;])])),\n",
              "                (&#x27;model&#x27;, LogisticRegression(C=1000000000.0))])</pre></div></div></div><div class=\"sk-serial\"><div class=\"sk-item sk-dashed-wrapped\"><div class=\"sk-label-container\"><div class=\"sk-label sk-toggleable\"><input class=\"sk-toggleable__control sk-hidden--visually\" id=\"ea21b140-5881-4057-a90b-aa9b20c605bb\" type=\"checkbox\" ><label for=\"ea21b140-5881-4057-a90b-aa9b20c605bb\" class=\"sk-toggleable__label sk-toggleable__label-arrow\">preprocessor: ColumnTransformer</label><div class=\"sk-toggleable__content\"><pre>ColumnTransformer(transformers=[(&#x27;categorcal&#x27;,\n",
              "                                 Pipeline(steps=[(&#x27;imputer&#x27;,\n",
              "                                                  SimpleImputer(strategy=&#x27;constant&#x27;)),\n",
              "                                                 (&#x27;encoder&#x27;,\n",
              "                                                  OneHotEncoder(handle_unknown=&#x27;ignore&#x27;))]),\n",
              "                                 [&#x27;Name&#x27;, &#x27;Sex&#x27;, &#x27;Ticket&#x27;, &#x27;Cabin&#x27;,\n",
              "                                  &#x27;Embarked&#x27;]),\n",
              "                                (&#x27;numeric&#x27;,\n",
              "                                 Pipeline(steps=[(&#x27;imputer&#x27;, SimpleImputer()),\n",
              "                                                 (&#x27;scaling&#x27;,\n",
              "                                                  StandardScaler())]),\n",
              "                                 [&#x27;PassengerId&#x27;, &#x27;Pclass&#x27;, &#x27;Age&#x27;, &#x27;SibSp&#x27;,\n",
              "                                  &#x27;Parch&#x27;, &#x27;Fare&#x27;])])</pre></div></div></div><div class=\"sk-parallel\"><div class=\"sk-parallel-item\"><div class=\"sk-item\"><div class=\"sk-label-container\"><div class=\"sk-label sk-toggleable\"><input class=\"sk-toggleable__control sk-hidden--visually\" id=\"ce995de9-931d-4e1f-92a6-a946b32e0e46\" type=\"checkbox\" ><label for=\"ce995de9-931d-4e1f-92a6-a946b32e0e46\" class=\"sk-toggleable__label sk-toggleable__label-arrow\">categorcal</label><div class=\"sk-toggleable__content\"><pre>[&#x27;Name&#x27;, &#x27;Sex&#x27;, &#x27;Ticket&#x27;, &#x27;Cabin&#x27;, &#x27;Embarked&#x27;]</pre></div></div></div><div class=\"sk-serial\"><div class=\"sk-item\"><div class=\"sk-serial\"><div class=\"sk-item\"><div class=\"sk-estimator sk-toggleable\"><input class=\"sk-toggleable__control sk-hidden--visually\" id=\"7012860e-8ae7-4156-8170-242d1dfb24b7\" type=\"checkbox\" ><label for=\"7012860e-8ae7-4156-8170-242d1dfb24b7\" class=\"sk-toggleable__label sk-toggleable__label-arrow\">SimpleImputer</label><div class=\"sk-toggleable__content\"><pre>SimpleImputer(strategy=&#x27;constant&#x27;)</pre></div></div></div><div class=\"sk-item\"><div class=\"sk-estimator sk-toggleable\"><input class=\"sk-toggleable__control sk-hidden--visually\" id=\"83dd639f-c4ea-43a6-aaf5-1dc7381eb466\" type=\"checkbox\" ><label for=\"83dd639f-c4ea-43a6-aaf5-1dc7381eb466\" class=\"sk-toggleable__label sk-toggleable__label-arrow\">OneHotEncoder</label><div class=\"sk-toggleable__content\"><pre>OneHotEncoder(handle_unknown=&#x27;ignore&#x27;)</pre></div></div></div></div></div></div></div></div><div class=\"sk-parallel-item\"><div class=\"sk-item\"><div class=\"sk-label-container\"><div class=\"sk-label sk-toggleable\"><input class=\"sk-toggleable__control sk-hidden--visually\" id=\"bea9f018-c486-450c-a88d-15643198faa2\" type=\"checkbox\" ><label for=\"bea9f018-c486-450c-a88d-15643198faa2\" class=\"sk-toggleable__label sk-toggleable__label-arrow\">numeric</label><div class=\"sk-toggleable__content\"><pre>[&#x27;PassengerId&#x27;, &#x27;Pclass&#x27;, &#x27;Age&#x27;, &#x27;SibSp&#x27;, &#x27;Parch&#x27;, &#x27;Fare&#x27;]</pre></div></div></div><div class=\"sk-serial\"><div class=\"sk-item\"><div class=\"sk-serial\"><div class=\"sk-item\"><div class=\"sk-estimator sk-toggleable\"><input class=\"sk-toggleable__control sk-hidden--visually\" id=\"cb58f0df-ee1f-46cb-b5e2-9fb3d31c17fd\" type=\"checkbox\" ><label for=\"cb58f0df-ee1f-46cb-b5e2-9fb3d31c17fd\" class=\"sk-toggleable__label sk-toggleable__label-arrow\">SimpleImputer</label><div class=\"sk-toggleable__content\"><pre>SimpleImputer()</pre></div></div></div><div class=\"sk-item\"><div class=\"sk-estimator sk-toggleable\"><input class=\"sk-toggleable__control sk-hidden--visually\" id=\"ff4828a3-ffc2-412d-9a3c-299de93ac342\" type=\"checkbox\" ><label for=\"ff4828a3-ffc2-412d-9a3c-299de93ac342\" class=\"sk-toggleable__label sk-toggleable__label-arrow\">StandardScaler</label><div class=\"sk-toggleable__content\"><pre>StandardScaler()</pre></div></div></div></div></div></div></div></div></div></div><div class=\"sk-item\"><div class=\"sk-estimator sk-toggleable\"><input class=\"sk-toggleable__control sk-hidden--visually\" id=\"0a60563c-f8a1-417e-a1a1-6e7f2bde49be\" type=\"checkbox\" ><label for=\"0a60563c-f8a1-417e-a1a1-6e7f2bde49be\" class=\"sk-toggleable__label sk-toggleable__label-arrow\">LogisticRegression</label><div class=\"sk-toggleable__content\"><pre>LogisticRegression(C=1000000000.0)</pre></div></div></div></div></div></div></div>"
            ]
          },
          "metadata": {},
          "execution_count": 30
        }
      ],
      "source": [
        "pipe.fit(x_train,y_train)"
      ]
    },
    {
      "cell_type": "code",
      "execution_count": 31,
      "metadata": {
        "id": "UTtuM7bPecKX",
        "colab": {
          "base_uri": "https://localhost:8080/"
        },
        "outputId": "25d89bd0-cfdc-4307-d856-8df9ee0e9e47"
      },
      "outputs": [
        {
          "output_type": "stream",
          "name": "stdout",
          "text": [
            "train accuracy :  1.0\n",
            "validation accuracy :  0.8295964125560538\n"
          ]
        }
      ],
      "source": [
        "pred = pipe.predict(x_val)\n",
        "pred_train = pipe.predict(x_train)\n",
        "print('train accuracy : ',accuracy_score(pred_train,y_train))\n",
        "print('validation accuracy : ',accuracy_score(pred,y_val))"
      ]
    },
    {
      "cell_type": "code",
      "execution_count": 34,
      "metadata": {
        "id": "l9lDETfZdqaf",
        "colab": {
          "base_uri": "https://localhost:8080/",
          "height": 282
        },
        "outputId": "5e006f7a-4598-4560-fff2-fe0b30cb5ab3"
      },
      "outputs": [
        {
          "output_type": "execute_result",
          "data": {
            "text/plain": [
              "<matplotlib.axes._subplots.AxesSubplot at 0x7f8d39589550>"
            ]
          },
          "metadata": {},
          "execution_count": 34
        },
        {
          "output_type": "display_data",
          "data": {
            "text/plain": [
              "<Figure size 432x288 with 2 Axes>"
            ],
            "image/png": "[encoded data removed]"
          },
          "metadata": {
            "needs_background": "light"
          }
        }
      ],
      "source": [
        "sns.heatmap(confusion_matrix(pred,y_val),annot=True)"
      ]
    },
    {
      "cell_type": "code",
      "execution_count": 36,
      "metadata": {
        "id": "yUs9Keqvdqmr"
      },
      "outputs": [],
      "source": [
        "pred = pipe.predict(df_test)\n",
        "output = pd.DataFrame({'PassengerId': df_test.PassengerId,'Survived':pred})"
      ]
    },
    {
      "cell_type": "code",
      "execution_count": 37,
      "metadata": {
        "id": "nETYgHLXdqyg",
        "colab": {
          "base_uri": "https://localhost:8080/"
        },
        "outputId": "c498998f-24d2-4a8a-a9bd-7bcd0e8709d0"
      },
      "outputs": [
        {
          "output_type": "stream",
          "name": "stdout",
          "text": [
            "   PassengerId  Survived\n",
            "0          892         0\n",
            "1          893         0\n",
            "2          894         0\n",
            "3          895         0\n",
            "4          896         1\n"
          ]
        }
      ],
      "source": [
        "print(output.head(5))"
      ]
    },
    {
      "cell_type": "code",
      "execution_count": 31,
      "metadata": {
        "id": "Peswus6nbWU_"
      },
      "outputs": [],
      "source": []
    },
    {
      "cell_type": "code",
      "execution_count": 31,
      "metadata": {
        "id": "F6CaDgKubWel"
      },
      "outputs": [],
      "source": []
    },
    {
      "cell_type": "code",
      "execution_count": 31,
      "metadata": {
        "id": "LpuRY8N2bWo2"
      },
      "outputs": [],
      "source": []
    }
  ],
  "metadata": {
    "colab": {
      "collapsed_sections": [],
      "provenance": []
    },
    "kernelspec": {
      "display_name": "Python 3",
      "name": "python3"
    },
    "language_info": {
      "name": "python"
    }
  },
  "nbformat": 4,
  "nbformat_minor": 0
}