{
  "nbformat": 4,
  "nbformat_minor": 0,
  "metadata": {
    "colab": {
      "name": "linear_models_behavior_partD.ipynb",
      "provenance": []
    },
    "kernelspec": {
      "name": "python3",
      "display_name": "Python 3"
    },
    "language_info": {
      "name": "python"
    }
  },
  "cells": [
    {
      "cell_type": "code",
      "execution_count": null,
      "metadata": {
        "id": "t348ka-Ej_Lc"
      },
      "outputs": [],
      "source": [
        "%matplotlib inline\n",
        "import warnings\n",
        "warnings.filterwarnings(\"ignore\")\n",
        "import pandas as pd\n",
        "import numpy as np\n",
        "from sklearn.datasets import load_iris\n",
        "from sklearn.linear_model import SGDClassifier\n",
        "from sklearn.model_selection import GridSearchCV\n",
        "import seaborn as sns\n",
        "import matplotlib.pyplot as plt"
      ]
    },
    {
      "cell_type": "code",
      "source": [
        "from google.colab import drive\n",
        "drive.mount('/content/drive')"
      ],
      "metadata": {
        "colab": {
          "base_uri": "https://localhost:8080/"
        },
        "id": "2jj07U1ckRnN",
        "outputId": "a22693c1-f3d4-4226-fc32-39462f5818f8"
      },
      "execution_count": null,
      "outputs": [
        {
          "output_type": "stream",
          "name": "stdout",
          "text": [
            "Mounted at /content/drive\n"
          ]
        }
      ]
    },
    {
      "cell_type": "code",
      "source": [
        "df=pd.read_csv(\"drive/My Drive/task_d.csv\")\n",
        "df.head(2)"
      ],
      "metadata": {
        "colab": {
          "base_uri": "https://localhost:8080/",
          "height": 112
        },
        "id": "MwdEZmWbkR6_",
        "outputId": "b3fd3329-29e3-413e-e81c-1098b2d1b6dd"
      },
      "execution_count": null,
      "outputs": [
        {
          "output_type": "execute_result",
          "data": {
            "text/plain": [
              "          x         y         z       x*x       2*y  2*z+3*x*x         w  \\\n",
              "0 -0.581066  0.841837 -1.012978 -0.604025  0.841837  -0.665927 -0.536277   \n",
              "1 -0.894309 -0.207835 -1.012978 -0.883052 -0.207835  -0.917054 -0.522364   \n",
              "\n",
              "   target  \n",
              "0       0  \n",
              "1       0  "
            ],
            "text/html": [
              "\n",
              "  <div id=\"df-e9647cdc-c9e1-4360-8c5a-0588e6a58e91\">\n",
              "    <div class=\"colab-df-container\">\n",
              "      <div>\n",
              "<style scoped>\n",
              "    .dataframe tbody tr th:only-of-type {\n",
              "        vertical-align: middle;\n",
              "    }\n",
              "\n",
              "    .dataframe tbody tr th {\n",
              "        vertical-align: top;\n",
              "    }\n",
              "\n",
              "    .dataframe thead th {\n",
              "        text-align: right;\n",
              "    }\n",
              "</style>\n",
              "<table border=\"1\" class=\"dataframe\">\n",
              "  <thead>\n",
              "    <tr style=\"text-align: right;\">\n",
              "      <th></th>\n",
              "      <th>x</th>\n",
              "      <th>y</th>\n",
              "      <th>z</th>\n",
              "      <th>x*x</th>\n",
              "      <th>2*y</th>\n",
              "      <th>2*z+3*x*x</th>\n",
              "      <th>w</th>\n",
              "      <th>target</th>\n",
              "    </tr>\n",
              "  </thead>\n",
              "  <tbody>\n",
              "    <tr>\n",
              "      <th>0</th>\n",
              "      <td>-0.581066</td>\n",
              "      <td>0.841837</td>\n",
              "      <td>-1.012978</td>\n",
              "      <td>-0.604025</td>\n",
              "      <td>0.841837</td>\n",
              "      <td>-0.665927</td>\n",
              "      <td>-0.536277</td>\n",
              "      <td>0</td>\n",
              "    </tr>\n",
              "    <tr>\n",
              "      <th>1</th>\n",
              "      <td>-0.894309</td>\n",
              "      <td>-0.207835</td>\n",
              "      <td>-1.012978</td>\n",
              "      <td>-0.883052</td>\n",
              "      <td>-0.207835</td>\n",
              "      <td>-0.917054</td>\n",
              "      <td>-0.522364</td>\n",
              "      <td>0</td>\n",
              "    </tr>\n",
              "  </tbody>\n",
              "</table>\n",
              "</div>\n",
              "      <button class=\"colab-df-convert\" onclick=\"convertToInteractive('df-e9647cdc-c9e1-4360-8c5a-0588e6a58e91')\"\n",
              "              title=\"Convert this dataframe to an interactive table.\"\n",
              "              style=\"display:none;\">\n",
              "        \n",
              "  <svg xmlns=\"http://www.w3.org/2000/svg\" height=\"24px\"viewBox=\"0 0 24 24\"\n",
              "       width=\"24px\">\n",
              "    <path d=\"M0 0h24v24H0V0z\" fill=\"none\"/>\n",
              "    <path d=\"M18.56 5.44l.94 2.06.94-2.06 2.06-.94-2.06-.94-.94-2.06-.94 2.06-2.06.94zm-11 1L8.5 8.5l.94-2.06 2.06-.94-2.06-.94L8.5 2.5l-.94 2.06-2.06.94zm10 10l.94 2.06.94-2.06 2.06-.94-2.06-.94-.94-2.06-.94 2.06-2.06.94z\"/><path d=\"M17.41 7.96l-1.37-1.37c-.4-.4-.92-.59-1.43-.59-.52 0-1.04.2-1.43.59L10.3 9.45l-7.72 7.72c-.78.78-.78 2.05 0 2.83L4 21.41c.39.39.9.59 1.41.59.51 0 1.02-.2 1.41-.59l7.78-7.78 2.81-2.81c.8-.78.8-2.07 0-2.86zM5.41 20L4 18.59l7.72-7.72 1.47 1.35L5.41 20z\"/>\n",
              "  </svg>\n",
              "      </button>\n",
              "      \n",
              "  <style>\n",
              "    .colab-df-container {\n",
              "      display:flex;\n",
              "      flex-wrap:wrap;\n",
              "      gap: 12px;\n",
              "    }\n",
              "\n",
              "    .colab-df-convert {\n",
              "      background-color: #E8F0FE;\n",
              "      border: none;\n",
              "      border-radius: 50%;\n",
              "      cursor: pointer;\n",
              "      display: none;\n",
              "      fill: #1967D2;\n",
              "      height: 32px;\n",
              "      padding: 0 0 0 0;\n",
              "      width: 32px;\n",
              "    }\n",
              "\n",
              "    .colab-df-convert:hover {\n",
              "      background-color: #E2EBFA;\n",
              "      box-shadow: 0px 1px 2px rgba(60, 64, 67, 0.3), 0px 1px 3px 1px rgba(60, 64, 67, 0.15);\n",
              "      fill: #174EA6;\n",
              "    }\n",
              "\n",
              "    [theme=dark] .colab-df-convert {\n",
              "      background-color: #3B4455;\n",
              "      fill: #D2E3FC;\n",
              "    }\n",
              "\n",
              "    [theme=dark] .colab-df-convert:hover {\n",
              "      background-color: #434B5C;\n",
              "      box-shadow: 0px 1px 3px 1px rgba(0, 0, 0, 0.15);\n",
              "      filter: drop-shadow(0px 1px 2px rgba(0, 0, 0, 0.3));\n",
              "      fill: #FFFFFF;\n",
              "    }\n",
              "  </style>\n",
              "\n",
              "      <script>\n",
              "        const buttonEl =\n",
              "          document.querySelector('#df-e9647cdc-c9e1-4360-8c5a-0588e6a58e91 button.colab-df-convert');\n",
              "        buttonEl.style.display =\n",
              "          google.colab.kernel.accessAllowed ? 'block' : 'none';\n",
              "\n",
              "        async function convertToInteractive(key) {\n",
              "          const element = document.querySelector('#df-e9647cdc-c9e1-4360-8c5a-0588e6a58e91');\n",
              "          const dataTable =\n",
              "            await google.colab.kernel.invokeFunction('convertToInteractive',\n",
              "                                                     [key], {});\n",
              "          if (!dataTable) return;\n",
              "\n",
              "          const docLinkHtml = 'Like what you see? Visit the ' +\n",
              "            '<a target=\"_blank\" href=https://colab.research.google.com/notebooks/data_table.ipynb>data table notebook</a>'\n",
              "            + ' to learn more about interactive tables.';\n",
              "          element.innerHTML = '';\n",
              "          dataTable['output_type'] = 'display_data';\n",
              "          await google.colab.output.renderOutput(dataTable, element);\n",
              "          const docLink = document.createElement('div');\n",
              "          docLink.innerHTML = docLinkHtml;\n",
              "          element.appendChild(docLink);\n",
              "        }\n",
              "      </script>\n",
              "    </div>\n",
              "  </div>\n",
              "  "
            ]
          },
          "metadata": {},
          "execution_count": 43
        }
      ]
    },
    {
      "cell_type": "code",
      "source": [
        "X = df.drop(['target'],axis=1).values\n",
        "Y = df['target'].values"
      ],
      "metadata": {
        "id": "vlwho-LykSEm"
      },
      "execution_count": null,
      "outputs": []
    },
    {
      "cell_type": "code",
      "source": [
        "df.corr()"
      ],
      "metadata": {
        "colab": {
          "base_uri": "https://localhost:8080/",
          "height": 300
        },
        "id": "UtbZLdN8kSQ1",
        "outputId": "1f6b2749-1a8b-4b49-dcb3-3a28d4f59bf5"
      },
      "execution_count": null,
      "outputs": [
        {
          "output_type": "execute_result",
          "data": {
            "text/plain": [
              "                  x         y         z       x*x       2*y  2*z+3*x*x  \\\n",
              "x          1.000000 -0.205926  0.812458  0.997947 -0.205926   0.996252   \n",
              "y         -0.205926  1.000000 -0.602663 -0.209289  1.000000  -0.261123   \n",
              "z          0.812458 -0.602663  1.000000  0.807137 -0.602663   0.847163   \n",
              "x*x        0.997947 -0.209289  0.807137  1.000000 -0.209289   0.997457   \n",
              "2*y       -0.205926  1.000000 -0.602663 -0.209289  1.000000  -0.261123   \n",
              "2*z+3*x*x  0.996252 -0.261123  0.847163  0.997457 -0.261123   1.000000   \n",
              "w          0.583277 -0.401790  0.674486  0.583803 -0.401790   0.606860   \n",
              "target     0.728290 -0.690684  0.969990  0.719570 -0.690684   0.764729   \n",
              "\n",
              "                  w    target  \n",
              "x          0.583277  0.728290  \n",
              "y         -0.401790 -0.690684  \n",
              "z          0.674486  0.969990  \n",
              "x*x        0.583803  0.719570  \n",
              "2*y       -0.401790 -0.690684  \n",
              "2*z+3*x*x  0.606860  0.764729  \n",
              "w          1.000000  0.641750  \n",
              "target     0.641750  1.000000  "
            ],
            "text/html": [
              "\n",
              "  <div id=\"df-5cc44942-8cde-4f86-bf6c-5a86d35cf3bc\">\n",
              "    <div class=\"colab-df-container\">\n",
              "      <div>\n",
              "<style scoped>\n",
              "    .dataframe tbody tr th:only-of-type {\n",
              "        vertical-align: middle;\n",
              "    }\n",
              "\n",
              "    .dataframe tbody tr th {\n",
              "        vertical-align: top;\n",
              "    }\n",
              "\n",
              "    .dataframe thead th {\n",
              "        text-align: right;\n",
              "    }\n",
              "</style>\n",
              "<table border=\"1\" class=\"dataframe\">\n",
              "  <thead>\n",
              "    <tr style=\"text-align: right;\">\n",
              "      <th></th>\n",
              "      <th>x</th>\n",
              "      <th>y</th>\n",
              "      <th>z</th>\n",
              "      <th>x*x</th>\n",
              "      <th>2*y</th>\n",
              "      <th>2*z+3*x*x</th>\n",
              "      <th>w</th>\n",
              "      <th>target</th>\n",
              "    </tr>\n",
              "  </thead>\n",
              "  <tbody>\n",
              "    <tr>\n",
              "      <th>x</th>\n",
              "      <td>1.000000</td>\n",
              "      <td>-0.205926</td>\n",
              "      <td>0.812458</td>\n",
              "      <td>0.997947</td>\n",
              "      <td>-0.205926</td>\n",
              "      <td>0.996252</td>\n",
              "      <td>0.583277</td>\n",
              "      <td>0.728290</td>\n",
              "    </tr>\n",
              "    <tr>\n",
              "      <th>y</th>\n",
              "      <td>-0.205926</td>\n",
              "      <td>1.000000</td>\n",
              "      <td>-0.602663</td>\n",
              "      <td>-0.209289</td>\n",
              "      <td>1.000000</td>\n",
              "      <td>-0.261123</td>\n",
              "      <td>-0.401790</td>\n",
              "      <td>-0.690684</td>\n",
              "    </tr>\n",
              "    <tr>\n",
              "      <th>z</th>\n",
              "      <td>0.812458</td>\n",
              "      <td>-0.602663</td>\n",
              "      <td>1.000000</td>\n",
              "      <td>0.807137</td>\n",
              "      <td>-0.602663</td>\n",
              "      <td>0.847163</td>\n",
              "      <td>0.674486</td>\n",
              "      <td>0.969990</td>\n",
              "    </tr>\n",
              "    <tr>\n",
              "      <th>x*x</th>\n",
              "      <td>0.997947</td>\n",
              "      <td>-0.209289</td>\n",
              "      <td>0.807137</td>\n",
              "      <td>1.000000</td>\n",
              "      <td>-0.209289</td>\n",
              "      <td>0.997457</td>\n",
              "      <td>0.583803</td>\n",
              "      <td>0.719570</td>\n",
              "    </tr>\n",
              "    <tr>\n",
              "      <th>2*y</th>\n",
              "      <td>-0.205926</td>\n",
              "      <td>1.000000</td>\n",
              "      <td>-0.602663</td>\n",
              "      <td>-0.209289</td>\n",
              "      <td>1.000000</td>\n",
              "      <td>-0.261123</td>\n",
              "      <td>-0.401790</td>\n",
              "      <td>-0.690684</td>\n",
              "    </tr>\n",
              "    <tr>\n",
              "      <th>2*z+3*x*x</th>\n",
              "      <td>0.996252</td>\n",
              "      <td>-0.261123</td>\n",
              "      <td>0.847163</td>\n",
              "      <td>0.997457</td>\n",
              "      <td>-0.261123</td>\n",
              "      <td>1.000000</td>\n",
              "      <td>0.606860</td>\n",
              "      <td>0.764729</td>\n",
              "    </tr>\n",
              "    <tr>\n",
              "      <th>w</th>\n",
              "      <td>0.583277</td>\n",
              "      <td>-0.401790</td>\n",
              "      <td>0.674486</td>\n",
              "      <td>0.583803</td>\n",
              "      <td>-0.401790</td>\n",
              "      <td>0.606860</td>\n",
              "      <td>1.000000</td>\n",
              "      <td>0.641750</td>\n",
              "    </tr>\n",
              "    <tr>\n",
              "      <th>target</th>\n",
              "      <td>0.728290</td>\n",
              "      <td>-0.690684</td>\n",
              "      <td>0.969990</td>\n",
              "      <td>0.719570</td>\n",
              "      <td>-0.690684</td>\n",
              "      <td>0.764729</td>\n",
              "      <td>0.641750</td>\n",
              "      <td>1.000000</td>\n",
              "    </tr>\n",
              "  </tbody>\n",
              "</table>\n",
              "</div>\n",
              "      <button class=\"colab-df-convert\" onclick=\"convertToInteractive('df-5cc44942-8cde-4f86-bf6c-5a86d35cf3bc')\"\n",
              "              title=\"Convert this dataframe to an interactive table.\"\n",
              "              style=\"display:none;\">\n",
              "        \n",
              "  <svg xmlns=\"http://www.w3.org/2000/svg\" height=\"24px\"viewBox=\"0 0 24 24\"\n",
              "       width=\"24px\">\n",
              "    <path d=\"M0 0h24v24H0V0z\" fill=\"none\"/>\n",
              "    <path d=\"M18.56 5.44l.94 2.06.94-2.06 2.06-.94-2.06-.94-.94-2.06-.94 2.06-2.06.94zm-11 1L8.5 8.5l.94-2.06 2.06-.94-2.06-.94L8.5 2.5l-.94 2.06-2.06.94zm10 10l.94 2.06.94-2.06 2.06-.94-2.06-.94-.94-2.06-.94 2.06-2.06.94z\"/><path d=\"M17.41 7.96l-1.37-1.37c-.4-.4-.92-.59-1.43-.59-.52 0-1.04.2-1.43.59L10.3 9.45l-7.72 7.72c-.78.78-.78 2.05 0 2.83L4 21.41c.39.39.9.59 1.41.59.51 0 1.02-.2 1.41-.59l7.78-7.78 2.81-2.81c.8-.78.8-2.07 0-2.86zM5.41 20L4 18.59l7.72-7.72 1.47 1.35L5.41 20z\"/>\n",
              "  </svg>\n",
              "      </button>\n",
              "      \n",
              "  <style>\n",
              "    .colab-df-container {\n",
              "      display:flex;\n",
              "      flex-wrap:wrap;\n",
              "      gap: 12px;\n",
              "    }\n",
              "\n",
              "    .colab-df-convert {\n",
              "      background-color: #E8F0FE;\n",
              "      border: none;\n",
              "      border-radius: 50%;\n",
              "      cursor: pointer;\n",
              "      display: none;\n",
              "      fill: #1967D2;\n",
              "      height: 32px;\n",
              "      padding: 0 0 0 0;\n",
              "      width: 32px;\n",
              "    }\n",
              "\n",
              "    .colab-df-convert:hover {\n",
              "      background-color: #E2EBFA;\n",
              "      box-shadow: 0px 1px 2px rgba(60, 64, 67, 0.3), 0px 1px 3px 1px rgba(60, 64, 67, 0.15);\n",
              "      fill: #174EA6;\n",
              "    }\n",
              "\n",
              "    [theme=dark] .colab-df-convert {\n",
              "      background-color: #3B4455;\n",
              "      fill: #D2E3FC;\n",
              "    }\n",
              "\n",
              "    [theme=dark] .colab-df-convert:hover {\n",
              "      background-color: #434B5C;\n",
              "      box-shadow: 0px 1px 3px 1px rgba(0, 0, 0, 0.15);\n",
              "      filter: drop-shadow(0px 1px 2px rgba(0, 0, 0, 0.3));\n",
              "      fill: #FFFFFF;\n",
              "    }\n",
              "  </style>\n",
              "\n",
              "      <script>\n",
              "        const buttonEl =\n",
              "          document.querySelector('#df-5cc44942-8cde-4f86-bf6c-5a86d35cf3bc button.colab-df-convert');\n",
              "        buttonEl.style.display =\n",
              "          google.colab.kernel.accessAllowed ? 'block' : 'none';\n",
              "\n",
              "        async function convertToInteractive(key) {\n",
              "          const element = document.querySelector('#df-5cc44942-8cde-4f86-bf6c-5a86d35cf3bc');\n",
              "          const dataTable =\n",
              "            await google.colab.kernel.invokeFunction('convertToInteractive',\n",
              "                                                     [key], {});\n",
              "          if (!dataTable) return;\n",
              "\n",
              "          const docLinkHtml = 'Like what you see? Visit the ' +\n",
              "            '<a target=\"_blank\" href=https://colab.research.google.com/notebooks/data_table.ipynb>data table notebook</a>'\n",
              "            + ' to learn more about interactive tables.';\n",
              "          element.innerHTML = '';\n",
              "          dataTable['output_type'] = 'display_data';\n",
              "          await google.colab.output.renderOutput(dataTable, element);\n",
              "          const docLink = document.createElement('div');\n",
              "          docLink.innerHTML = docLinkHtml;\n",
              "          element.appendChild(docLink);\n",
              "        }\n",
              "      </script>\n",
              "    </div>\n",
              "  </div>\n",
              "  "
            ]
          },
          "metadata": {},
          "execution_count": 45
        }
      ]
    },
    {
      "cell_type": "code",
      "source": [
        "sns.heatmap(df.corr())"
      ],
      "metadata": {
        "colab": {
          "base_uri": "https://localhost:8080/",
          "height": 329
        },
        "id": "3U_XFTsTmZi7",
        "outputId": "d97fedb9-b120-4601-d55f-f631537a7919"
      },
      "execution_count": null,
      "outputs": [
        {
          "output_type": "execute_result",
          "data": {
            "text/plain": [
              "<matplotlib.axes._subplots.AxesSubplot at 0x7fc4e9a2b1d0>"
            ]
          },
          "metadata": {},
          "execution_count": 46
        },
        {
          "output_type": "display_data",
          "data": {
            "text/plain": [
              "<Figure size 432x288 with 2 Axes>"
            ],
            "image/png": "[encoded data removed]"
          },
          "metadata": {
            "needs_background": "light"
          }
        }
      ]
    },
    {
      "cell_type": "markdown",
      "source": [
        "Task 1: Logistic Regression"
      ],
      "metadata": {
        "id": "lCquslhNyuG2"
      }
    },
    {
      "cell_type": "code",
      "source": [
        "clf = SGDClassifier(loss='log',penalty='l2')"
      ],
      "metadata": {
        "id": "3-KM-w19mZpz"
      },
      "execution_count": null,
      "outputs": []
    },
    {
      "cell_type": "code",
      "source": [
        "param_grid ={'alpha':np.logspace(-4,4,5)}"
      ],
      "metadata": {
        "id": "v5UDX3x8pvJv"
      },
      "execution_count": null,
      "outputs": []
    },
    {
      "cell_type": "code",
      "source": [
        "params = GridSearchCV(clf,param_grid,cv=5)"
      ],
      "metadata": {
        "id": "Ea-eEw64mZvp"
      },
      "execution_count": null,
      "outputs": []
    },
    {
      "cell_type": "code",
      "source": [
        "params.fit(X,Y)\n",
        "print(\"best score\",params.best_score_)\n",
        "print(\"best params\",params.best_params_)"
      ],
      "metadata": {
        "colab": {
          "base_uri": "https://localhost:8080/"
        },
        "id": "sNAQhE_nmZzp",
        "outputId": "979a01b4-9787-46ff-de6f-22c0280cced0"
      },
      "execution_count": null,
      "outputs": [
        {
          "output_type": "stream",
          "name": "stdout",
          "text": [
            "best score 1.0\n",
            "best params {'alpha': 0.01}\n"
          ]
        }
      ]
    },
    {
      "cell_type": "code",
      "source": [
        "#now creating the logistic regression with the best parameter values"
      ],
      "metadata": {
        "id": "3bJmzVgRqkkA"
      },
      "execution_count": null,
      "outputs": []
    },
    {
      "cell_type": "code",
      "source": [
        "clf_best = SGDClassifier(loss='log',penalty='l2',alpha=0.0001)\n",
        "clf_best.fit(X,Y)\n",
        "best_logistic_model_weights=clf_best.coef_\n",
        "best_logistic_model_accuracy=clf_best.score(X,Y)\n",
        "print(\"accuracy\",best_logistic_model_accuracy)\n",
        "print(\"weights\",best_logistic_model_weights)"
      ],
      "metadata": {
        "colab": {
          "base_uri": "https://localhost:8080/"
        },
        "id": "ElTbcBYgqktl",
        "outputId": "c1b31382-80fc-4a3b-d59f-fb0c7560c112"
      },
      "execution_count": null,
      "outputs": [
        {
          "output_type": "stream",
          "name": "stdout",
          "text": [
            "accuracy 1.0\n",
            "weights [[ 9.46221105 -6.42873303 15.37509214  8.4656533  -6.42873303  9.47543456\n",
            "   8.38250089]]\n"
          ]
        }
      ]
    },
    {
      "cell_type": "code",
      "source": [
        "X = X + np.random.normal(0,10**-2,X.shape)\n",
        "# train best model on noisy data\n",
        "\n",
        "clf_best.fit(X,Y)\n",
        "\n",
        "\n",
        "best_logistic_model_accuracy_edited = clf_best.score(X,Y)\n",
        "print(\" best logistic model accuracy edited \", best_logistic_model_accuracy_edited)\n",
        "best_logistic_model_weights_edited = clf_best.coef_\n",
        "print(\"Best logistic model coefficents edited\", best_logistic_model_weights_edited)"
      ],
      "metadata": {
        "colab": {
          "base_uri": "https://localhost:8080/"
        },
        "id": "ffqNUeT3qkxq",
        "outputId": "ba8d9b93-e76c-492c-d125-f74d29160b0b"
      },
      "execution_count": null,
      "outputs": [
        {
          "output_type": "stream",
          "name": "stdout",
          "text": [
            " best logistic model accuracy edited  1.0\n",
            "Best logistic model coefficents edited [[ 7.57907121 -8.18797292 18.03619874  6.95340082 -8.15968581  8.56621971\n",
            "  14.73434938]]\n"
          ]
        }
      ]
    },
    {
      "cell_type": "code",
      "source": [
        "difference = abs(best_logistic_model_accuracy_edited - best_logistic_model_accuracy)\n",
        "print(\"difference between 'best_model_accuracy_edited' and 'best_model_accuracy'\", difference)"
      ],
      "metadata": {
        "colab": {
          "base_uri": "https://localhost:8080/"
        },
        "id": "mRT2vmogqk1E",
        "outputId": "008058f7-9fc4-41a3-9388-f89d88a7396c"
      },
      "execution_count": null,
      "outputs": [
        {
          "output_type": "stream",
          "name": "stdout",
          "text": [
            "difference between 'best_model_accuracy_edited' and 'best_model_accuracy' 0.0\n"
          ]
        }
      ]
    },
    {
      "cell_type": "code",
      "source": [
        "abs_weight_difference = abs(best_logistic_model_weights - best_logistic_model_weights_edited)\n",
        "print(f\"absolute weights difference\", abs_weight_difference)\n",
        "abs_weight_percent_diff = abs_weight_difference*100\n",
        "print(f\"absolute weights percent difference\", abs_weight_percent_diff)\n",
        "\n",
        "top4 = np.argsort(-abs_weight_percent_diff)[:,:4]\n",
        "print('Top 4 feature index ',top4[:4]) #Top 4 feture index with highest difference in weights\n",
        "\n",
        "features = df.columns\n",
        "\n",
        "print(\"Top 4 features having highest absolute percentage weight change are\", features[top4])"
      ],
      "metadata": {
        "colab": {
          "base_uri": "https://localhost:8080/"
        },
        "id": "OtP5nVyHvqEt",
        "outputId": "7462f05f-39ca-42f0-a56c-bc0b7422bcc0"
      },
      "execution_count": null,
      "outputs": [
        {
          "output_type": "stream",
          "name": "stdout",
          "text": [
            "absolute weights difference [[1.88313985 1.7592399  2.6611066  1.51225248 1.73095278 0.90921484\n",
            "  6.35184849]]\n",
            "absolute weights percent difference [[188.31398468 175.92398981 266.11065974 151.22524784 173.09527796\n",
            "   90.92148448 635.18484861]]\n",
            "Top 4 feature index  [[6 2 0 1]]\n",
            "Top 4 features having highest absolute percentage weight change are [['w' 'z' 'x' 'y']]\n"
          ]
        }
      ]
    },
    {
      "cell_type": "code",
      "source": [
        ""
      ],
      "metadata": {
        "id": "s8BaAQodvqMv"
      },
      "execution_count": null,
      "outputs": []
    },
    {
      "cell_type": "markdown",
      "source": [
        "Task 2: Linear SVM"
      ],
      "metadata": {
        "id": "jfpsVuQArfr4"
      }
    },
    {
      "cell_type": "code",
      "source": [
        "clf1 = SGDClassifier(loss='hinge',penalty='l2')\n",
        "param_grid ={'alpha':np.logspace(-4,4,5)}\n",
        "params = GridSearchCV(clf1,param_grid,cv=5)\n",
        "params.fit(X,Y)\n",
        "print(\"best score\",params.best_score_)\n",
        "print(\"best params\",params.best_params_)"
      ],
      "metadata": {
        "colab": {
          "base_uri": "https://localhost:8080/"
        },
        "id": "29LBIsdmvqQ3",
        "outputId": "54ab5da2-56f5-43f0-d970-7786082027cc"
      },
      "execution_count": null,
      "outputs": [
        {
          "output_type": "stream",
          "name": "stdout",
          "text": [
            "best score 1.0\n",
            "best params {'alpha': 0.01}\n"
          ]
        }
      ]
    },
    {
      "cell_type": "code",
      "source": [
        "clf1_best = SGDClassifier(loss='hinge',penalty='l2',alpha=0.01)\n",
        "clf1_best.fit(X,Y)\n",
        "best_linsvm_model_weights=clf1_best.coef_\n",
        "best_linsvm_model_accuracy=clf1_best.score(X,Y)\n"
      ],
      "metadata": {
        "id": "XRIAveV1vqYi"
      },
      "execution_count": null,
      "outputs": []
    },
    {
      "cell_type": "code",
      "source": [
        "print(\"model weights:\",best_logistic_model_weights)\n",
        "print(\"model accuracy:\",best_logistic_model_accuracy)"
      ],
      "metadata": {
        "colab": {
          "base_uri": "https://localhost:8080/"
        },
        "id": "NVzCOjTcAR-u",
        "outputId": "82945ee2-dc6e-4fc5-a210-2516e7e6d57d"
      },
      "execution_count": null,
      "outputs": [
        {
          "output_type": "stream",
          "name": "stdout",
          "text": [
            "model weights: [[ 9.46221105 -6.42873303 15.37509214  8.4656533  -6.42873303  9.47543456\n",
            "   8.38250089]]\n",
            "model accuracy: 1.0\n"
          ]
        }
      ]
    },
    {
      "cell_type": "code",
      "source": [
        "X = X + np.random.normal(0,10**-2,X.shape)\n",
        "# train best model on noisy data\n",
        "\n",
        "clf_best.fit(X,Y)\n",
        "\n",
        "\n",
        "best_linsvm_model_accuracy_edited = clf1_best.score(X,Y)\n",
        "print(\" best logistic model accuracy edited \", best_logistic_model_accuracy_edited)\n",
        "best_linsvm_model_weights_edited = clf1_best.coef_\n",
        "print(\"Best logistic model coefficents edited\", best_logistic_model_weights_edited)"
      ],
      "metadata": {
        "colab": {
          "base_uri": "https://localhost:8080/"
        },
        "id": "3qYlc2EeAwiJ",
        "outputId": "cf2ce343-9f04-449a-e4a5-0a0139dd8be1"
      },
      "execution_count": null,
      "outputs": [
        {
          "output_type": "stream",
          "name": "stdout",
          "text": [
            " best logistic model accuracy edited  1.0\n",
            "Best logistic model coefficents edited [[ 7.57907121 -8.18797292 18.03619874  6.95340082 -8.15968581  8.56621971\n",
            "  14.73434938]]\n"
          ]
        }
      ]
    },
    {
      "cell_type": "code",
      "source": [
        "difference = abs(best_linsvm_model_accuracy_edited - best_linsvm_model_accuracy)\n",
        "print(\"difference between 'best_model_accuracy_edited' and 'best_model_accuracy'\", difference)"
      ],
      "metadata": {
        "colab": {
          "base_uri": "https://localhost:8080/"
        },
        "id": "IitXqDlEAxq1",
        "outputId": "aeba3d55-d7e2-45fd-c296-0aacac5292c0"
      },
      "execution_count": null,
      "outputs": [
        {
          "output_type": "stream",
          "name": "stdout",
          "text": [
            "difference between 'best_model_accuracy_edited' and 'best_model_accuracy' 0.0\n"
          ]
        }
      ]
    },
    {
      "cell_type": "code",
      "source": [
        "abs_weight_difference = abs(best_linsvm_model_weights - best_linsvm_model_weights_edited)\n",
        "print(f\"absolute weights difference\", abs_weight_difference)\n",
        "abs_weight_percent_diff = abs_weight_difference*100\n",
        "print(f\"absolute weights percent difference\", abs_weight_percent_diff)\n",
        "\n",
        "top4 = np.argsort(-abs_weight_percent_diff)[:,:4]\n",
        "print('Top 4 feature index ',top4[:4]) \n",
        "\n",
        "features = df.columns\n",
        "\n",
        "print(\"Top 4 features having highest absolute percentage weight change are\", features[top4])"
      ],
      "metadata": {
        "colab": {
          "base_uri": "https://localhost:8080/"
        },
        "id": "ei83PSnLA5iJ",
        "outputId": "7a0c4c41-9e08-4f3d-c755-33712a7c4268"
      },
      "execution_count": null,
      "outputs": [
        {
          "output_type": "stream",
          "name": "stdout",
          "text": [
            "absolute weights difference [[0. 0. 0. 0. 0. 0. 0.]]\n",
            "absolute weights percent difference [[0. 0. 0. 0. 0. 0. 0.]]\n",
            "Top 4 feature index  [[0 1 2 3]]\n",
            "Top 4 features having highest absolute percentage weight change are [['x' 'y' 'z' 'x*x']]\n"
          ]
        }
      ]
    },
    {
      "cell_type": "code",
      "source": [
        ""
      ],
      "metadata": {
        "id": "nWSP8HPWQn9P"
      },
      "execution_count": null,
      "outputs": []
    },
    {
      "cell_type": "markdown",
      "source": [
        "Observations:\n",
        "\n",
        "*   We can see that the model accuracy is not changed even after adding the noise to the  data.\n",
        "*   There is a difference that can be seen in the weights.\n",
        "\n",
        "\n",
        "*   There is collinearity between features and since the accuracy was not changed as much we can say that this collinearity was preserved even after the noise was added.\n",
        "\n",
        "\n",
        "\n",
        "\n"
      ],
      "metadata": {
        "id": "GoL6iiE41-3w"
      }
    },
    {
      "cell_type": "markdown",
      "source": [
        "8 E"
      ],
      "metadata": {
        "id": "9LCmYhpTQp9Z"
      }
    },
    {
      "cell_type": "code",
      "source": [
        "#https://github.com/cr21/Behavior-of-Linear-Model-Machine-Learning-Study/blob/main/SVM_RBF_Kernel_8E.ipynb"
      ],
      "metadata": {
        "id": "t8qpO8TXSc3p"
      },
      "execution_count": null,
      "outputs": []
    },
    {
      "cell_type": "code",
      "source": [
        "import numpy as np\n",
        "import pandas as pd\n",
        "from sklearn.datasets import make_classification\n",
        "from sklearn.svm import SVC\n",
        "from sklearn.model_selection import train_test_split"
      ],
      "metadata": {
        "id": "U6LR8nQnQoFk"
      },
      "execution_count": null,
      "outputs": []
    },
    {
      "cell_type": "code",
      "source": [
        "X,y = make_classification(n_samples = 5000,n_features = 5,n_redundant=2,n_classes=2,weights=[0.7],class_sep=0.7,random_state=15)"
      ],
      "metadata": {
        "id": "zmz_mirWQoNZ"
      },
      "execution_count": null,
      "outputs": []
    },
    {
      "cell_type": "code",
      "source": [
        "X_train,X_test,y_train,y_test = train_test_split(X,y,test_size=0.4,random_state=42)\n",
        "X_cv,X_test,y_cv,y_test = train_test_split(X_test,y_test,test_size = 0.5,random_state=42)\n",
        "\n",
        "print(\"X Train shape\",X_train.shape )\n",
        "print(\"X Test shape\",X_test.shape )\n",
        "print(\"X Cv shape\",X_cv.shape )                                                                                   \n"
      ],
      "metadata": {
        "colab": {
          "base_uri": "https://localhost:8080/"
        },
        "id": "yefkv3qnQoSt",
        "outputId": "de639563-45d5-4bdc-d4aa-5719b7a6828d"
      },
      "execution_count": null,
      "outputs": [
        {
          "output_type": "stream",
          "name": "stdout",
          "text": [
            "X Train shape (3000, 5)\n",
            "X Test shape (1000, 5)\n",
            "X Cv shape (1000, 5)\n"
          ]
        }
      ]
    },
    {
      "cell_type": "code",
      "source": [
        "clf=SVC(gamma=0.001,C=100)\n",
        "clf.fit(X_train,y_train)"
      ],
      "metadata": {
        "colab": {
          "base_uri": "https://localhost:8080/"
        },
        "id": "l3z8ASFrQojQ",
        "outputId": "bcab2637-b9ec-4f93-e062-64aaf1496b18"
      },
      "execution_count": null,
      "outputs": [
        {
          "output_type": "execute_result",
          "data": {
            "text/plain": [
              "SVC(C=100, gamma=0.001)"
            ]
          },
          "metadata": {},
          "execution_count": 7
        }
      ]
    },
    {
      "cell_type": "code",
      "source": [
        "vector_indices = clf.support_\n",
        "vector_dual_coeffs = clf.support_vectors_"
      ],
      "metadata": {
        "id": "WlU2Eb22QonP"
      },
      "execution_count": null,
      "outputs": []
    },
    {
      "cell_type": "code",
      "source": [
        "def rbf_func(x,xi,gamma):\n",
        "  return np.exp(-gamma*np.sum((x-xi)**2,axis=-1))"
      ],
      "metadata": {
        "id": "vwmV680qQorX"
      },
      "execution_count": null,
      "outputs": []
    },
    {
      "cell_type": "code",
      "source": [
        "def kernel_rbf(support_vectors,x,gamma):\n",
        "  kernels = np.zeros((x.shape[0],support_vectors.shape[0]))  #creating kernel matrix cuz we can further fill it with values\n",
        "  for index,point in enumerate(x):\n",
        "    for index1,vector in enumerate(support_vectors): #each point has vectors\n",
        "      rbf_val = rbf_func(point,vector,gamma)\n",
        "      kernels[index][index1] = rbf_val\n",
        "  return kernels    "
      ],
      "metadata": {
        "id": "DdFHdoIMVYU_"
      },
      "execution_count": null,
      "outputs": []
    },
    {
      "cell_type": "code",
      "source": [
        "def decision_func(x,intercept,dual_coeff,support_vector,gamma):\n",
        "  \n",
        "  dec_func = np.sum(dual_coeff*kernel_rbf(support_vector,x,gamma),axis=-1) + intercept\n",
        "  return dec_func"
      ],
      "metadata": {
        "id": "Oem3I86TXvOK"
      },
      "execution_count": null,
      "outputs": []
    },
    {
      "cell_type": "code",
      "source": [
        "dec_func = decision_func(X_cv,clf.intercept_,clf.dual_coef_,clf.support_vectors_,0.001)"
      ],
      "metadata": {
        "id": "bP6es0nuYwMY"
      },
      "execution_count": null,
      "outputs": []
    },
    {
      "cell_type": "code",
      "source": [
        "\n",
        "   "
      ],
      "metadata": {
        "id": "ZnFs6-V-LKbK"
      },
      "execution_count": null,
      "outputs": []
    },
    {
      "cell_type": "markdown",
      "source": [
        "Task F"
      ],
      "metadata": {
        "id": "tDW8rwiogXpJ"
      }
    },
    {
      "cell_type": "code",
      "source": [
        "array_vals,array_count=np.unique(y_train,return_counts=True)\n",
        "print(array_vals,array_count)"
      ],
      "metadata": {
        "colab": {
          "base_uri": "https://localhost:8080/"
        },
        "id": "WQRWBcYmgZTk",
        "outputId": "64b6f67d-7722-444a-d533-45350fc524eb"
      },
      "execution_count": null,
      "outputs": [
        {
          "output_type": "stream",
          "name": "stdout",
          "text": [
            "[0 1] [2070  930]\n"
          ]
        }
      ]
    },
    {
      "cell_type": "code",
      "source": [
        "def calibProb(Y):\n",
        "  n_positive = array_count[1]\n",
        "  n_negative = array_count[0]\n",
        "  print(\"positive values:\",n_positive)\n",
        "  print(\"negative values:\",n_negative)\n",
        "  calib_y_positive = (n_positive + 1) / (n_positive + 2)\n",
        "  calib_y_negative = 1/ (n_negative + 2)\n",
        "  return calib_y_positive,calib_y_negative"
      ],
      "metadata": {
        "id": "UGreh12DgZs7"
      },
      "execution_count": null,
      "outputs": []
    },
    {
      "cell_type": "code",
      "source": [
        "calib_pos_cv,calib_neg_cv = calibProb(y_cv)\n",
        "print(\"calib_pos_cv: {}, calib_neg_cv; {}\".format(calib_pos_cv,calib_neg_cv))"
      ],
      "metadata": {
        "colab": {
          "base_uri": "https://localhost:8080/"
        },
        "id": "33mhCw7-gZzg",
        "outputId": "f6fb3f22-aa10-45e5-cc43-4a37735f87d2"
      },
      "execution_count": null,
      "outputs": [
        {
          "output_type": "stream",
          "name": "stdout",
          "text": [
            "positive values: 930\n",
            "negative values: 2070\n",
            "calib_pos_cv: 0.9989270386266095, calib_neg_cv; 0.00048262548262548264\n"
          ]
        }
      ]
    },
    {
      "cell_type": "code",
      "source": [
        "def updated_y(y, y_train ):\n",
        "  updated_y = []\n",
        "  calib_y_pos, calib_y_neg = calibProb(y_train)\n",
        "  for i in y:\n",
        "    if i == 1:\n",
        "      updated_y.append(calib_y_pos)\n",
        "    else:\n",
        "      updated_y.append(calib_y_neg)\n",
        "  return updated_y"
      ],
      "metadata": {
        "id": "cVQX3AyEgZ5J"
      },
      "execution_count": null,
      "outputs": []
    },
    {
      "cell_type": "code",
      "source": [
        "def sigmoid(w,x,b):\n",
        "  return 1/(1+np.exp(-(np.dot(x,w.T)+b)))"
      ],
      "metadata": {
        "id": "kx2eGMz9suY3"
      },
      "execution_count": null,
      "outputs": []
    },
    {
      "cell_type": "code",
      "source": [
        "def log_loss(w,b,x,y):\n",
        "  sum_log = 0\n",
        "  for i in range(n):\n",
        "    sum_log += y[i]*np.log10(sigmoid(w,x[i],b)) + (1-y[i])*np.log10(1-sigmoid(w,x[i],b))\n",
        "    return -1*sum_log/n"
      ],
      "metadata": {
        "id": "EkYXFaLWtAvO"
      },
      "execution_count": null,
      "outputs": []
    },
    {
      "cell_type": "code",
      "source": [
        "n = len(dec_func)\n",
        "f_cv = dec_func\n",
        "w = np.zeros_like(f_cv[0],)\n",
        "b = 0\n",
        "eta0 = 0.001\n",
        "alpha = 0.0001\n",
        "\n",
        "cv_loss = []\n",
        "EPOCH = 1\n",
        "prevLoss = float(\"inf\")\n",
        "y = updated_y(y_cv,y_train)\n",
        "for epoch in range(0,10):\n",
        "  \n",
        "  for j in range(N):\n",
        "    w =  ((1-((eta0*alpha)/N)) * w) + (eta0 * f_cv[j]) * (y[j] -sigmoid(w,f_cv[j],b))\n",
        "    b = b + (eta0)*(y[j] - sigmoid(w,f_cv[j],b))\n",
        "    loss = log_loss(w,b,f_cv,y)\n",
        "    \n",
        "  loss_val = log_loss(w,b,f_cv,y)\n",
        "  cv_loss.append(loss_val)\n"
      ],
      "metadata": {
        "colab": {
          "base_uri": "https://localhost:8080/"
        },
        "id": "Lm1DjGv8P3aQ",
        "outputId": "d7c73001-980f-42db-8d4b-a96299cc5374"
      },
      "execution_count": null,
      "outputs": [
        {
          "output_type": "stream",
          "name": "stdout",
          "text": [
            "positive values: 930\n",
            "negative values: 2070\n"
          ]
        }
      ]
    },
    {
      "cell_type": "code",
      "source": [
        "import matplotlib.pyplot as plt \n",
        "epoch=np.arange(0,10) \n",
        "plt.plot(epoch,cv_loss,label='f_cv_loss')\n",
        "plt.legend()\n",
        "plt.xlabel(\"Number of epoch\")\n",
        "plt.ylabel(\"log loss\")\n",
        "plt.title(\"epoch v/s log loss\")\n",
        "plt.show()"
      ],
      "metadata": {
        "colab": {
          "base_uri": "https://localhost:8080/",
          "height": 295
        },
        "id": "jWQ_Yxe-P3e8",
        "outputId": "2705fd14-8b3f-459d-99d5-2cd4db91ea88"
      },
      "execution_count": null,
      "outputs": [
        {
          "output_type": "display_data",
          "data": {
            "text/plain": [
              "<Figure size 432x288 with 1 Axes>"
            ],
            "image/png": "[encoded data removed]"
          },
          "metadata": {
            "needs_background": "light"
          }
        }
      ]
    },
    {
      "cell_type": "code",
      "source": [
        "optimized_w = w\n",
        "optimized_b = b\n",
        "print(\"optimized_w {} optimized_b {}\".format(optimized_w,optimized_b) )"
      ],
      "metadata": {
        "colab": {
          "base_uri": "https://localhost:8080/"
        },
        "id": "6sUfkKAaP3ju",
        "outputId": "76bc5567-8ceb-4b7b-e8df-5dd6f2263ebd"
      },
      "execution_count": null,
      "outputs": [
        {
          "output_type": "stream",
          "name": "stdout",
          "text": [
            "optimized_w 1.4961567940623555 optimized_b -0.14743287088617718\n"
          ]
        }
      ]
    },
    {
      "cell_type": "code",
      "source": [
        "f_test = decision_func(X_test,clf.intercept_, clf.dual_coef_, clf.support_vectors_, 0.001 )"
      ],
      "metadata": {
        "id": "BNqgBhkgRccd"
      },
      "execution_count": null,
      "outputs": []
    },
    {
      "cell_type": "code",
      "source": [
        "probabilties = sigmoid(optimized_w, f_test, optimized_b)"
      ],
      "metadata": {
        "id": "ht2VxJcrRcg1"
      },
      "execution_count": null,
      "outputs": []
    },
    {
      "cell_type": "code",
      "source": [
        ""
      ],
      "metadata": {
        "id": "ge6Wp7JtRclA"
      },
      "execution_count": null,
      "outputs": []
    }
  ]
}